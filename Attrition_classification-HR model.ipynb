{
  "nbformat": 4,
  "nbformat_minor": 0,
  "metadata": {
    "colab": {
      "provenance": []
    },
    "kernelspec": {
      "name": "python3",
      "display_name": "Python 3"
    },
    "language_info": {
      "name": "python"
    }
  },
  "cells": [
    {
      "cell_type": "code",
      "source": [
        "import pandas as pd\n",
        "import numpy as np\n",
        "import matplotlib.pyplot as plt\n",
        "import seaborn as sns\n",
        "import plotly.express as px\n",
        "import warnings\n",
        "warnings.filterwarnings('ignore')\n",
        "%matplotlib inline"
      ],
      "metadata": {
        "id": "pVTJdbn5zPrE"
      },
      "execution_count": null,
      "outputs": []
    },
    {
      "cell_type": "code",
      "execution_count": null,
      "metadata": {
        "id": "02jgc_lccEjr"
      },
      "outputs": [],
      "source": [
        "attrition= pd.read_csv('/content/attrition.csv')"
      ]
    },
    {
      "cell_type": "code",
      "source": [
        "df1= pd.read_csv('/content/df1.csv')"
      ],
      "metadata": {
        "id": "anVK0o6tzlrn"
      },
      "execution_count": null,
      "outputs": []
    },
    {
      "cell_type": "code",
      "source": [
        "df2= pd.read_csv('/content/df2.csv')"
      ],
      "metadata": {
        "id": "lcO9o1dyzz64"
      },
      "execution_count": null,
      "outputs": []
    },
    {
      "cell_type": "code",
      "source": [
        "attrition.info()"
      ],
      "metadata": {
        "colab": {
          "base_uri": "https://localhost:8080/"
        },
        "id": "qE4yAYJtz8lU",
        "outputId": "52d0a3ec-7d30-4a36-e504-4a2255af135f"
      },
      "execution_count": null,
      "outputs": [
        {
          "output_type": "stream",
          "name": "stdout",
          "text": [
            "<class 'pandas.core.frame.DataFrame'>\n",
            "RangeIndex: 4449 entries, 0 to 4448\n",
            "Data columns (total 2 columns):\n",
            " #   Column          Non-Null Count  Dtype \n",
            "---  ------          --------------  ----- \n",
            " 0   EmployeeNumber  4449 non-null   int64 \n",
            " 1   Attrition       4302 non-null   object\n",
            "dtypes: int64(1), object(1)\n",
            "memory usage: 69.6+ KB\n"
          ]
        }
      ]
    },
    {
      "cell_type": "code",
      "source": [
        "df1.info()"
      ],
      "metadata": {
        "colab": {
          "base_uri": "https://localhost:8080/"
        },
        "id": "XISaEp-G0ZgH",
        "outputId": "040c48ee-5abe-4067-c725-e20f7e7b16d3"
      },
      "execution_count": null,
      "outputs": [
        {
          "output_type": "stream",
          "name": "stdout",
          "text": [
            "<class 'pandas.core.frame.DataFrame'>\n",
            "RangeIndex: 4449 entries, 0 to 4448\n",
            "Data columns (total 20 columns):\n",
            " #   Column                   Non-Null Count  Dtype  \n",
            "---  ------                   --------------  -----  \n",
            " 0   EmployeeNumber           4449 non-null   int64  \n",
            " 1   Age                      4449 non-null   float64\n",
            " 2   BusinessTravel           4449 non-null   object \n",
            " 3   DailyRate                4449 non-null   float64\n",
            " 4   Department               4449 non-null   object \n",
            " 5   DistanceFromHome         4449 non-null   float64\n",
            " 6   Education                4449 non-null   float64\n",
            " 7   EducationField           4449 non-null   object \n",
            " 8   EmployeeCount            4449 non-null   float64\n",
            " 9   EnvironmentSatisfaction  4449 non-null   float64\n",
            " 10  Gender                   4449 non-null   object \n",
            " 11  HourlyRate               4449 non-null   float64\n",
            " 12  JobInvolvement           4449 non-null   float64\n",
            " 13  JobLevel                 4449 non-null   float64\n",
            " 14  JobRole                  4449 non-null   object \n",
            " 15  JobSatisfaction          4449 non-null   float64\n",
            " 16  MaritalStatus            4449 non-null   object \n",
            " 17  MonthlyIncome            4449 non-null   float64\n",
            " 18  MonthlyRate              4449 non-null   float64\n",
            " 19  NumCompaniesWorked       4449 non-null   float64\n",
            "dtypes: float64(13), int64(1), object(6)\n",
            "memory usage: 695.3+ KB\n"
          ]
        }
      ]
    },
    {
      "cell_type": "code",
      "source": [
        "df2.info()"
      ],
      "metadata": {
        "colab": {
          "base_uri": "https://localhost:8080/"
        },
        "id": "NM6sgMFeyUpV",
        "outputId": "be8b4597-2a46-45e3-d2b9-8dc44ccdd12c"
      },
      "execution_count": null,
      "outputs": [
        {
          "output_type": "stream",
          "name": "stdout",
          "text": [
            "<class 'pandas.core.frame.DataFrame'>\n",
            "RangeIndex: 4449 entries, 0 to 4448\n",
            "Data columns (total 17 columns):\n",
            " #   Column                    Non-Null Count  Dtype  \n",
            "---  ------                    --------------  -----  \n",
            " 0   EmployeeNumber            4449 non-null   int64  \n",
            " 1   Over18                    4449 non-null   object \n",
            " 2   OverTime                  4449 non-null   object \n",
            " 3   PercentSalaryHike         4449 non-null   float64\n",
            " 4   PerformanceRating         4449 non-null   float64\n",
            " 5   RelationshipSatisfaction  4449 non-null   float64\n",
            " 6   StandardHours             4449 non-null   float64\n",
            " 7   StockOptionLevel          4449 non-null   float64\n",
            " 8   TotalWorkingYears         4449 non-null   float64\n",
            " 9   TrainingTimesLastYear     4449 non-null   float64\n",
            " 10  WorkLifeBalance           4449 non-null   float64\n",
            " 11  YearsAtCompany            4449 non-null   float64\n",
            " 12  YearsInCurrentRole        4449 non-null   float64\n",
            " 13  YearsSinceLastPromotion   4449 non-null   float64\n",
            " 14  YearsWithCurrManager      4449 non-null   float64\n",
            " 15  Attrition                 4302 non-null   object \n",
            " 16  YearlyIncome              4449 non-null   float64\n",
            "dtypes: float64(13), int64(1), object(3)\n",
            "memory usage: 591.0+ KB\n"
          ]
        }
      ]
    },
    {
      "cell_type": "code",
      "source": [
        "attrition.head()"
      ],
      "metadata": {
        "colab": {
          "base_uri": "https://localhost:8080/",
          "height": 206
        },
        "id": "VlNgV2s36Wh_",
        "outputId": "66b9f43f-d50a-4bee-d6d5-4932a8b5ba96"
      },
      "execution_count": null,
      "outputs": [
        {
          "output_type": "execute_result",
          "data": {
            "text/plain": [
              "   EmployeeNumber Attrition\n",
              "0             104        No\n",
              "1            1638        No\n",
              "2             164        No\n",
              "3             395        No\n",
              "4              53        No"
            ],
            "text/html": [
              "\n",
              "  <div id=\"df-360d3d4d-d2a0-429d-9223-3af128149155\">\n",
              "    <div class=\"colab-df-container\">\n",
              "      <div>\n",
              "<style scoped>\n",
              "    .dataframe tbody tr th:only-of-type {\n",
              "        vertical-align: middle;\n",
              "    }\n",
              "\n",
              "    .dataframe tbody tr th {\n",
              "        vertical-align: top;\n",
              "    }\n",
              "\n",
              "    .dataframe thead th {\n",
              "        text-align: right;\n",
              "    }\n",
              "</style>\n",
              "<table border=\"1\" class=\"dataframe\">\n",
              "  <thead>\n",
              "    <tr style=\"text-align: right;\">\n",
              "      <th></th>\n",
              "      <th>EmployeeNumber</th>\n",
              "      <th>Attrition</th>\n",
              "    </tr>\n",
              "  </thead>\n",
              "  <tbody>\n",
              "    <tr>\n",
              "      <th>0</th>\n",
              "      <td>104</td>\n",
              "      <td>No</td>\n",
              "    </tr>\n",
              "    <tr>\n",
              "      <th>1</th>\n",
              "      <td>1638</td>\n",
              "      <td>No</td>\n",
              "    </tr>\n",
              "    <tr>\n",
              "      <th>2</th>\n",
              "      <td>164</td>\n",
              "      <td>No</td>\n",
              "    </tr>\n",
              "    <tr>\n",
              "      <th>3</th>\n",
              "      <td>395</td>\n",
              "      <td>No</td>\n",
              "    </tr>\n",
              "    <tr>\n",
              "      <th>4</th>\n",
              "      <td>53</td>\n",
              "      <td>No</td>\n",
              "    </tr>\n",
              "  </tbody>\n",
              "</table>\n",
              "</div>\n",
              "      <button class=\"colab-df-convert\" onclick=\"convertToInteractive('df-360d3d4d-d2a0-429d-9223-3af128149155')\"\n",
              "              title=\"Convert this dataframe to an interactive table.\"\n",
              "              style=\"display:none;\">\n",
              "        \n",
              "  <svg xmlns=\"http://www.w3.org/2000/svg\" height=\"24px\"viewBox=\"0 0 24 24\"\n",
              "       width=\"24px\">\n",
              "    <path d=\"M0 0h24v24H0V0z\" fill=\"none\"/>\n",
              "    <path d=\"M18.56 5.44l.94 2.06.94-2.06 2.06-.94-2.06-.94-.94-2.06-.94 2.06-2.06.94zm-11 1L8.5 8.5l.94-2.06 2.06-.94-2.06-.94L8.5 2.5l-.94 2.06-2.06.94zm10 10l.94 2.06.94-2.06 2.06-.94-2.06-.94-.94-2.06-.94 2.06-2.06.94z\"/><path d=\"M17.41 7.96l-1.37-1.37c-.4-.4-.92-.59-1.43-.59-.52 0-1.04.2-1.43.59L10.3 9.45l-7.72 7.72c-.78.78-.78 2.05 0 2.83L4 21.41c.39.39.9.59 1.41.59.51 0 1.02-.2 1.41-.59l7.78-7.78 2.81-2.81c.8-.78.8-2.07 0-2.86zM5.41 20L4 18.59l7.72-7.72 1.47 1.35L5.41 20z\"/>\n",
              "  </svg>\n",
              "      </button>\n",
              "      \n",
              "  <style>\n",
              "    .colab-df-container {\n",
              "      display:flex;\n",
              "      flex-wrap:wrap;\n",
              "      gap: 12px;\n",
              "    }\n",
              "\n",
              "    .colab-df-convert {\n",
              "      background-color: #E8F0FE;\n",
              "      border: none;\n",
              "      border-radius: 50%;\n",
              "      cursor: pointer;\n",
              "      display: none;\n",
              "      fill: #1967D2;\n",
              "      height: 32px;\n",
              "      padding: 0 0 0 0;\n",
              "      width: 32px;\n",
              "    }\n",
              "\n",
              "    .colab-df-convert:hover {\n",
              "      background-color: #E2EBFA;\n",
              "      box-shadow: 0px 1px 2px rgba(60, 64, 67, 0.3), 0px 1px 3px 1px rgba(60, 64, 67, 0.15);\n",
              "      fill: #174EA6;\n",
              "    }\n",
              "\n",
              "    [theme=dark] .colab-df-convert {\n",
              "      background-color: #3B4455;\n",
              "      fill: #D2E3FC;\n",
              "    }\n",
              "\n",
              "    [theme=dark] .colab-df-convert:hover {\n",
              "      background-color: #434B5C;\n",
              "      box-shadow: 0px 1px 3px 1px rgba(0, 0, 0, 0.15);\n",
              "      filter: drop-shadow(0px 1px 2px rgba(0, 0, 0, 0.3));\n",
              "      fill: #FFFFFF;\n",
              "    }\n",
              "  </style>\n",
              "\n",
              "      <script>\n",
              "        const buttonEl =\n",
              "          document.querySelector('#df-360d3d4d-d2a0-429d-9223-3af128149155 button.colab-df-convert');\n",
              "        buttonEl.style.display =\n",
              "          google.colab.kernel.accessAllowed ? 'block' : 'none';\n",
              "\n",
              "        async function convertToInteractive(key) {\n",
              "          const element = document.querySelector('#df-360d3d4d-d2a0-429d-9223-3af128149155');\n",
              "          const dataTable =\n",
              "            await google.colab.kernel.invokeFunction('convertToInteractive',\n",
              "                                                     [key], {});\n",
              "          if (!dataTable) return;\n",
              "\n",
              "          const docLinkHtml = 'Like what you see? Visit the ' +\n",
              "            '<a target=\"_blank\" href=https://colab.research.google.com/notebooks/data_table.ipynb>data table notebook</a>'\n",
              "            + ' to learn more about interactive tables.';\n",
              "          element.innerHTML = '';\n",
              "          dataTable['output_type'] = 'display_data';\n",
              "          await google.colab.output.renderOutput(dataTable, element);\n",
              "          const docLink = document.createElement('div');\n",
              "          docLink.innerHTML = docLinkHtml;\n",
              "          element.appendChild(docLink);\n",
              "        }\n",
              "      </script>\n",
              "    </div>\n",
              "  </div>\n",
              "  "
            ]
          },
          "metadata": {},
          "execution_count": 8
        }
      ]
    },
    {
      "cell_type": "code",
      "source": [
        "df1.head()"
      ],
      "metadata": {
        "colab": {
          "base_uri": "https://localhost:8080/",
          "height": 357
        },
        "id": "IaIpGrgo6gUu",
        "outputId": "02aa311c-3a7a-4d41-d181-5927c9307bb3"
      },
      "execution_count": null,
      "outputs": [
        {
          "output_type": "execute_result",
          "data": {
            "text/plain": [
              "   EmployeeNumber   Age BusinessTravel  DailyRate              Department  \\\n",
              "0             104  30.0  Travel_Rarely      852.0  Research & Development   \n",
              "1            1638  38.0  Travel_Rarely      397.0  Research & Development   \n",
              "2             164  26.0  Travel_Rarely      841.0  Research & Development   \n",
              "3             395  28.0  Travel_Rarely     1117.0  Research & Development   \n",
              "4              53  35.0  Travel_Rarely      464.0  Research & Development   \n",
              "\n",
              "   DistanceFromHome  Education EducationField  EmployeeCount  \\\n",
              "0               1.0        1.0  Life Sciences            1.0   \n",
              "1               2.0        2.0        Medical            1.0   \n",
              "2               6.0        3.0          Other            1.0   \n",
              "3               8.0        2.0  Life Sciences            1.0   \n",
              "4               4.0        2.0          Other            1.0   \n",
              "\n",
              "   EnvironmentSatisfaction  Gender  HourlyRate  JobInvolvement  JobLevel  \\\n",
              "0                      4.0    Male        55.0             2.0       2.0   \n",
              "1                      4.0  Female        54.0             2.0       3.0   \n",
              "2                      3.0  Female        46.0             2.0       1.0   \n",
              "3                      4.0  Female        66.0             3.0       1.0   \n",
              "4                      3.0    Male        75.0             3.0       1.0   \n",
              "\n",
              "                  JobRole  JobSatisfaction MaritalStatus  MonthlyIncome  \\\n",
              "0   Laboratory Technician              4.0       Married         5126.0   \n",
              "1  Manufacturing Director              3.0       Married         7756.0   \n",
              "2      Research Scientist              2.0       Married         2368.0   \n",
              "3      Research Scientist              4.0        Single         3310.0   \n",
              "4   Laboratory Technician              4.0      Divorced         1951.0   \n",
              "\n",
              "   MonthlyRate  NumCompaniesWorked  \n",
              "0      15998.0                 1.0  \n",
              "1      14199.0                 3.0  \n",
              "2      23300.0                 1.0  \n",
              "3       4488.0                 1.0  \n",
              "4      10910.0                 1.0  "
            ],
            "text/html": [
              "\n",
              "  <div id=\"df-b1357e03-de0c-439c-92aa-452b898417d2\">\n",
              "    <div class=\"colab-df-container\">\n",
              "      <div>\n",
              "<style scoped>\n",
              "    .dataframe tbody tr th:only-of-type {\n",
              "        vertical-align: middle;\n",
              "    }\n",
              "\n",
              "    .dataframe tbody tr th {\n",
              "        vertical-align: top;\n",
              "    }\n",
              "\n",
              "    .dataframe thead th {\n",
              "        text-align: right;\n",
              "    }\n",
              "</style>\n",
              "<table border=\"1\" class=\"dataframe\">\n",
              "  <thead>\n",
              "    <tr style=\"text-align: right;\">\n",
              "      <th></th>\n",
              "      <th>EmployeeNumber</th>\n",
              "      <th>Age</th>\n",
              "      <th>BusinessTravel</th>\n",
              "      <th>DailyRate</th>\n",
              "      <th>Department</th>\n",
              "      <th>DistanceFromHome</th>\n",
              "      <th>Education</th>\n",
              "      <th>EducationField</th>\n",
              "      <th>EmployeeCount</th>\n",
              "      <th>EnvironmentSatisfaction</th>\n",
              "      <th>Gender</th>\n",
              "      <th>HourlyRate</th>\n",
              "      <th>JobInvolvement</th>\n",
              "      <th>JobLevel</th>\n",
              "      <th>JobRole</th>\n",
              "      <th>JobSatisfaction</th>\n",
              "      <th>MaritalStatus</th>\n",
              "      <th>MonthlyIncome</th>\n",
              "      <th>MonthlyRate</th>\n",
              "      <th>NumCompaniesWorked</th>\n",
              "    </tr>\n",
              "  </thead>\n",
              "  <tbody>\n",
              "    <tr>\n",
              "      <th>0</th>\n",
              "      <td>104</td>\n",
              "      <td>30.0</td>\n",
              "      <td>Travel_Rarely</td>\n",
              "      <td>852.0</td>\n",
              "      <td>Research &amp; Development</td>\n",
              "      <td>1.0</td>\n",
              "      <td>1.0</td>\n",
              "      <td>Life Sciences</td>\n",
              "      <td>1.0</td>\n",
              "      <td>4.0</td>\n",
              "      <td>Male</td>\n",
              "      <td>55.0</td>\n",
              "      <td>2.0</td>\n",
              "      <td>2.0</td>\n",
              "      <td>Laboratory Technician</td>\n",
              "      <td>4.0</td>\n",
              "      <td>Married</td>\n",
              "      <td>5126.0</td>\n",
              "      <td>15998.0</td>\n",
              "      <td>1.0</td>\n",
              "    </tr>\n",
              "    <tr>\n",
              "      <th>1</th>\n",
              "      <td>1638</td>\n",
              "      <td>38.0</td>\n",
              "      <td>Travel_Rarely</td>\n",
              "      <td>397.0</td>\n",
              "      <td>Research &amp; Development</td>\n",
              "      <td>2.0</td>\n",
              "      <td>2.0</td>\n",
              "      <td>Medical</td>\n",
              "      <td>1.0</td>\n",
              "      <td>4.0</td>\n",
              "      <td>Female</td>\n",
              "      <td>54.0</td>\n",
              "      <td>2.0</td>\n",
              "      <td>3.0</td>\n",
              "      <td>Manufacturing Director</td>\n",
              "      <td>3.0</td>\n",
              "      <td>Married</td>\n",
              "      <td>7756.0</td>\n",
              "      <td>14199.0</td>\n",
              "      <td>3.0</td>\n",
              "    </tr>\n",
              "    <tr>\n",
              "      <th>2</th>\n",
              "      <td>164</td>\n",
              "      <td>26.0</td>\n",
              "      <td>Travel_Rarely</td>\n",
              "      <td>841.0</td>\n",
              "      <td>Research &amp; Development</td>\n",
              "      <td>6.0</td>\n",
              "      <td>3.0</td>\n",
              "      <td>Other</td>\n",
              "      <td>1.0</td>\n",
              "      <td>3.0</td>\n",
              "      <td>Female</td>\n",
              "      <td>46.0</td>\n",
              "      <td>2.0</td>\n",
              "      <td>1.0</td>\n",
              "      <td>Research Scientist</td>\n",
              "      <td>2.0</td>\n",
              "      <td>Married</td>\n",
              "      <td>2368.0</td>\n",
              "      <td>23300.0</td>\n",
              "      <td>1.0</td>\n",
              "    </tr>\n",
              "    <tr>\n",
              "      <th>3</th>\n",
              "      <td>395</td>\n",
              "      <td>28.0</td>\n",
              "      <td>Travel_Rarely</td>\n",
              "      <td>1117.0</td>\n",
              "      <td>Research &amp; Development</td>\n",
              "      <td>8.0</td>\n",
              "      <td>2.0</td>\n",
              "      <td>Life Sciences</td>\n",
              "      <td>1.0</td>\n",
              "      <td>4.0</td>\n",
              "      <td>Female</td>\n",
              "      <td>66.0</td>\n",
              "      <td>3.0</td>\n",
              "      <td>1.0</td>\n",
              "      <td>Research Scientist</td>\n",
              "      <td>4.0</td>\n",
              "      <td>Single</td>\n",
              "      <td>3310.0</td>\n",
              "      <td>4488.0</td>\n",
              "      <td>1.0</td>\n",
              "    </tr>\n",
              "    <tr>\n",
              "      <th>4</th>\n",
              "      <td>53</td>\n",
              "      <td>35.0</td>\n",
              "      <td>Travel_Rarely</td>\n",
              "      <td>464.0</td>\n",
              "      <td>Research &amp; Development</td>\n",
              "      <td>4.0</td>\n",
              "      <td>2.0</td>\n",
              "      <td>Other</td>\n",
              "      <td>1.0</td>\n",
              "      <td>3.0</td>\n",
              "      <td>Male</td>\n",
              "      <td>75.0</td>\n",
              "      <td>3.0</td>\n",
              "      <td>1.0</td>\n",
              "      <td>Laboratory Technician</td>\n",
              "      <td>4.0</td>\n",
              "      <td>Divorced</td>\n",
              "      <td>1951.0</td>\n",
              "      <td>10910.0</td>\n",
              "      <td>1.0</td>\n",
              "    </tr>\n",
              "  </tbody>\n",
              "</table>\n",
              "</div>\n",
              "      <button class=\"colab-df-convert\" onclick=\"convertToInteractive('df-b1357e03-de0c-439c-92aa-452b898417d2')\"\n",
              "              title=\"Convert this dataframe to an interactive table.\"\n",
              "              style=\"display:none;\">\n",
              "        \n",
              "  <svg xmlns=\"http://www.w3.org/2000/svg\" height=\"24px\"viewBox=\"0 0 24 24\"\n",
              "       width=\"24px\">\n",
              "    <path d=\"M0 0h24v24H0V0z\" fill=\"none\"/>\n",
              "    <path d=\"M18.56 5.44l.94 2.06.94-2.06 2.06-.94-2.06-.94-.94-2.06-.94 2.06-2.06.94zm-11 1L8.5 8.5l.94-2.06 2.06-.94-2.06-.94L8.5 2.5l-.94 2.06-2.06.94zm10 10l.94 2.06.94-2.06 2.06-.94-2.06-.94-.94-2.06-.94 2.06-2.06.94z\"/><path d=\"M17.41 7.96l-1.37-1.37c-.4-.4-.92-.59-1.43-.59-.52 0-1.04.2-1.43.59L10.3 9.45l-7.72 7.72c-.78.78-.78 2.05 0 2.83L4 21.41c.39.39.9.59 1.41.59.51 0 1.02-.2 1.41-.59l7.78-7.78 2.81-2.81c.8-.78.8-2.07 0-2.86zM5.41 20L4 18.59l7.72-7.72 1.47 1.35L5.41 20z\"/>\n",
              "  </svg>\n",
              "      </button>\n",
              "      \n",
              "  <style>\n",
              "    .colab-df-container {\n",
              "      display:flex;\n",
              "      flex-wrap:wrap;\n",
              "      gap: 12px;\n",
              "    }\n",
              "\n",
              "    .colab-df-convert {\n",
              "      background-color: #E8F0FE;\n",
              "      border: none;\n",
              "      border-radius: 50%;\n",
              "      cursor: pointer;\n",
              "      display: none;\n",
              "      fill: #1967D2;\n",
              "      height: 32px;\n",
              "      padding: 0 0 0 0;\n",
              "      width: 32px;\n",
              "    }\n",
              "\n",
              "    .colab-df-convert:hover {\n",
              "      background-color: #E2EBFA;\n",
              "      box-shadow: 0px 1px 2px rgba(60, 64, 67, 0.3), 0px 1px 3px 1px rgba(60, 64, 67, 0.15);\n",
              "      fill: #174EA6;\n",
              "    }\n",
              "\n",
              "    [theme=dark] .colab-df-convert {\n",
              "      background-color: #3B4455;\n",
              "      fill: #D2E3FC;\n",
              "    }\n",
              "\n",
              "    [theme=dark] .colab-df-convert:hover {\n",
              "      background-color: #434B5C;\n",
              "      box-shadow: 0px 1px 3px 1px rgba(0, 0, 0, 0.15);\n",
              "      filter: drop-shadow(0px 1px 2px rgba(0, 0, 0, 0.3));\n",
              "      fill: #FFFFFF;\n",
              "    }\n",
              "  </style>\n",
              "\n",
              "      <script>\n",
              "        const buttonEl =\n",
              "          document.querySelector('#df-b1357e03-de0c-439c-92aa-452b898417d2 button.colab-df-convert');\n",
              "        buttonEl.style.display =\n",
              "          google.colab.kernel.accessAllowed ? 'block' : 'none';\n",
              "\n",
              "        async function convertToInteractive(key) {\n",
              "          const element = document.querySelector('#df-b1357e03-de0c-439c-92aa-452b898417d2');\n",
              "          const dataTable =\n",
              "            await google.colab.kernel.invokeFunction('convertToInteractive',\n",
              "                                                     [key], {});\n",
              "          if (!dataTable) return;\n",
              "\n",
              "          const docLinkHtml = 'Like what you see? Visit the ' +\n",
              "            '<a target=\"_blank\" href=https://colab.research.google.com/notebooks/data_table.ipynb>data table notebook</a>'\n",
              "            + ' to learn more about interactive tables.';\n",
              "          element.innerHTML = '';\n",
              "          dataTable['output_type'] = 'display_data';\n",
              "          await google.colab.output.renderOutput(dataTable, element);\n",
              "          const docLink = document.createElement('div');\n",
              "          docLink.innerHTML = docLinkHtml;\n",
              "          element.appendChild(docLink);\n",
              "        }\n",
              "      </script>\n",
              "    </div>\n",
              "  </div>\n",
              "  "
            ]
          },
          "metadata": {},
          "execution_count": 9
        }
      ]
    },
    {
      "cell_type": "code",
      "source": [
        "df_master= attrition.merge(df1,on='EmployeeNumber',how='outer')"
      ],
      "metadata": {
        "id": "P-2StwOx0t5R"
      },
      "execution_count": null,
      "outputs": []
    },
    {
      "cell_type": "code",
      "source": [
        "df_master.head()"
      ],
      "metadata": {
        "colab": {
          "base_uri": "https://localhost:8080/",
          "height": 386
        },
        "id": "j47OgQAw7Cgf",
        "outputId": "6fd66bb2-0b34-4730-c7a8-f4f695cf8e5b"
      },
      "execution_count": null,
      "outputs": [
        {
          "output_type": "execute_result",
          "data": {
            "text/plain": [
              "   EmployeeNumber Attrition   Age BusinessTravel  DailyRate  \\\n",
              "0             104        No  30.0  Travel_Rarely      852.0   \n",
              "1            1638        No  38.0  Travel_Rarely      397.0   \n",
              "2             164        No  26.0  Travel_Rarely      841.0   \n",
              "3             395        No  28.0  Travel_Rarely     1117.0   \n",
              "4              53        No  35.0  Travel_Rarely      464.0   \n",
              "\n",
              "               Department  DistanceFromHome  Education EducationField  \\\n",
              "0  Research & Development               1.0        1.0  Life Sciences   \n",
              "1  Research & Development               2.0        2.0        Medical   \n",
              "2  Research & Development               6.0        3.0          Other   \n",
              "3  Research & Development               8.0        2.0  Life Sciences   \n",
              "4  Research & Development               4.0        2.0          Other   \n",
              "\n",
              "   EmployeeCount  ...  Gender HourlyRate  JobInvolvement  JobLevel  \\\n",
              "0            1.0  ...    Male       55.0             2.0       2.0   \n",
              "1            1.0  ...  Female       54.0             2.0       3.0   \n",
              "2            1.0  ...  Female       46.0             2.0       1.0   \n",
              "3            1.0  ...  Female       66.0             3.0       1.0   \n",
              "4            1.0  ...    Male       75.0             3.0       1.0   \n",
              "\n",
              "                  JobRole JobSatisfaction  MaritalStatus MonthlyIncome  \\\n",
              "0   Laboratory Technician             4.0        Married        5126.0   \n",
              "1  Manufacturing Director             3.0        Married        7756.0   \n",
              "2      Research Scientist             2.0        Married        2368.0   \n",
              "3      Research Scientist             4.0         Single        3310.0   \n",
              "4   Laboratory Technician             4.0       Divorced        1951.0   \n",
              "\n",
              "   MonthlyRate  NumCompaniesWorked  \n",
              "0      15998.0                 1.0  \n",
              "1      14199.0                 3.0  \n",
              "2      23300.0                 1.0  \n",
              "3       4488.0                 1.0  \n",
              "4      10910.0                 1.0  \n",
              "\n",
              "[5 rows x 21 columns]"
            ],
            "text/html": [
              "\n",
              "  <div id=\"df-2bffbb37-1706-4fdf-b820-1e5ebe648615\">\n",
              "    <div class=\"colab-df-container\">\n",
              "      <div>\n",
              "<style scoped>\n",
              "    .dataframe tbody tr th:only-of-type {\n",
              "        vertical-align: middle;\n",
              "    }\n",
              "\n",
              "    .dataframe tbody tr th {\n",
              "        vertical-align: top;\n",
              "    }\n",
              "\n",
              "    .dataframe thead th {\n",
              "        text-align: right;\n",
              "    }\n",
              "</style>\n",
              "<table border=\"1\" class=\"dataframe\">\n",
              "  <thead>\n",
              "    <tr style=\"text-align: right;\">\n",
              "      <th></th>\n",
              "      <th>EmployeeNumber</th>\n",
              "      <th>Attrition</th>\n",
              "      <th>Age</th>\n",
              "      <th>BusinessTravel</th>\n",
              "      <th>DailyRate</th>\n",
              "      <th>Department</th>\n",
              "      <th>DistanceFromHome</th>\n",
              "      <th>Education</th>\n",
              "      <th>EducationField</th>\n",
              "      <th>EmployeeCount</th>\n",
              "      <th>...</th>\n",
              "      <th>Gender</th>\n",
              "      <th>HourlyRate</th>\n",
              "      <th>JobInvolvement</th>\n",
              "      <th>JobLevel</th>\n",
              "      <th>JobRole</th>\n",
              "      <th>JobSatisfaction</th>\n",
              "      <th>MaritalStatus</th>\n",
              "      <th>MonthlyIncome</th>\n",
              "      <th>MonthlyRate</th>\n",
              "      <th>NumCompaniesWorked</th>\n",
              "    </tr>\n",
              "  </thead>\n",
              "  <tbody>\n",
              "    <tr>\n",
              "      <th>0</th>\n",
              "      <td>104</td>\n",
              "      <td>No</td>\n",
              "      <td>30.0</td>\n",
              "      <td>Travel_Rarely</td>\n",
              "      <td>852.0</td>\n",
              "      <td>Research &amp; Development</td>\n",
              "      <td>1.0</td>\n",
              "      <td>1.0</td>\n",
              "      <td>Life Sciences</td>\n",
              "      <td>1.0</td>\n",
              "      <td>...</td>\n",
              "      <td>Male</td>\n",
              "      <td>55.0</td>\n",
              "      <td>2.0</td>\n",
              "      <td>2.0</td>\n",
              "      <td>Laboratory Technician</td>\n",
              "      <td>4.0</td>\n",
              "      <td>Married</td>\n",
              "      <td>5126.0</td>\n",
              "      <td>15998.0</td>\n",
              "      <td>1.0</td>\n",
              "    </tr>\n",
              "    <tr>\n",
              "      <th>1</th>\n",
              "      <td>1638</td>\n",
              "      <td>No</td>\n",
              "      <td>38.0</td>\n",
              "      <td>Travel_Rarely</td>\n",
              "      <td>397.0</td>\n",
              "      <td>Research &amp; Development</td>\n",
              "      <td>2.0</td>\n",
              "      <td>2.0</td>\n",
              "      <td>Medical</td>\n",
              "      <td>1.0</td>\n",
              "      <td>...</td>\n",
              "      <td>Female</td>\n",
              "      <td>54.0</td>\n",
              "      <td>2.0</td>\n",
              "      <td>3.0</td>\n",
              "      <td>Manufacturing Director</td>\n",
              "      <td>3.0</td>\n",
              "      <td>Married</td>\n",
              "      <td>7756.0</td>\n",
              "      <td>14199.0</td>\n",
              "      <td>3.0</td>\n",
              "    </tr>\n",
              "    <tr>\n",
              "      <th>2</th>\n",
              "      <td>164</td>\n",
              "      <td>No</td>\n",
              "      <td>26.0</td>\n",
              "      <td>Travel_Rarely</td>\n",
              "      <td>841.0</td>\n",
              "      <td>Research &amp; Development</td>\n",
              "      <td>6.0</td>\n",
              "      <td>3.0</td>\n",
              "      <td>Other</td>\n",
              "      <td>1.0</td>\n",
              "      <td>...</td>\n",
              "      <td>Female</td>\n",
              "      <td>46.0</td>\n",
              "      <td>2.0</td>\n",
              "      <td>1.0</td>\n",
              "      <td>Research Scientist</td>\n",
              "      <td>2.0</td>\n",
              "      <td>Married</td>\n",
              "      <td>2368.0</td>\n",
              "      <td>23300.0</td>\n",
              "      <td>1.0</td>\n",
              "    </tr>\n",
              "    <tr>\n",
              "      <th>3</th>\n",
              "      <td>395</td>\n",
              "      <td>No</td>\n",
              "      <td>28.0</td>\n",
              "      <td>Travel_Rarely</td>\n",
              "      <td>1117.0</td>\n",
              "      <td>Research &amp; Development</td>\n",
              "      <td>8.0</td>\n",
              "      <td>2.0</td>\n",
              "      <td>Life Sciences</td>\n",
              "      <td>1.0</td>\n",
              "      <td>...</td>\n",
              "      <td>Female</td>\n",
              "      <td>66.0</td>\n",
              "      <td>3.0</td>\n",
              "      <td>1.0</td>\n",
              "      <td>Research Scientist</td>\n",
              "      <td>4.0</td>\n",
              "      <td>Single</td>\n",
              "      <td>3310.0</td>\n",
              "      <td>4488.0</td>\n",
              "      <td>1.0</td>\n",
              "    </tr>\n",
              "    <tr>\n",
              "      <th>4</th>\n",
              "      <td>53</td>\n",
              "      <td>No</td>\n",
              "      <td>35.0</td>\n",
              "      <td>Travel_Rarely</td>\n",
              "      <td>464.0</td>\n",
              "      <td>Research &amp; Development</td>\n",
              "      <td>4.0</td>\n",
              "      <td>2.0</td>\n",
              "      <td>Other</td>\n",
              "      <td>1.0</td>\n",
              "      <td>...</td>\n",
              "      <td>Male</td>\n",
              "      <td>75.0</td>\n",
              "      <td>3.0</td>\n",
              "      <td>1.0</td>\n",
              "      <td>Laboratory Technician</td>\n",
              "      <td>4.0</td>\n",
              "      <td>Divorced</td>\n",
              "      <td>1951.0</td>\n",
              "      <td>10910.0</td>\n",
              "      <td>1.0</td>\n",
              "    </tr>\n",
              "  </tbody>\n",
              "</table>\n",
              "<p>5 rows × 21 columns</p>\n",
              "</div>\n",
              "      <button class=\"colab-df-convert\" onclick=\"convertToInteractive('df-2bffbb37-1706-4fdf-b820-1e5ebe648615')\"\n",
              "              title=\"Convert this dataframe to an interactive table.\"\n",
              "              style=\"display:none;\">\n",
              "        \n",
              "  <svg xmlns=\"http://www.w3.org/2000/svg\" height=\"24px\"viewBox=\"0 0 24 24\"\n",
              "       width=\"24px\">\n",
              "    <path d=\"M0 0h24v24H0V0z\" fill=\"none\"/>\n",
              "    <path d=\"M18.56 5.44l.94 2.06.94-2.06 2.06-.94-2.06-.94-.94-2.06-.94 2.06-2.06.94zm-11 1L8.5 8.5l.94-2.06 2.06-.94-2.06-.94L8.5 2.5l-.94 2.06-2.06.94zm10 10l.94 2.06.94-2.06 2.06-.94-2.06-.94-.94-2.06-.94 2.06-2.06.94z\"/><path d=\"M17.41 7.96l-1.37-1.37c-.4-.4-.92-.59-1.43-.59-.52 0-1.04.2-1.43.59L10.3 9.45l-7.72 7.72c-.78.78-.78 2.05 0 2.83L4 21.41c.39.39.9.59 1.41.59.51 0 1.02-.2 1.41-.59l7.78-7.78 2.81-2.81c.8-.78.8-2.07 0-2.86zM5.41 20L4 18.59l7.72-7.72 1.47 1.35L5.41 20z\"/>\n",
              "  </svg>\n",
              "      </button>\n",
              "      \n",
              "  <style>\n",
              "    .colab-df-container {\n",
              "      display:flex;\n",
              "      flex-wrap:wrap;\n",
              "      gap: 12px;\n",
              "    }\n",
              "\n",
              "    .colab-df-convert {\n",
              "      background-color: #E8F0FE;\n",
              "      border: none;\n",
              "      border-radius: 50%;\n",
              "      cursor: pointer;\n",
              "      display: none;\n",
              "      fill: #1967D2;\n",
              "      height: 32px;\n",
              "      padding: 0 0 0 0;\n",
              "      width: 32px;\n",
              "    }\n",
              "\n",
              "    .colab-df-convert:hover {\n",
              "      background-color: #E2EBFA;\n",
              "      box-shadow: 0px 1px 2px rgba(60, 64, 67, 0.3), 0px 1px 3px 1px rgba(60, 64, 67, 0.15);\n",
              "      fill: #174EA6;\n",
              "    }\n",
              "\n",
              "    [theme=dark] .colab-df-convert {\n",
              "      background-color: #3B4455;\n",
              "      fill: #D2E3FC;\n",
              "    }\n",
              "\n",
              "    [theme=dark] .colab-df-convert:hover {\n",
              "      background-color: #434B5C;\n",
              "      box-shadow: 0px 1px 3px 1px rgba(0, 0, 0, 0.15);\n",
              "      filter: drop-shadow(0px 1px 2px rgba(0, 0, 0, 0.3));\n",
              "      fill: #FFFFFF;\n",
              "    }\n",
              "  </style>\n",
              "\n",
              "      <script>\n",
              "        const buttonEl =\n",
              "          document.querySelector('#df-2bffbb37-1706-4fdf-b820-1e5ebe648615 button.colab-df-convert');\n",
              "        buttonEl.style.display =\n",
              "          google.colab.kernel.accessAllowed ? 'block' : 'none';\n",
              "\n",
              "        async function convertToInteractive(key) {\n",
              "          const element = document.querySelector('#df-2bffbb37-1706-4fdf-b820-1e5ebe648615');\n",
              "          const dataTable =\n",
              "            await google.colab.kernel.invokeFunction('convertToInteractive',\n",
              "                                                     [key], {});\n",
              "          if (!dataTable) return;\n",
              "\n",
              "          const docLinkHtml = 'Like what you see? Visit the ' +\n",
              "            '<a target=\"_blank\" href=https://colab.research.google.com/notebooks/data_table.ipynb>data table notebook</a>'\n",
              "            + ' to learn more about interactive tables.';\n",
              "          element.innerHTML = '';\n",
              "          dataTable['output_type'] = 'display_data';\n",
              "          await google.colab.output.renderOutput(dataTable, element);\n",
              "          const docLink = document.createElement('div');\n",
              "          docLink.innerHTML = docLinkHtml;\n",
              "          element.appendChild(docLink);\n",
              "        }\n",
              "      </script>\n",
              "    </div>\n",
              "  </div>\n",
              "  "
            ]
          },
          "metadata": {},
          "execution_count": 11
        }
      ]
    },
    {
      "cell_type": "code",
      "source": [
        "df_master_1= df_master.merge(df2,on='EmployeeNumber',how='outer')"
      ],
      "metadata": {
        "id": "0IIgF80O7OFQ"
      },
      "execution_count": null,
      "outputs": []
    },
    {
      "cell_type": "code",
      "source": [
        "df_master_1.head()"
      ],
      "metadata": {
        "colab": {
          "base_uri": "https://localhost:8080/",
          "height": 386
        },
        "id": "k6qvqtZv8jSp",
        "outputId": "86f07986-8b03-4d01-9ade-8b4287c11755"
      },
      "execution_count": null,
      "outputs": [
        {
          "output_type": "execute_result",
          "data": {
            "text/plain": [
              "   EmployeeNumber Attrition_x   Age BusinessTravel  DailyRate  \\\n",
              "0             104          No  30.0  Travel_Rarely      852.0   \n",
              "1            1638          No  38.0  Travel_Rarely      397.0   \n",
              "2             164          No  26.0  Travel_Rarely      841.0   \n",
              "3             395          No  28.0  Travel_Rarely     1117.0   \n",
              "4              53          No  35.0  Travel_Rarely      464.0   \n",
              "\n",
              "               Department  DistanceFromHome  Education EducationField  \\\n",
              "0  Research & Development               1.0        1.0  Life Sciences   \n",
              "1  Research & Development               2.0        2.0        Medical   \n",
              "2  Research & Development               6.0        3.0          Other   \n",
              "3  Research & Development               8.0        2.0  Life Sciences   \n",
              "4  Research & Development               4.0        2.0          Other   \n",
              "\n",
              "   EmployeeCount  ...  StockOptionLevel TotalWorkingYears  \\\n",
              "0            1.0  ...               2.0              10.0   \n",
              "1            1.0  ...               1.0              10.0   \n",
              "2            1.0  ...               0.0               5.0   \n",
              "3            1.0  ...               0.0               5.0   \n",
              "4            1.0  ...               1.0               1.0   \n",
              "\n",
              "   TrainingTimesLastYear  WorkLifeBalance  YearsAtCompany YearsInCurrentRole  \\\n",
              "0                    1.0              2.0            10.0                8.0   \n",
              "1                    6.0              4.0             5.0                4.0   \n",
              "2                    3.0              2.0             5.0                4.0   \n",
              "3                    3.0              3.0             5.0                3.0   \n",
              "4                    3.0              3.0             1.0                0.0   \n",
              "\n",
              "   YearsSinceLastPromotion YearsWithCurrManager  Attrition_y  YearlyIncome  \n",
              "0                      3.0                  0.0           No       61512.0  \n",
              "1                      0.0                  2.0           No       93072.0  \n",
              "2                      4.0                  3.0           No       28416.0  \n",
              "3                      0.0                  2.0           No       39720.0  \n",
              "4                      0.0                  0.0           No       23412.0  \n",
              "\n",
              "[5 rows x 37 columns]"
            ],
            "text/html": [
              "\n",
              "  <div id=\"df-6fb5b3d5-3241-494e-b060-d224df23a87c\">\n",
              "    <div class=\"colab-df-container\">\n",
              "      <div>\n",
              "<style scoped>\n",
              "    .dataframe tbody tr th:only-of-type {\n",
              "        vertical-align: middle;\n",
              "    }\n",
              "\n",
              "    .dataframe tbody tr th {\n",
              "        vertical-align: top;\n",
              "    }\n",
              "\n",
              "    .dataframe thead th {\n",
              "        text-align: right;\n",
              "    }\n",
              "</style>\n",
              "<table border=\"1\" class=\"dataframe\">\n",
              "  <thead>\n",
              "    <tr style=\"text-align: right;\">\n",
              "      <th></th>\n",
              "      <th>EmployeeNumber</th>\n",
              "      <th>Attrition_x</th>\n",
              "      <th>Age</th>\n",
              "      <th>BusinessTravel</th>\n",
              "      <th>DailyRate</th>\n",
              "      <th>Department</th>\n",
              "      <th>DistanceFromHome</th>\n",
              "      <th>Education</th>\n",
              "      <th>EducationField</th>\n",
              "      <th>EmployeeCount</th>\n",
              "      <th>...</th>\n",
              "      <th>StockOptionLevel</th>\n",
              "      <th>TotalWorkingYears</th>\n",
              "      <th>TrainingTimesLastYear</th>\n",
              "      <th>WorkLifeBalance</th>\n",
              "      <th>YearsAtCompany</th>\n",
              "      <th>YearsInCurrentRole</th>\n",
              "      <th>YearsSinceLastPromotion</th>\n",
              "      <th>YearsWithCurrManager</th>\n",
              "      <th>Attrition_y</th>\n",
              "      <th>YearlyIncome</th>\n",
              "    </tr>\n",
              "  </thead>\n",
              "  <tbody>\n",
              "    <tr>\n",
              "      <th>0</th>\n",
              "      <td>104</td>\n",
              "      <td>No</td>\n",
              "      <td>30.0</td>\n",
              "      <td>Travel_Rarely</td>\n",
              "      <td>852.0</td>\n",
              "      <td>Research &amp; Development</td>\n",
              "      <td>1.0</td>\n",
              "      <td>1.0</td>\n",
              "      <td>Life Sciences</td>\n",
              "      <td>1.0</td>\n",
              "      <td>...</td>\n",
              "      <td>2.0</td>\n",
              "      <td>10.0</td>\n",
              "      <td>1.0</td>\n",
              "      <td>2.0</td>\n",
              "      <td>10.0</td>\n",
              "      <td>8.0</td>\n",
              "      <td>3.0</td>\n",
              "      <td>0.0</td>\n",
              "      <td>No</td>\n",
              "      <td>61512.0</td>\n",
              "    </tr>\n",
              "    <tr>\n",
              "      <th>1</th>\n",
              "      <td>1638</td>\n",
              "      <td>No</td>\n",
              "      <td>38.0</td>\n",
              "      <td>Travel_Rarely</td>\n",
              "      <td>397.0</td>\n",
              "      <td>Research &amp; Development</td>\n",
              "      <td>2.0</td>\n",
              "      <td>2.0</td>\n",
              "      <td>Medical</td>\n",
              "      <td>1.0</td>\n",
              "      <td>...</td>\n",
              "      <td>1.0</td>\n",
              "      <td>10.0</td>\n",
              "      <td>6.0</td>\n",
              "      <td>4.0</td>\n",
              "      <td>5.0</td>\n",
              "      <td>4.0</td>\n",
              "      <td>0.0</td>\n",
              "      <td>2.0</td>\n",
              "      <td>No</td>\n",
              "      <td>93072.0</td>\n",
              "    </tr>\n",
              "    <tr>\n",
              "      <th>2</th>\n",
              "      <td>164</td>\n",
              "      <td>No</td>\n",
              "      <td>26.0</td>\n",
              "      <td>Travel_Rarely</td>\n",
              "      <td>841.0</td>\n",
              "      <td>Research &amp; Development</td>\n",
              "      <td>6.0</td>\n",
              "      <td>3.0</td>\n",
              "      <td>Other</td>\n",
              "      <td>1.0</td>\n",
              "      <td>...</td>\n",
              "      <td>0.0</td>\n",
              "      <td>5.0</td>\n",
              "      <td>3.0</td>\n",
              "      <td>2.0</td>\n",
              "      <td>5.0</td>\n",
              "      <td>4.0</td>\n",
              "      <td>4.0</td>\n",
              "      <td>3.0</td>\n",
              "      <td>No</td>\n",
              "      <td>28416.0</td>\n",
              "    </tr>\n",
              "    <tr>\n",
              "      <th>3</th>\n",
              "      <td>395</td>\n",
              "      <td>No</td>\n",
              "      <td>28.0</td>\n",
              "      <td>Travel_Rarely</td>\n",
              "      <td>1117.0</td>\n",
              "      <td>Research &amp; Development</td>\n",
              "      <td>8.0</td>\n",
              "      <td>2.0</td>\n",
              "      <td>Life Sciences</td>\n",
              "      <td>1.0</td>\n",
              "      <td>...</td>\n",
              "      <td>0.0</td>\n",
              "      <td>5.0</td>\n",
              "      <td>3.0</td>\n",
              "      <td>3.0</td>\n",
              "      <td>5.0</td>\n",
              "      <td>3.0</td>\n",
              "      <td>0.0</td>\n",
              "      <td>2.0</td>\n",
              "      <td>No</td>\n",
              "      <td>39720.0</td>\n",
              "    </tr>\n",
              "    <tr>\n",
              "      <th>4</th>\n",
              "      <td>53</td>\n",
              "      <td>No</td>\n",
              "      <td>35.0</td>\n",
              "      <td>Travel_Rarely</td>\n",
              "      <td>464.0</td>\n",
              "      <td>Research &amp; Development</td>\n",
              "      <td>4.0</td>\n",
              "      <td>2.0</td>\n",
              "      <td>Other</td>\n",
              "      <td>1.0</td>\n",
              "      <td>...</td>\n",
              "      <td>1.0</td>\n",
              "      <td>1.0</td>\n",
              "      <td>3.0</td>\n",
              "      <td>3.0</td>\n",
              "      <td>1.0</td>\n",
              "      <td>0.0</td>\n",
              "      <td>0.0</td>\n",
              "      <td>0.0</td>\n",
              "      <td>No</td>\n",
              "      <td>23412.0</td>\n",
              "    </tr>\n",
              "  </tbody>\n",
              "</table>\n",
              "<p>5 rows × 37 columns</p>\n",
              "</div>\n",
              "      <button class=\"colab-df-convert\" onclick=\"convertToInteractive('df-6fb5b3d5-3241-494e-b060-d224df23a87c')\"\n",
              "              title=\"Convert this dataframe to an interactive table.\"\n",
              "              style=\"display:none;\">\n",
              "        \n",
              "  <svg xmlns=\"http://www.w3.org/2000/svg\" height=\"24px\"viewBox=\"0 0 24 24\"\n",
              "       width=\"24px\">\n",
              "    <path d=\"M0 0h24v24H0V0z\" fill=\"none\"/>\n",
              "    <path d=\"M18.56 5.44l.94 2.06.94-2.06 2.06-.94-2.06-.94-.94-2.06-.94 2.06-2.06.94zm-11 1L8.5 8.5l.94-2.06 2.06-.94-2.06-.94L8.5 2.5l-.94 2.06-2.06.94zm10 10l.94 2.06.94-2.06 2.06-.94-2.06-.94-.94-2.06-.94 2.06-2.06.94z\"/><path d=\"M17.41 7.96l-1.37-1.37c-.4-.4-.92-.59-1.43-.59-.52 0-1.04.2-1.43.59L10.3 9.45l-7.72 7.72c-.78.78-.78 2.05 0 2.83L4 21.41c.39.39.9.59 1.41.59.51 0 1.02-.2 1.41-.59l7.78-7.78 2.81-2.81c.8-.78.8-2.07 0-2.86zM5.41 20L4 18.59l7.72-7.72 1.47 1.35L5.41 20z\"/>\n",
              "  </svg>\n",
              "      </button>\n",
              "      \n",
              "  <style>\n",
              "    .colab-df-container {\n",
              "      display:flex;\n",
              "      flex-wrap:wrap;\n",
              "      gap: 12px;\n",
              "    }\n",
              "\n",
              "    .colab-df-convert {\n",
              "      background-color: #E8F0FE;\n",
              "      border: none;\n",
              "      border-radius: 50%;\n",
              "      cursor: pointer;\n",
              "      display: none;\n",
              "      fill: #1967D2;\n",
              "      height: 32px;\n",
              "      padding: 0 0 0 0;\n",
              "      width: 32px;\n",
              "    }\n",
              "\n",
              "    .colab-df-convert:hover {\n",
              "      background-color: #E2EBFA;\n",
              "      box-shadow: 0px 1px 2px rgba(60, 64, 67, 0.3), 0px 1px 3px 1px rgba(60, 64, 67, 0.15);\n",
              "      fill: #174EA6;\n",
              "    }\n",
              "\n",
              "    [theme=dark] .colab-df-convert {\n",
              "      background-color: #3B4455;\n",
              "      fill: #D2E3FC;\n",
              "    }\n",
              "\n",
              "    [theme=dark] .colab-df-convert:hover {\n",
              "      background-color: #434B5C;\n",
              "      box-shadow: 0px 1px 3px 1px rgba(0, 0, 0, 0.15);\n",
              "      filter: drop-shadow(0px 1px 2px rgba(0, 0, 0, 0.3));\n",
              "      fill: #FFFFFF;\n",
              "    }\n",
              "  </style>\n",
              "\n",
              "      <script>\n",
              "        const buttonEl =\n",
              "          document.querySelector('#df-6fb5b3d5-3241-494e-b060-d224df23a87c button.colab-df-convert');\n",
              "        buttonEl.style.display =\n",
              "          google.colab.kernel.accessAllowed ? 'block' : 'none';\n",
              "\n",
              "        async function convertToInteractive(key) {\n",
              "          const element = document.querySelector('#df-6fb5b3d5-3241-494e-b060-d224df23a87c');\n",
              "          const dataTable =\n",
              "            await google.colab.kernel.invokeFunction('convertToInteractive',\n",
              "                                                     [key], {});\n",
              "          if (!dataTable) return;\n",
              "\n",
              "          const docLinkHtml = 'Like what you see? Visit the ' +\n",
              "            '<a target=\"_blank\" href=https://colab.research.google.com/notebooks/data_table.ipynb>data table notebook</a>'\n",
              "            + ' to learn more about interactive tables.';\n",
              "          element.innerHTML = '';\n",
              "          dataTable['output_type'] = 'display_data';\n",
              "          await google.colab.output.renderOutput(dataTable, element);\n",
              "          const docLink = document.createElement('div');\n",
              "          docLink.innerHTML = docLinkHtml;\n",
              "          element.appendChild(docLink);\n",
              "        }\n",
              "      </script>\n",
              "    </div>\n",
              "  </div>\n",
              "  "
            ]
          },
          "metadata": {},
          "execution_count": 13
        }
      ]
    },
    {
      "cell_type": "code",
      "source": [
        "df_master_1.info()"
      ],
      "metadata": {
        "colab": {
          "base_uri": "https://localhost:8080/"
        },
        "id": "JYVQaPvczSCv",
        "outputId": "a49807fc-8345-44aa-c550-884281a80966"
      },
      "execution_count": null,
      "outputs": [
        {
          "output_type": "stream",
          "name": "stdout",
          "text": [
            "<class 'pandas.core.frame.DataFrame'>\n",
            "Int64Index: 4449 entries, 0 to 4448\n",
            "Data columns (total 37 columns):\n",
            " #   Column                    Non-Null Count  Dtype  \n",
            "---  ------                    --------------  -----  \n",
            " 0   EmployeeNumber            4449 non-null   int64  \n",
            " 1   Attrition_x               4302 non-null   object \n",
            " 2   Age                       4449 non-null   float64\n",
            " 3   BusinessTravel            4449 non-null   object \n",
            " 4   DailyRate                 4449 non-null   float64\n",
            " 5   Department                4449 non-null   object \n",
            " 6   DistanceFromHome          4449 non-null   float64\n",
            " 7   Education                 4449 non-null   float64\n",
            " 8   EducationField            4449 non-null   object \n",
            " 9   EmployeeCount             4449 non-null   float64\n",
            " 10  EnvironmentSatisfaction   4449 non-null   float64\n",
            " 11  Gender                    4449 non-null   object \n",
            " 12  HourlyRate                4449 non-null   float64\n",
            " 13  JobInvolvement            4449 non-null   float64\n",
            " 14  JobLevel                  4449 non-null   float64\n",
            " 15  JobRole                   4449 non-null   object \n",
            " 16  JobSatisfaction           4449 non-null   float64\n",
            " 17  MaritalStatus             4449 non-null   object \n",
            " 18  MonthlyIncome             4449 non-null   float64\n",
            " 19  MonthlyRate               4449 non-null   float64\n",
            " 20  NumCompaniesWorked        4449 non-null   float64\n",
            " 21  Over18                    4449 non-null   object \n",
            " 22  OverTime                  4449 non-null   object \n",
            " 23  PercentSalaryHike         4449 non-null   float64\n",
            " 24  PerformanceRating         4449 non-null   float64\n",
            " 25  RelationshipSatisfaction  4449 non-null   float64\n",
            " 26  StandardHours             4449 non-null   float64\n",
            " 27  StockOptionLevel          4449 non-null   float64\n",
            " 28  TotalWorkingYears         4449 non-null   float64\n",
            " 29  TrainingTimesLastYear     4449 non-null   float64\n",
            " 30  WorkLifeBalance           4449 non-null   float64\n",
            " 31  YearsAtCompany            4449 non-null   float64\n",
            " 32  YearsInCurrentRole        4449 non-null   float64\n",
            " 33  YearsSinceLastPromotion   4449 non-null   float64\n",
            " 34  YearsWithCurrManager      4449 non-null   float64\n",
            " 35  Attrition_y               4302 non-null   object \n",
            " 36  YearlyIncome              4449 non-null   float64\n",
            "dtypes: float64(26), int64(1), object(10)\n",
            "memory usage: 1.3+ MB\n"
          ]
        }
      ]
    },
    {
      "cell_type": "code",
      "source": [
        "df_master_1['Attrition_x'].equals(df_master_1['Attrition_y'])"
      ],
      "metadata": {
        "colab": {
          "base_uri": "https://localhost:8080/"
        },
        "id": "vM3k3Tre0IPG",
        "outputId": "f2252d47-fb70-4bc1-ee79-cd40e8d484da"
      },
      "execution_count": null,
      "outputs": [
        {
          "output_type": "execute_result",
          "data": {
            "text/plain": [
              "True"
            ]
          },
          "metadata": {},
          "execution_count": 15
        }
      ]
    },
    {
      "cell_type": "code",
      "source": [
        "df_master_1.drop('Attrition_x',axis=1,inplace=True)"
      ],
      "metadata": {
        "id": "_EUPzrJE5XIY"
      },
      "execution_count": null,
      "outputs": []
    },
    {
      "cell_type": "code",
      "source": [
        "df_master_1.head()"
      ],
      "metadata": {
        "colab": {
          "base_uri": "https://localhost:8080/",
          "height": 386
        },
        "id": "woLMf7HE8BDN",
        "outputId": "ee4a8d2d-7573-40c9-9080-b7f38255f0b1"
      },
      "execution_count": null,
      "outputs": [
        {
          "output_type": "execute_result",
          "data": {
            "text/plain": [
              "   EmployeeNumber   Age BusinessTravel  DailyRate              Department  \\\n",
              "0             104  30.0  Travel_Rarely      852.0  Research & Development   \n",
              "1            1638  38.0  Travel_Rarely      397.0  Research & Development   \n",
              "2             164  26.0  Travel_Rarely      841.0  Research & Development   \n",
              "3             395  28.0  Travel_Rarely     1117.0  Research & Development   \n",
              "4              53  35.0  Travel_Rarely      464.0  Research & Development   \n",
              "\n",
              "   DistanceFromHome  Education EducationField  EmployeeCount  \\\n",
              "0               1.0        1.0  Life Sciences            1.0   \n",
              "1               2.0        2.0        Medical            1.0   \n",
              "2               6.0        3.0          Other            1.0   \n",
              "3               8.0        2.0  Life Sciences            1.0   \n",
              "4               4.0        2.0          Other            1.0   \n",
              "\n",
              "   EnvironmentSatisfaction  ... StockOptionLevel  TotalWorkingYears  \\\n",
              "0                      4.0  ...              2.0               10.0   \n",
              "1                      4.0  ...              1.0               10.0   \n",
              "2                      3.0  ...              0.0                5.0   \n",
              "3                      4.0  ...              0.0                5.0   \n",
              "4                      3.0  ...              1.0                1.0   \n",
              "\n",
              "   TrainingTimesLastYear  WorkLifeBalance YearsAtCompany  YearsInCurrentRole  \\\n",
              "0                    1.0              2.0           10.0                 8.0   \n",
              "1                    6.0              4.0            5.0                 4.0   \n",
              "2                    3.0              2.0            5.0                 4.0   \n",
              "3                    3.0              3.0            5.0                 3.0   \n",
              "4                    3.0              3.0            1.0                 0.0   \n",
              "\n",
              "  YearsSinceLastPromotion  YearsWithCurrManager  Attrition_y  YearlyIncome  \n",
              "0                     3.0                   0.0           No       61512.0  \n",
              "1                     0.0                   2.0           No       93072.0  \n",
              "2                     4.0                   3.0           No       28416.0  \n",
              "3                     0.0                   2.0           No       39720.0  \n",
              "4                     0.0                   0.0           No       23412.0  \n",
              "\n",
              "[5 rows x 36 columns]"
            ],
            "text/html": [
              "\n",
              "  <div id=\"df-abc46867-6fd3-450f-a99c-f1b092cb54e7\">\n",
              "    <div class=\"colab-df-container\">\n",
              "      <div>\n",
              "<style scoped>\n",
              "    .dataframe tbody tr th:only-of-type {\n",
              "        vertical-align: middle;\n",
              "    }\n",
              "\n",
              "    .dataframe tbody tr th {\n",
              "        vertical-align: top;\n",
              "    }\n",
              "\n",
              "    .dataframe thead th {\n",
              "        text-align: right;\n",
              "    }\n",
              "</style>\n",
              "<table border=\"1\" class=\"dataframe\">\n",
              "  <thead>\n",
              "    <tr style=\"text-align: right;\">\n",
              "      <th></th>\n",
              "      <th>EmployeeNumber</th>\n",
              "      <th>Age</th>\n",
              "      <th>BusinessTravel</th>\n",
              "      <th>DailyRate</th>\n",
              "      <th>Department</th>\n",
              "      <th>DistanceFromHome</th>\n",
              "      <th>Education</th>\n",
              "      <th>EducationField</th>\n",
              "      <th>EmployeeCount</th>\n",
              "      <th>EnvironmentSatisfaction</th>\n",
              "      <th>...</th>\n",
              "      <th>StockOptionLevel</th>\n",
              "      <th>TotalWorkingYears</th>\n",
              "      <th>TrainingTimesLastYear</th>\n",
              "      <th>WorkLifeBalance</th>\n",
              "      <th>YearsAtCompany</th>\n",
              "      <th>YearsInCurrentRole</th>\n",
              "      <th>YearsSinceLastPromotion</th>\n",
              "      <th>YearsWithCurrManager</th>\n",
              "      <th>Attrition_y</th>\n",
              "      <th>YearlyIncome</th>\n",
              "    </tr>\n",
              "  </thead>\n",
              "  <tbody>\n",
              "    <tr>\n",
              "      <th>0</th>\n",
              "      <td>104</td>\n",
              "      <td>30.0</td>\n",
              "      <td>Travel_Rarely</td>\n",
              "      <td>852.0</td>\n",
              "      <td>Research &amp; Development</td>\n",
              "      <td>1.0</td>\n",
              "      <td>1.0</td>\n",
              "      <td>Life Sciences</td>\n",
              "      <td>1.0</td>\n",
              "      <td>4.0</td>\n",
              "      <td>...</td>\n",
              "      <td>2.0</td>\n",
              "      <td>10.0</td>\n",
              "      <td>1.0</td>\n",
              "      <td>2.0</td>\n",
              "      <td>10.0</td>\n",
              "      <td>8.0</td>\n",
              "      <td>3.0</td>\n",
              "      <td>0.0</td>\n",
              "      <td>No</td>\n",
              "      <td>61512.0</td>\n",
              "    </tr>\n",
              "    <tr>\n",
              "      <th>1</th>\n",
              "      <td>1638</td>\n",
              "      <td>38.0</td>\n",
              "      <td>Travel_Rarely</td>\n",
              "      <td>397.0</td>\n",
              "      <td>Research &amp; Development</td>\n",
              "      <td>2.0</td>\n",
              "      <td>2.0</td>\n",
              "      <td>Medical</td>\n",
              "      <td>1.0</td>\n",
              "      <td>4.0</td>\n",
              "      <td>...</td>\n",
              "      <td>1.0</td>\n",
              "      <td>10.0</td>\n",
              "      <td>6.0</td>\n",
              "      <td>4.0</td>\n",
              "      <td>5.0</td>\n",
              "      <td>4.0</td>\n",
              "      <td>0.0</td>\n",
              "      <td>2.0</td>\n",
              "      <td>No</td>\n",
              "      <td>93072.0</td>\n",
              "    </tr>\n",
              "    <tr>\n",
              "      <th>2</th>\n",
              "      <td>164</td>\n",
              "      <td>26.0</td>\n",
              "      <td>Travel_Rarely</td>\n",
              "      <td>841.0</td>\n",
              "      <td>Research &amp; Development</td>\n",
              "      <td>6.0</td>\n",
              "      <td>3.0</td>\n",
              "      <td>Other</td>\n",
              "      <td>1.0</td>\n",
              "      <td>3.0</td>\n",
              "      <td>...</td>\n",
              "      <td>0.0</td>\n",
              "      <td>5.0</td>\n",
              "      <td>3.0</td>\n",
              "      <td>2.0</td>\n",
              "      <td>5.0</td>\n",
              "      <td>4.0</td>\n",
              "      <td>4.0</td>\n",
              "      <td>3.0</td>\n",
              "      <td>No</td>\n",
              "      <td>28416.0</td>\n",
              "    </tr>\n",
              "    <tr>\n",
              "      <th>3</th>\n",
              "      <td>395</td>\n",
              "      <td>28.0</td>\n",
              "      <td>Travel_Rarely</td>\n",
              "      <td>1117.0</td>\n",
              "      <td>Research &amp; Development</td>\n",
              "      <td>8.0</td>\n",
              "      <td>2.0</td>\n",
              "      <td>Life Sciences</td>\n",
              "      <td>1.0</td>\n",
              "      <td>4.0</td>\n",
              "      <td>...</td>\n",
              "      <td>0.0</td>\n",
              "      <td>5.0</td>\n",
              "      <td>3.0</td>\n",
              "      <td>3.0</td>\n",
              "      <td>5.0</td>\n",
              "      <td>3.0</td>\n",
              "      <td>0.0</td>\n",
              "      <td>2.0</td>\n",
              "      <td>No</td>\n",
              "      <td>39720.0</td>\n",
              "    </tr>\n",
              "    <tr>\n",
              "      <th>4</th>\n",
              "      <td>53</td>\n",
              "      <td>35.0</td>\n",
              "      <td>Travel_Rarely</td>\n",
              "      <td>464.0</td>\n",
              "      <td>Research &amp; Development</td>\n",
              "      <td>4.0</td>\n",
              "      <td>2.0</td>\n",
              "      <td>Other</td>\n",
              "      <td>1.0</td>\n",
              "      <td>3.0</td>\n",
              "      <td>...</td>\n",
              "      <td>1.0</td>\n",
              "      <td>1.0</td>\n",
              "      <td>3.0</td>\n",
              "      <td>3.0</td>\n",
              "      <td>1.0</td>\n",
              "      <td>0.0</td>\n",
              "      <td>0.0</td>\n",
              "      <td>0.0</td>\n",
              "      <td>No</td>\n",
              "      <td>23412.0</td>\n",
              "    </tr>\n",
              "  </tbody>\n",
              "</table>\n",
              "<p>5 rows × 36 columns</p>\n",
              "</div>\n",
              "      <button class=\"colab-df-convert\" onclick=\"convertToInteractive('df-abc46867-6fd3-450f-a99c-f1b092cb54e7')\"\n",
              "              title=\"Convert this dataframe to an interactive table.\"\n",
              "              style=\"display:none;\">\n",
              "        \n",
              "  <svg xmlns=\"http://www.w3.org/2000/svg\" height=\"24px\"viewBox=\"0 0 24 24\"\n",
              "       width=\"24px\">\n",
              "    <path d=\"M0 0h24v24H0V0z\" fill=\"none\"/>\n",
              "    <path d=\"M18.56 5.44l.94 2.06.94-2.06 2.06-.94-2.06-.94-.94-2.06-.94 2.06-2.06.94zm-11 1L8.5 8.5l.94-2.06 2.06-.94-2.06-.94L8.5 2.5l-.94 2.06-2.06.94zm10 10l.94 2.06.94-2.06 2.06-.94-2.06-.94-.94-2.06-.94 2.06-2.06.94z\"/><path d=\"M17.41 7.96l-1.37-1.37c-.4-.4-.92-.59-1.43-.59-.52 0-1.04.2-1.43.59L10.3 9.45l-7.72 7.72c-.78.78-.78 2.05 0 2.83L4 21.41c.39.39.9.59 1.41.59.51 0 1.02-.2 1.41-.59l7.78-7.78 2.81-2.81c.8-.78.8-2.07 0-2.86zM5.41 20L4 18.59l7.72-7.72 1.47 1.35L5.41 20z\"/>\n",
              "  </svg>\n",
              "      </button>\n",
              "      \n",
              "  <style>\n",
              "    .colab-df-container {\n",
              "      display:flex;\n",
              "      flex-wrap:wrap;\n",
              "      gap: 12px;\n",
              "    }\n",
              "\n",
              "    .colab-df-convert {\n",
              "      background-color: #E8F0FE;\n",
              "      border: none;\n",
              "      border-radius: 50%;\n",
              "      cursor: pointer;\n",
              "      display: none;\n",
              "      fill: #1967D2;\n",
              "      height: 32px;\n",
              "      padding: 0 0 0 0;\n",
              "      width: 32px;\n",
              "    }\n",
              "\n",
              "    .colab-df-convert:hover {\n",
              "      background-color: #E2EBFA;\n",
              "      box-shadow: 0px 1px 2px rgba(60, 64, 67, 0.3), 0px 1px 3px 1px rgba(60, 64, 67, 0.15);\n",
              "      fill: #174EA6;\n",
              "    }\n",
              "\n",
              "    [theme=dark] .colab-df-convert {\n",
              "      background-color: #3B4455;\n",
              "      fill: #D2E3FC;\n",
              "    }\n",
              "\n",
              "    [theme=dark] .colab-df-convert:hover {\n",
              "      background-color: #434B5C;\n",
              "      box-shadow: 0px 1px 3px 1px rgba(0, 0, 0, 0.15);\n",
              "      filter: drop-shadow(0px 1px 2px rgba(0, 0, 0, 0.3));\n",
              "      fill: #FFFFFF;\n",
              "    }\n",
              "  </style>\n",
              "\n",
              "      <script>\n",
              "        const buttonEl =\n",
              "          document.querySelector('#df-abc46867-6fd3-450f-a99c-f1b092cb54e7 button.colab-df-convert');\n",
              "        buttonEl.style.display =\n",
              "          google.colab.kernel.accessAllowed ? 'block' : 'none';\n",
              "\n",
              "        async function convertToInteractive(key) {\n",
              "          const element = document.querySelector('#df-abc46867-6fd3-450f-a99c-f1b092cb54e7');\n",
              "          const dataTable =\n",
              "            await google.colab.kernel.invokeFunction('convertToInteractive',\n",
              "                                                     [key], {});\n",
              "          if (!dataTable) return;\n",
              "\n",
              "          const docLinkHtml = 'Like what you see? Visit the ' +\n",
              "            '<a target=\"_blank\" href=https://colab.research.google.com/notebooks/data_table.ipynb>data table notebook</a>'\n",
              "            + ' to learn more about interactive tables.';\n",
              "          element.innerHTML = '';\n",
              "          dataTable['output_type'] = 'display_data';\n",
              "          await google.colab.output.renderOutput(dataTable, element);\n",
              "          const docLink = document.createElement('div');\n",
              "          docLink.innerHTML = docLinkHtml;\n",
              "          element.appendChild(docLink);\n",
              "        }\n",
              "      </script>\n",
              "    </div>\n",
              "  </div>\n",
              "  "
            ]
          },
          "metadata": {},
          "execution_count": 17
        }
      ]
    },
    {
      "cell_type": "code",
      "source": [
        "bool_series= pd.isnull(df_master_1['Attrition_y'])"
      ],
      "metadata": {
        "id": "3TBwLhFO8NMk"
      },
      "execution_count": null,
      "outputs": []
    },
    {
      "cell_type": "code",
      "source": [
        "df_master[bool_series]"
      ],
      "metadata": {
        "colab": {
          "base_uri": "https://localhost:8080/",
          "height": 661
        },
        "id": "3vR8jW0cDtBO",
        "outputId": "f1362878-1d08-471a-89f4-0b921fd5afa9"
      },
      "execution_count": null,
      "outputs": [
        {
          "output_type": "execute_result",
          "data": {
            "text/plain": [
              "      EmployeeNumber Attrition   Age BusinessTravel  DailyRate  \\\n",
              "1323          100000       NaN  35.0  Travel_Rarely     1343.0   \n",
              "1324          100001       NaN  27.0  Travel_Rarely     1220.0   \n",
              "1325          100002       NaN  24.0  Travel_Rarely     1476.0   \n",
              "1326          100003       NaN  37.0     Non-Travel      142.0   \n",
              "1327          100004       NaN  33.0  Travel_Rarely      527.0   \n",
              "...              ...       ...   ...            ...        ...   \n",
              "1465          100142       NaN  35.0     Non-Travel      208.0   \n",
              "1466          100143       NaN  41.0  Travel_Rarely      582.0   \n",
              "1467          100144       NaN  42.0  Travel_Rarely     1396.0   \n",
              "1468          100145       NaN  44.0  Travel_Rarely      621.0   \n",
              "1469          100146       NaN  44.0     Non-Travel      381.0   \n",
              "\n",
              "                  Department  DistanceFromHome  Education EducationField  \\\n",
              "1323  Research & Development              27.0        1.0        Medical   \n",
              "1324  Research & Development               5.0        3.0  Life Sciences   \n",
              "1325                   Sales               4.0        1.0        Medical   \n",
              "1326                   Sales               9.0        4.0        Medical   \n",
              "1327  Research & Development               1.0        4.0          Other   \n",
              "...                      ...               ...        ...            ...   \n",
              "1465  Research & Development               8.0        4.0  Life Sciences   \n",
              "1466  Research & Development              28.0        4.0  Life Sciences   \n",
              "1467  Research & Development               6.0        3.0        Medical   \n",
              "1468  Research & Development              15.0        3.0        Medical   \n",
              "1469  Research & Development              24.0        3.0        Medical   \n",
              "\n",
              "      EmployeeCount  ...  Gender HourlyRate  JobInvolvement  JobLevel  \\\n",
              "1323            1.0  ...  Female       53.0             2.0       1.0   \n",
              "1324            1.0  ...  Female       85.0             3.0       1.0   \n",
              "1325            1.0  ...  Female       42.0             3.0       2.0   \n",
              "1326            1.0  ...    Male       69.0             3.0       3.0   \n",
              "1327            1.0  ...    Male       63.0             3.0       1.0   \n",
              "...             ...  ...     ...        ...             ...       ...   \n",
              "1465            1.0  ...  Female       52.0             3.0       2.0   \n",
              "1466            1.0  ...  Female       60.0             2.0       4.0   \n",
              "1467            1.0  ...    Male       83.0             3.0       3.0   \n",
              "1468            1.0  ...  Female       73.0             3.0       3.0   \n",
              "1469            1.0  ...    Male       49.0             1.0       1.0   \n",
              "\n",
              "                        JobRole JobSatisfaction  MaritalStatus MonthlyIncome  \\\n",
              "1323         Research Scientist             1.0         Single        2559.0   \n",
              "1324         Research Scientist             2.0         Single        2478.0   \n",
              "1325            Sales Executive             3.0        Married        4162.0   \n",
              "1326            Sales Executive             2.0       Divorced        8834.0   \n",
              "1327         Research Scientist             4.0         Single        2686.0   \n",
              "...                         ...             ...            ...           ...   \n",
              "1465  Healthcare Representative             3.0        Married        4148.0   \n",
              "1466     Manufacturing Director             2.0        Married       13570.0   \n",
              "1467          Research Director             1.0        Married       13348.0   \n",
              "1468  Healthcare Representative             4.0        Married        7978.0   \n",
              "1469      Laboratory Technician             3.0         Single        3708.0   \n",
              "\n",
              "      MonthlyRate  NumCompaniesWorked  \n",
              "1323      17852.0                 1.0  \n",
              "1324      20938.0                 1.0  \n",
              "1325      15211.0                 1.0  \n",
              "1326      24666.0                 1.0  \n",
              "1327       5207.0                 1.0  \n",
              "...           ...                 ...  \n",
              "1465      12250.0                 1.0  \n",
              "1466       5640.0                 0.0  \n",
              "1467      14842.0                 9.0  \n",
              "1468      14075.0                 1.0  \n",
              "1469       2104.0                 2.0  \n",
              "\n",
              "[147 rows x 21 columns]"
            ],
            "text/html": [
              "\n",
              "  <div id=\"df-3e7b7633-6ea0-47d5-a32a-7ba7b57007cf\">\n",
              "    <div class=\"colab-df-container\">\n",
              "      <div>\n",
              "<style scoped>\n",
              "    .dataframe tbody tr th:only-of-type {\n",
              "        vertical-align: middle;\n",
              "    }\n",
              "\n",
              "    .dataframe tbody tr th {\n",
              "        vertical-align: top;\n",
              "    }\n",
              "\n",
              "    .dataframe thead th {\n",
              "        text-align: right;\n",
              "    }\n",
              "</style>\n",
              "<table border=\"1\" class=\"dataframe\">\n",
              "  <thead>\n",
              "    <tr style=\"text-align: right;\">\n",
              "      <th></th>\n",
              "      <th>EmployeeNumber</th>\n",
              "      <th>Attrition</th>\n",
              "      <th>Age</th>\n",
              "      <th>BusinessTravel</th>\n",
              "      <th>DailyRate</th>\n",
              "      <th>Department</th>\n",
              "      <th>DistanceFromHome</th>\n",
              "      <th>Education</th>\n",
              "      <th>EducationField</th>\n",
              "      <th>EmployeeCount</th>\n",
              "      <th>...</th>\n",
              "      <th>Gender</th>\n",
              "      <th>HourlyRate</th>\n",
              "      <th>JobInvolvement</th>\n",
              "      <th>JobLevel</th>\n",
              "      <th>JobRole</th>\n",
              "      <th>JobSatisfaction</th>\n",
              "      <th>MaritalStatus</th>\n",
              "      <th>MonthlyIncome</th>\n",
              "      <th>MonthlyRate</th>\n",
              "      <th>NumCompaniesWorked</th>\n",
              "    </tr>\n",
              "  </thead>\n",
              "  <tbody>\n",
              "    <tr>\n",
              "      <th>1323</th>\n",
              "      <td>100000</td>\n",
              "      <td>NaN</td>\n",
              "      <td>35.0</td>\n",
              "      <td>Travel_Rarely</td>\n",
              "      <td>1343.0</td>\n",
              "      <td>Research &amp; Development</td>\n",
              "      <td>27.0</td>\n",
              "      <td>1.0</td>\n",
              "      <td>Medical</td>\n",
              "      <td>1.0</td>\n",
              "      <td>...</td>\n",
              "      <td>Female</td>\n",
              "      <td>53.0</td>\n",
              "      <td>2.0</td>\n",
              "      <td>1.0</td>\n",
              "      <td>Research Scientist</td>\n",
              "      <td>1.0</td>\n",
              "      <td>Single</td>\n",
              "      <td>2559.0</td>\n",
              "      <td>17852.0</td>\n",
              "      <td>1.0</td>\n",
              "    </tr>\n",
              "    <tr>\n",
              "      <th>1324</th>\n",
              "      <td>100001</td>\n",
              "      <td>NaN</td>\n",
              "      <td>27.0</td>\n",
              "      <td>Travel_Rarely</td>\n",
              "      <td>1220.0</td>\n",
              "      <td>Research &amp; Development</td>\n",
              "      <td>5.0</td>\n",
              "      <td>3.0</td>\n",
              "      <td>Life Sciences</td>\n",
              "      <td>1.0</td>\n",
              "      <td>...</td>\n",
              "      <td>Female</td>\n",
              "      <td>85.0</td>\n",
              "      <td>3.0</td>\n",
              "      <td>1.0</td>\n",
              "      <td>Research Scientist</td>\n",
              "      <td>2.0</td>\n",
              "      <td>Single</td>\n",
              "      <td>2478.0</td>\n",
              "      <td>20938.0</td>\n",
              "      <td>1.0</td>\n",
              "    </tr>\n",
              "    <tr>\n",
              "      <th>1325</th>\n",
              "      <td>100002</td>\n",
              "      <td>NaN</td>\n",
              "      <td>24.0</td>\n",
              "      <td>Travel_Rarely</td>\n",
              "      <td>1476.0</td>\n",
              "      <td>Sales</td>\n",
              "      <td>4.0</td>\n",
              "      <td>1.0</td>\n",
              "      <td>Medical</td>\n",
              "      <td>1.0</td>\n",
              "      <td>...</td>\n",
              "      <td>Female</td>\n",
              "      <td>42.0</td>\n",
              "      <td>3.0</td>\n",
              "      <td>2.0</td>\n",
              "      <td>Sales Executive</td>\n",
              "      <td>3.0</td>\n",
              "      <td>Married</td>\n",
              "      <td>4162.0</td>\n",
              "      <td>15211.0</td>\n",
              "      <td>1.0</td>\n",
              "    </tr>\n",
              "    <tr>\n",
              "      <th>1326</th>\n",
              "      <td>100003</td>\n",
              "      <td>NaN</td>\n",
              "      <td>37.0</td>\n",
              "      <td>Non-Travel</td>\n",
              "      <td>142.0</td>\n",
              "      <td>Sales</td>\n",
              "      <td>9.0</td>\n",
              "      <td>4.0</td>\n",
              "      <td>Medical</td>\n",
              "      <td>1.0</td>\n",
              "      <td>...</td>\n",
              "      <td>Male</td>\n",
              "      <td>69.0</td>\n",
              "      <td>3.0</td>\n",
              "      <td>3.0</td>\n",
              "      <td>Sales Executive</td>\n",
              "      <td>2.0</td>\n",
              "      <td>Divorced</td>\n",
              "      <td>8834.0</td>\n",
              "      <td>24666.0</td>\n",
              "      <td>1.0</td>\n",
              "    </tr>\n",
              "    <tr>\n",
              "      <th>1327</th>\n",
              "      <td>100004</td>\n",
              "      <td>NaN</td>\n",
              "      <td>33.0</td>\n",
              "      <td>Travel_Rarely</td>\n",
              "      <td>527.0</td>\n",
              "      <td>Research &amp; Development</td>\n",
              "      <td>1.0</td>\n",
              "      <td>4.0</td>\n",
              "      <td>Other</td>\n",
              "      <td>1.0</td>\n",
              "      <td>...</td>\n",
              "      <td>Male</td>\n",
              "      <td>63.0</td>\n",
              "      <td>3.0</td>\n",
              "      <td>1.0</td>\n",
              "      <td>Research Scientist</td>\n",
              "      <td>4.0</td>\n",
              "      <td>Single</td>\n",
              "      <td>2686.0</td>\n",
              "      <td>5207.0</td>\n",
              "      <td>1.0</td>\n",
              "    </tr>\n",
              "    <tr>\n",
              "      <th>...</th>\n",
              "      <td>...</td>\n",
              "      <td>...</td>\n",
              "      <td>...</td>\n",
              "      <td>...</td>\n",
              "      <td>...</td>\n",
              "      <td>...</td>\n",
              "      <td>...</td>\n",
              "      <td>...</td>\n",
              "      <td>...</td>\n",
              "      <td>...</td>\n",
              "      <td>...</td>\n",
              "      <td>...</td>\n",
              "      <td>...</td>\n",
              "      <td>...</td>\n",
              "      <td>...</td>\n",
              "      <td>...</td>\n",
              "      <td>...</td>\n",
              "      <td>...</td>\n",
              "      <td>...</td>\n",
              "      <td>...</td>\n",
              "      <td>...</td>\n",
              "    </tr>\n",
              "    <tr>\n",
              "      <th>1465</th>\n",
              "      <td>100142</td>\n",
              "      <td>NaN</td>\n",
              "      <td>35.0</td>\n",
              "      <td>Non-Travel</td>\n",
              "      <td>208.0</td>\n",
              "      <td>Research &amp; Development</td>\n",
              "      <td>8.0</td>\n",
              "      <td>4.0</td>\n",
              "      <td>Life Sciences</td>\n",
              "      <td>1.0</td>\n",
              "      <td>...</td>\n",
              "      <td>Female</td>\n",
              "      <td>52.0</td>\n",
              "      <td>3.0</td>\n",
              "      <td>2.0</td>\n",
              "      <td>Healthcare Representative</td>\n",
              "      <td>3.0</td>\n",
              "      <td>Married</td>\n",
              "      <td>4148.0</td>\n",
              "      <td>12250.0</td>\n",
              "      <td>1.0</td>\n",
              "    </tr>\n",
              "    <tr>\n",
              "      <th>1466</th>\n",
              "      <td>100143</td>\n",
              "      <td>NaN</td>\n",
              "      <td>41.0</td>\n",
              "      <td>Travel_Rarely</td>\n",
              "      <td>582.0</td>\n",
              "      <td>Research &amp; Development</td>\n",
              "      <td>28.0</td>\n",
              "      <td>4.0</td>\n",
              "      <td>Life Sciences</td>\n",
              "      <td>1.0</td>\n",
              "      <td>...</td>\n",
              "      <td>Female</td>\n",
              "      <td>60.0</td>\n",
              "      <td>2.0</td>\n",
              "      <td>4.0</td>\n",
              "      <td>Manufacturing Director</td>\n",
              "      <td>2.0</td>\n",
              "      <td>Married</td>\n",
              "      <td>13570.0</td>\n",
              "      <td>5640.0</td>\n",
              "      <td>0.0</td>\n",
              "    </tr>\n",
              "    <tr>\n",
              "      <th>1467</th>\n",
              "      <td>100144</td>\n",
              "      <td>NaN</td>\n",
              "      <td>42.0</td>\n",
              "      <td>Travel_Rarely</td>\n",
              "      <td>1396.0</td>\n",
              "      <td>Research &amp; Development</td>\n",
              "      <td>6.0</td>\n",
              "      <td>3.0</td>\n",
              "      <td>Medical</td>\n",
              "      <td>1.0</td>\n",
              "      <td>...</td>\n",
              "      <td>Male</td>\n",
              "      <td>83.0</td>\n",
              "      <td>3.0</td>\n",
              "      <td>3.0</td>\n",
              "      <td>Research Director</td>\n",
              "      <td>1.0</td>\n",
              "      <td>Married</td>\n",
              "      <td>13348.0</td>\n",
              "      <td>14842.0</td>\n",
              "      <td>9.0</td>\n",
              "    </tr>\n",
              "    <tr>\n",
              "      <th>1468</th>\n",
              "      <td>100145</td>\n",
              "      <td>NaN</td>\n",
              "      <td>44.0</td>\n",
              "      <td>Travel_Rarely</td>\n",
              "      <td>621.0</td>\n",
              "      <td>Research &amp; Development</td>\n",
              "      <td>15.0</td>\n",
              "      <td>3.0</td>\n",
              "      <td>Medical</td>\n",
              "      <td>1.0</td>\n",
              "      <td>...</td>\n",
              "      <td>Female</td>\n",
              "      <td>73.0</td>\n",
              "      <td>3.0</td>\n",
              "      <td>3.0</td>\n",
              "      <td>Healthcare Representative</td>\n",
              "      <td>4.0</td>\n",
              "      <td>Married</td>\n",
              "      <td>7978.0</td>\n",
              "      <td>14075.0</td>\n",
              "      <td>1.0</td>\n",
              "    </tr>\n",
              "    <tr>\n",
              "      <th>1469</th>\n",
              "      <td>100146</td>\n",
              "      <td>NaN</td>\n",
              "      <td>44.0</td>\n",
              "      <td>Non-Travel</td>\n",
              "      <td>381.0</td>\n",
              "      <td>Research &amp; Development</td>\n",
              "      <td>24.0</td>\n",
              "      <td>3.0</td>\n",
              "      <td>Medical</td>\n",
              "      <td>1.0</td>\n",
              "      <td>...</td>\n",
              "      <td>Male</td>\n",
              "      <td>49.0</td>\n",
              "      <td>1.0</td>\n",
              "      <td>1.0</td>\n",
              "      <td>Laboratory Technician</td>\n",
              "      <td>3.0</td>\n",
              "      <td>Single</td>\n",
              "      <td>3708.0</td>\n",
              "      <td>2104.0</td>\n",
              "      <td>2.0</td>\n",
              "    </tr>\n",
              "  </tbody>\n",
              "</table>\n",
              "<p>147 rows × 21 columns</p>\n",
              "</div>\n",
              "      <button class=\"colab-df-convert\" onclick=\"convertToInteractive('df-3e7b7633-6ea0-47d5-a32a-7ba7b57007cf')\"\n",
              "              title=\"Convert this dataframe to an interactive table.\"\n",
              "              style=\"display:none;\">\n",
              "        \n",
              "  <svg xmlns=\"http://www.w3.org/2000/svg\" height=\"24px\"viewBox=\"0 0 24 24\"\n",
              "       width=\"24px\">\n",
              "    <path d=\"M0 0h24v24H0V0z\" fill=\"none\"/>\n",
              "    <path d=\"M18.56 5.44l.94 2.06.94-2.06 2.06-.94-2.06-.94-.94-2.06-.94 2.06-2.06.94zm-11 1L8.5 8.5l.94-2.06 2.06-.94-2.06-.94L8.5 2.5l-.94 2.06-2.06.94zm10 10l.94 2.06.94-2.06 2.06-.94-2.06-.94-.94-2.06-.94 2.06-2.06.94z\"/><path d=\"M17.41 7.96l-1.37-1.37c-.4-.4-.92-.59-1.43-.59-.52 0-1.04.2-1.43.59L10.3 9.45l-7.72 7.72c-.78.78-.78 2.05 0 2.83L4 21.41c.39.39.9.59 1.41.59.51 0 1.02-.2 1.41-.59l7.78-7.78 2.81-2.81c.8-.78.8-2.07 0-2.86zM5.41 20L4 18.59l7.72-7.72 1.47 1.35L5.41 20z\"/>\n",
              "  </svg>\n",
              "      </button>\n",
              "      \n",
              "  <style>\n",
              "    .colab-df-container {\n",
              "      display:flex;\n",
              "      flex-wrap:wrap;\n",
              "      gap: 12px;\n",
              "    }\n",
              "\n",
              "    .colab-df-convert {\n",
              "      background-color: #E8F0FE;\n",
              "      border: none;\n",
              "      border-radius: 50%;\n",
              "      cursor: pointer;\n",
              "      display: none;\n",
              "      fill: #1967D2;\n",
              "      height: 32px;\n",
              "      padding: 0 0 0 0;\n",
              "      width: 32px;\n",
              "    }\n",
              "\n",
              "    .colab-df-convert:hover {\n",
              "      background-color: #E2EBFA;\n",
              "      box-shadow: 0px 1px 2px rgba(60, 64, 67, 0.3), 0px 1px 3px 1px rgba(60, 64, 67, 0.15);\n",
              "      fill: #174EA6;\n",
              "    }\n",
              "\n",
              "    [theme=dark] .colab-df-convert {\n",
              "      background-color: #3B4455;\n",
              "      fill: #D2E3FC;\n",
              "    }\n",
              "\n",
              "    [theme=dark] .colab-df-convert:hover {\n",
              "      background-color: #434B5C;\n",
              "      box-shadow: 0px 1px 3px 1px rgba(0, 0, 0, 0.15);\n",
              "      filter: drop-shadow(0px 1px 2px rgba(0, 0, 0, 0.3));\n",
              "      fill: #FFFFFF;\n",
              "    }\n",
              "  </style>\n",
              "\n",
              "      <script>\n",
              "        const buttonEl =\n",
              "          document.querySelector('#df-3e7b7633-6ea0-47d5-a32a-7ba7b57007cf button.colab-df-convert');\n",
              "        buttonEl.style.display =\n",
              "          google.colab.kernel.accessAllowed ? 'block' : 'none';\n",
              "\n",
              "        async function convertToInteractive(key) {\n",
              "          const element = document.querySelector('#df-3e7b7633-6ea0-47d5-a32a-7ba7b57007cf');\n",
              "          const dataTable =\n",
              "            await google.colab.kernel.invokeFunction('convertToInteractive',\n",
              "                                                     [key], {});\n",
              "          if (!dataTable) return;\n",
              "\n",
              "          const docLinkHtml = 'Like what you see? Visit the ' +\n",
              "            '<a target=\"_blank\" href=https://colab.research.google.com/notebooks/data_table.ipynb>data table notebook</a>'\n",
              "            + ' to learn more about interactive tables.';\n",
              "          element.innerHTML = '';\n",
              "          dataTable['output_type'] = 'display_data';\n",
              "          await google.colab.output.renderOutput(dataTable, element);\n",
              "          const docLink = document.createElement('div');\n",
              "          docLink.innerHTML = docLinkHtml;\n",
              "          element.appendChild(docLink);\n",
              "        }\n",
              "      </script>\n",
              "    </div>\n",
              "  </div>\n",
              "  "
            ]
          },
          "metadata": {},
          "execution_count": 19
        }
      ]
    },
    {
      "cell_type": "code",
      "source": [
        "print(df_master_1.isnull().sum())"
      ],
      "metadata": {
        "colab": {
          "base_uri": "https://localhost:8080/"
        },
        "id": "prIu68IxHa3F",
        "outputId": "66b44c12-963d-4531-e4e8-b48b2b58836c"
      },
      "execution_count": null,
      "outputs": [
        {
          "output_type": "stream",
          "name": "stdout",
          "text": [
            "EmployeeNumber                0\n",
            "Age                           0\n",
            "BusinessTravel                0\n",
            "DailyRate                     0\n",
            "Department                    0\n",
            "DistanceFromHome              0\n",
            "Education                     0\n",
            "EducationField                0\n",
            "EmployeeCount                 0\n",
            "EnvironmentSatisfaction       0\n",
            "Gender                        0\n",
            "HourlyRate                    0\n",
            "JobInvolvement                0\n",
            "JobLevel                      0\n",
            "JobRole                       0\n",
            "JobSatisfaction               0\n",
            "MaritalStatus                 0\n",
            "MonthlyIncome                 0\n",
            "MonthlyRate                   0\n",
            "NumCompaniesWorked            0\n",
            "Over18                        0\n",
            "OverTime                      0\n",
            "PercentSalaryHike             0\n",
            "PerformanceRating             0\n",
            "RelationshipSatisfaction      0\n",
            "StandardHours                 0\n",
            "StockOptionLevel              0\n",
            "TotalWorkingYears             0\n",
            "TrainingTimesLastYear         0\n",
            "WorkLifeBalance               0\n",
            "YearsAtCompany                0\n",
            "YearsInCurrentRole            0\n",
            "YearsSinceLastPromotion       0\n",
            "YearsWithCurrManager          0\n",
            "Attrition_y                 147\n",
            "YearlyIncome                  0\n",
            "dtype: int64\n"
          ]
        }
      ]
    },
    {
      "cell_type": "code",
      "source": [
        "df_master_1= df_master_1.dropna()\n",
        "    \n"
      ],
      "metadata": {
        "id": "1bDBroXa0D1y"
      },
      "execution_count": null,
      "outputs": []
    },
    {
      "cell_type": "code",
      "source": [
        "df_master_1"
      ],
      "metadata": {
        "colab": {
          "base_uri": "https://localhost:8080/",
          "height": 661
        },
        "id": "dFzHnTYdELyv",
        "outputId": "fd5193d8-13a4-4b61-8e2f-a7c2a26b2c12"
      },
      "execution_count": null,
      "outputs": [
        {
          "output_type": "execute_result",
          "data": {
            "text/plain": [
              "      EmployeeNumber     Age BusinessTravel  DailyRate  \\\n",
              "0                104    30.0  Travel_Rarely      852.0   \n",
              "1               1638    38.0  Travel_Rarely      397.0   \n",
              "2                164    26.0  Travel_Rarely      841.0   \n",
              "3                395    28.0  Travel_Rarely     1117.0   \n",
              "4                 53    35.0  Travel_Rarely      464.0   \n",
              "...              ...     ...            ...        ...   \n",
              "4444            7975  8823.0  Travel_Rarely      621.0   \n",
              "4445            7976  8823.0  Travel_Rarely      621.0   \n",
              "4446            7977    44.0     Non-Travel      381.0   \n",
              "4447            7978    44.0     Non-Travel      381.0   \n",
              "4448            7979    44.0     Non-Travel      381.0   \n",
              "\n",
              "                  Department  DistanceFromHome  Education EducationField  \\\n",
              "0     Research & Development               1.0        1.0  Life Sciences   \n",
              "1     Research & Development               2.0        2.0        Medical   \n",
              "2     Research & Development               6.0        3.0          Other   \n",
              "3     Research & Development               8.0        2.0  Life Sciences   \n",
              "4     Research & Development               4.0        2.0          Other   \n",
              "...                      ...               ...        ...            ...   \n",
              "4444  Research & Development              15.0        3.0        Medical   \n",
              "4445  Research & Development              15.0        3.0        Medical   \n",
              "4446  Research & Development          918785.0        3.0        Medical   \n",
              "4447  Research & Development          918785.0        3.0        Medical   \n",
              "4448  Research & Development          918785.0        3.0        Medical   \n",
              "\n",
              "      EmployeeCount  EnvironmentSatisfaction  ... StockOptionLevel  \\\n",
              "0               1.0                      4.0  ...              2.0   \n",
              "1               1.0                      4.0  ...              1.0   \n",
              "2               1.0                      3.0  ...              0.0   \n",
              "3               1.0                      4.0  ...              0.0   \n",
              "4               1.0                      3.0  ...              1.0   \n",
              "...             ...                      ...  ...              ...   \n",
              "4444            1.0                      1.0  ...              1.0   \n",
              "4445            1.0                      1.0  ...              1.0   \n",
              "4446            1.0                      1.0  ...              0.0   \n",
              "4447            1.0                      1.0  ...              0.0   \n",
              "4448            1.0                      1.0  ...              0.0   \n",
              "\n",
              "      TotalWorkingYears  TrainingTimesLastYear  WorkLifeBalance  \\\n",
              "0                  10.0                    1.0              2.0   \n",
              "1                  10.0                    6.0              4.0   \n",
              "2                   5.0                    3.0              2.0   \n",
              "3                   5.0                    3.0              3.0   \n",
              "4                   1.0                    3.0              3.0   \n",
              "...                 ...                    ...              ...   \n",
              "4444               10.0                    2.0              3.0   \n",
              "4445               10.0                    2.0              3.0   \n",
              "4446                9.0                    5.0              3.0   \n",
              "4447                9.0                    5.0              3.0   \n",
              "4448                9.0                    5.0              3.0   \n",
              "\n",
              "     YearsAtCompany  YearsInCurrentRole YearsSinceLastPromotion  \\\n",
              "0              10.0                 8.0                     3.0   \n",
              "1               5.0                 4.0                     0.0   \n",
              "2               5.0                 4.0                     4.0   \n",
              "3               5.0                 3.0                     0.0   \n",
              "4               1.0                 0.0                     0.0   \n",
              "...             ...                 ...                     ...   \n",
              "4444           10.0                 7.0                     0.0   \n",
              "4445           10.0                 7.0                     0.0   \n",
              "4446            5.0                 2.0                     1.0   \n",
              "4447            5.0                 2.0                     1.0   \n",
              "4448            5.0                 2.0                     1.0   \n",
              "\n",
              "      YearsWithCurrManager  Attrition_y  YearlyIncome  \n",
              "0                      0.0           No       61512.0  \n",
              "1                      2.0           No       93072.0  \n",
              "2                      3.0           No       28416.0  \n",
              "3                      2.0           No       39720.0  \n",
              "4                      0.0           No       23412.0  \n",
              "...                    ...          ...           ...  \n",
              "4444                   5.0          Yes       95736.0  \n",
              "4445                   5.0          Yes       95736.0  \n",
              "4446                   4.0          Yes       44496.0  \n",
              "4447                   4.0          Yes       44496.0  \n",
              "4448                   4.0          Yes       44496.0  \n",
              "\n",
              "[4302 rows x 36 columns]"
            ],
            "text/html": [
              "\n",
              "  <div id=\"df-155aac52-29d5-4419-9fcd-7ee651e9087d\">\n",
              "    <div class=\"colab-df-container\">\n",
              "      <div>\n",
              "<style scoped>\n",
              "    .dataframe tbody tr th:only-of-type {\n",
              "        vertical-align: middle;\n",
              "    }\n",
              "\n",
              "    .dataframe tbody tr th {\n",
              "        vertical-align: top;\n",
              "    }\n",
              "\n",
              "    .dataframe thead th {\n",
              "        text-align: right;\n",
              "    }\n",
              "</style>\n",
              "<table border=\"1\" class=\"dataframe\">\n",
              "  <thead>\n",
              "    <tr style=\"text-align: right;\">\n",
              "      <th></th>\n",
              "      <th>EmployeeNumber</th>\n",
              "      <th>Age</th>\n",
              "      <th>BusinessTravel</th>\n",
              "      <th>DailyRate</th>\n",
              "      <th>Department</th>\n",
              "      <th>DistanceFromHome</th>\n",
              "      <th>Education</th>\n",
              "      <th>EducationField</th>\n",
              "      <th>EmployeeCount</th>\n",
              "      <th>EnvironmentSatisfaction</th>\n",
              "      <th>...</th>\n",
              "      <th>StockOptionLevel</th>\n",
              "      <th>TotalWorkingYears</th>\n",
              "      <th>TrainingTimesLastYear</th>\n",
              "      <th>WorkLifeBalance</th>\n",
              "      <th>YearsAtCompany</th>\n",
              "      <th>YearsInCurrentRole</th>\n",
              "      <th>YearsSinceLastPromotion</th>\n",
              "      <th>YearsWithCurrManager</th>\n",
              "      <th>Attrition_y</th>\n",
              "      <th>YearlyIncome</th>\n",
              "    </tr>\n",
              "  </thead>\n",
              "  <tbody>\n",
              "    <tr>\n",
              "      <th>0</th>\n",
              "      <td>104</td>\n",
              "      <td>30.0</td>\n",
              "      <td>Travel_Rarely</td>\n",
              "      <td>852.0</td>\n",
              "      <td>Research &amp; Development</td>\n",
              "      <td>1.0</td>\n",
              "      <td>1.0</td>\n",
              "      <td>Life Sciences</td>\n",
              "      <td>1.0</td>\n",
              "      <td>4.0</td>\n",
              "      <td>...</td>\n",
              "      <td>2.0</td>\n",
              "      <td>10.0</td>\n",
              "      <td>1.0</td>\n",
              "      <td>2.0</td>\n",
              "      <td>10.0</td>\n",
              "      <td>8.0</td>\n",
              "      <td>3.0</td>\n",
              "      <td>0.0</td>\n",
              "      <td>No</td>\n",
              "      <td>61512.0</td>\n",
              "    </tr>\n",
              "    <tr>\n",
              "      <th>1</th>\n",
              "      <td>1638</td>\n",
              "      <td>38.0</td>\n",
              "      <td>Travel_Rarely</td>\n",
              "      <td>397.0</td>\n",
              "      <td>Research &amp; Development</td>\n",
              "      <td>2.0</td>\n",
              "      <td>2.0</td>\n",
              "      <td>Medical</td>\n",
              "      <td>1.0</td>\n",
              "      <td>4.0</td>\n",
              "      <td>...</td>\n",
              "      <td>1.0</td>\n",
              "      <td>10.0</td>\n",
              "      <td>6.0</td>\n",
              "      <td>4.0</td>\n",
              "      <td>5.0</td>\n",
              "      <td>4.0</td>\n",
              "      <td>0.0</td>\n",
              "      <td>2.0</td>\n",
              "      <td>No</td>\n",
              "      <td>93072.0</td>\n",
              "    </tr>\n",
              "    <tr>\n",
              "      <th>2</th>\n",
              "      <td>164</td>\n",
              "      <td>26.0</td>\n",
              "      <td>Travel_Rarely</td>\n",
              "      <td>841.0</td>\n",
              "      <td>Research &amp; Development</td>\n",
              "      <td>6.0</td>\n",
              "      <td>3.0</td>\n",
              "      <td>Other</td>\n",
              "      <td>1.0</td>\n",
              "      <td>3.0</td>\n",
              "      <td>...</td>\n",
              "      <td>0.0</td>\n",
              "      <td>5.0</td>\n",
              "      <td>3.0</td>\n",
              "      <td>2.0</td>\n",
              "      <td>5.0</td>\n",
              "      <td>4.0</td>\n",
              "      <td>4.0</td>\n",
              "      <td>3.0</td>\n",
              "      <td>No</td>\n",
              "      <td>28416.0</td>\n",
              "    </tr>\n",
              "    <tr>\n",
              "      <th>3</th>\n",
              "      <td>395</td>\n",
              "      <td>28.0</td>\n",
              "      <td>Travel_Rarely</td>\n",
              "      <td>1117.0</td>\n",
              "      <td>Research &amp; Development</td>\n",
              "      <td>8.0</td>\n",
              "      <td>2.0</td>\n",
              "      <td>Life Sciences</td>\n",
              "      <td>1.0</td>\n",
              "      <td>4.0</td>\n",
              "      <td>...</td>\n",
              "      <td>0.0</td>\n",
              "      <td>5.0</td>\n",
              "      <td>3.0</td>\n",
              "      <td>3.0</td>\n",
              "      <td>5.0</td>\n",
              "      <td>3.0</td>\n",
              "      <td>0.0</td>\n",
              "      <td>2.0</td>\n",
              "      <td>No</td>\n",
              "      <td>39720.0</td>\n",
              "    </tr>\n",
              "    <tr>\n",
              "      <th>4</th>\n",
              "      <td>53</td>\n",
              "      <td>35.0</td>\n",
              "      <td>Travel_Rarely</td>\n",
              "      <td>464.0</td>\n",
              "      <td>Research &amp; Development</td>\n",
              "      <td>4.0</td>\n",
              "      <td>2.0</td>\n",
              "      <td>Other</td>\n",
              "      <td>1.0</td>\n",
              "      <td>3.0</td>\n",
              "      <td>...</td>\n",
              "      <td>1.0</td>\n",
              "      <td>1.0</td>\n",
              "      <td>3.0</td>\n",
              "      <td>3.0</td>\n",
              "      <td>1.0</td>\n",
              "      <td>0.0</td>\n",
              "      <td>0.0</td>\n",
              "      <td>0.0</td>\n",
              "      <td>No</td>\n",
              "      <td>23412.0</td>\n",
              "    </tr>\n",
              "    <tr>\n",
              "      <th>...</th>\n",
              "      <td>...</td>\n",
              "      <td>...</td>\n",
              "      <td>...</td>\n",
              "      <td>...</td>\n",
              "      <td>...</td>\n",
              "      <td>...</td>\n",
              "      <td>...</td>\n",
              "      <td>...</td>\n",
              "      <td>...</td>\n",
              "      <td>...</td>\n",
              "      <td>...</td>\n",
              "      <td>...</td>\n",
              "      <td>...</td>\n",
              "      <td>...</td>\n",
              "      <td>...</td>\n",
              "      <td>...</td>\n",
              "      <td>...</td>\n",
              "      <td>...</td>\n",
              "      <td>...</td>\n",
              "      <td>...</td>\n",
              "      <td>...</td>\n",
              "    </tr>\n",
              "    <tr>\n",
              "      <th>4444</th>\n",
              "      <td>7975</td>\n",
              "      <td>8823.0</td>\n",
              "      <td>Travel_Rarely</td>\n",
              "      <td>621.0</td>\n",
              "      <td>Research &amp; Development</td>\n",
              "      <td>15.0</td>\n",
              "      <td>3.0</td>\n",
              "      <td>Medical</td>\n",
              "      <td>1.0</td>\n",
              "      <td>1.0</td>\n",
              "      <td>...</td>\n",
              "      <td>1.0</td>\n",
              "      <td>10.0</td>\n",
              "      <td>2.0</td>\n",
              "      <td>3.0</td>\n",
              "      <td>10.0</td>\n",
              "      <td>7.0</td>\n",
              "      <td>0.0</td>\n",
              "      <td>5.0</td>\n",
              "      <td>Yes</td>\n",
              "      <td>95736.0</td>\n",
              "    </tr>\n",
              "    <tr>\n",
              "      <th>4445</th>\n",
              "      <td>7976</td>\n",
              "      <td>8823.0</td>\n",
              "      <td>Travel_Rarely</td>\n",
              "      <td>621.0</td>\n",
              "      <td>Research &amp; Development</td>\n",
              "      <td>15.0</td>\n",
              "      <td>3.0</td>\n",
              "      <td>Medical</td>\n",
              "      <td>1.0</td>\n",
              "      <td>1.0</td>\n",
              "      <td>...</td>\n",
              "      <td>1.0</td>\n",
              "      <td>10.0</td>\n",
              "      <td>2.0</td>\n",
              "      <td>3.0</td>\n",
              "      <td>10.0</td>\n",
              "      <td>7.0</td>\n",
              "      <td>0.0</td>\n",
              "      <td>5.0</td>\n",
              "      <td>Yes</td>\n",
              "      <td>95736.0</td>\n",
              "    </tr>\n",
              "    <tr>\n",
              "      <th>4446</th>\n",
              "      <td>7977</td>\n",
              "      <td>44.0</td>\n",
              "      <td>Non-Travel</td>\n",
              "      <td>381.0</td>\n",
              "      <td>Research &amp; Development</td>\n",
              "      <td>918785.0</td>\n",
              "      <td>3.0</td>\n",
              "      <td>Medical</td>\n",
              "      <td>1.0</td>\n",
              "      <td>1.0</td>\n",
              "      <td>...</td>\n",
              "      <td>0.0</td>\n",
              "      <td>9.0</td>\n",
              "      <td>5.0</td>\n",
              "      <td>3.0</td>\n",
              "      <td>5.0</td>\n",
              "      <td>2.0</td>\n",
              "      <td>1.0</td>\n",
              "      <td>4.0</td>\n",
              "      <td>Yes</td>\n",
              "      <td>44496.0</td>\n",
              "    </tr>\n",
              "    <tr>\n",
              "      <th>4447</th>\n",
              "      <td>7978</td>\n",
              "      <td>44.0</td>\n",
              "      <td>Non-Travel</td>\n",
              "      <td>381.0</td>\n",
              "      <td>Research &amp; Development</td>\n",
              "      <td>918785.0</td>\n",
              "      <td>3.0</td>\n",
              "      <td>Medical</td>\n",
              "      <td>1.0</td>\n",
              "      <td>1.0</td>\n",
              "      <td>...</td>\n",
              "      <td>0.0</td>\n",
              "      <td>9.0</td>\n",
              "      <td>5.0</td>\n",
              "      <td>3.0</td>\n",
              "      <td>5.0</td>\n",
              "      <td>2.0</td>\n",
              "      <td>1.0</td>\n",
              "      <td>4.0</td>\n",
              "      <td>Yes</td>\n",
              "      <td>44496.0</td>\n",
              "    </tr>\n",
              "    <tr>\n",
              "      <th>4448</th>\n",
              "      <td>7979</td>\n",
              "      <td>44.0</td>\n",
              "      <td>Non-Travel</td>\n",
              "      <td>381.0</td>\n",
              "      <td>Research &amp; Development</td>\n",
              "      <td>918785.0</td>\n",
              "      <td>3.0</td>\n",
              "      <td>Medical</td>\n",
              "      <td>1.0</td>\n",
              "      <td>1.0</td>\n",
              "      <td>...</td>\n",
              "      <td>0.0</td>\n",
              "      <td>9.0</td>\n",
              "      <td>5.0</td>\n",
              "      <td>3.0</td>\n",
              "      <td>5.0</td>\n",
              "      <td>2.0</td>\n",
              "      <td>1.0</td>\n",
              "      <td>4.0</td>\n",
              "      <td>Yes</td>\n",
              "      <td>44496.0</td>\n",
              "    </tr>\n",
              "  </tbody>\n",
              "</table>\n",
              "<p>4302 rows × 36 columns</p>\n",
              "</div>\n",
              "      <button class=\"colab-df-convert\" onclick=\"convertToInteractive('df-155aac52-29d5-4419-9fcd-7ee651e9087d')\"\n",
              "              title=\"Convert this dataframe to an interactive table.\"\n",
              "              style=\"display:none;\">\n",
              "        \n",
              "  <svg xmlns=\"http://www.w3.org/2000/svg\" height=\"24px\"viewBox=\"0 0 24 24\"\n",
              "       width=\"24px\">\n",
              "    <path d=\"M0 0h24v24H0V0z\" fill=\"none\"/>\n",
              "    <path d=\"M18.56 5.44l.94 2.06.94-2.06 2.06-.94-2.06-.94-.94-2.06-.94 2.06-2.06.94zm-11 1L8.5 8.5l.94-2.06 2.06-.94-2.06-.94L8.5 2.5l-.94 2.06-2.06.94zm10 10l.94 2.06.94-2.06 2.06-.94-2.06-.94-.94-2.06-.94 2.06-2.06.94z\"/><path d=\"M17.41 7.96l-1.37-1.37c-.4-.4-.92-.59-1.43-.59-.52 0-1.04.2-1.43.59L10.3 9.45l-7.72 7.72c-.78.78-.78 2.05 0 2.83L4 21.41c.39.39.9.59 1.41.59.51 0 1.02-.2 1.41-.59l7.78-7.78 2.81-2.81c.8-.78.8-2.07 0-2.86zM5.41 20L4 18.59l7.72-7.72 1.47 1.35L5.41 20z\"/>\n",
              "  </svg>\n",
              "      </button>\n",
              "      \n",
              "  <style>\n",
              "    .colab-df-container {\n",
              "      display:flex;\n",
              "      flex-wrap:wrap;\n",
              "      gap: 12px;\n",
              "    }\n",
              "\n",
              "    .colab-df-convert {\n",
              "      background-color: #E8F0FE;\n",
              "      border: none;\n",
              "      border-radius: 50%;\n",
              "      cursor: pointer;\n",
              "      display: none;\n",
              "      fill: #1967D2;\n",
              "      height: 32px;\n",
              "      padding: 0 0 0 0;\n",
              "      width: 32px;\n",
              "    }\n",
              "\n",
              "    .colab-df-convert:hover {\n",
              "      background-color: #E2EBFA;\n",
              "      box-shadow: 0px 1px 2px rgba(60, 64, 67, 0.3), 0px 1px 3px 1px rgba(60, 64, 67, 0.15);\n",
              "      fill: #174EA6;\n",
              "    }\n",
              "\n",
              "    [theme=dark] .colab-df-convert {\n",
              "      background-color: #3B4455;\n",
              "      fill: #D2E3FC;\n",
              "    }\n",
              "\n",
              "    [theme=dark] .colab-df-convert:hover {\n",
              "      background-color: #434B5C;\n",
              "      box-shadow: 0px 1px 3px 1px rgba(0, 0, 0, 0.15);\n",
              "      filter: drop-shadow(0px 1px 2px rgba(0, 0, 0, 0.3));\n",
              "      fill: #FFFFFF;\n",
              "    }\n",
              "  </style>\n",
              "\n",
              "      <script>\n",
              "        const buttonEl =\n",
              "          document.querySelector('#df-155aac52-29d5-4419-9fcd-7ee651e9087d button.colab-df-convert');\n",
              "        buttonEl.style.display =\n",
              "          google.colab.kernel.accessAllowed ? 'block' : 'none';\n",
              "\n",
              "        async function convertToInteractive(key) {\n",
              "          const element = document.querySelector('#df-155aac52-29d5-4419-9fcd-7ee651e9087d');\n",
              "          const dataTable =\n",
              "            await google.colab.kernel.invokeFunction('convertToInteractive',\n",
              "                                                     [key], {});\n",
              "          if (!dataTable) return;\n",
              "\n",
              "          const docLinkHtml = 'Like what you see? Visit the ' +\n",
              "            '<a target=\"_blank\" href=https://colab.research.google.com/notebooks/data_table.ipynb>data table notebook</a>'\n",
              "            + ' to learn more about interactive tables.';\n",
              "          element.innerHTML = '';\n",
              "          dataTable['output_type'] = 'display_data';\n",
              "          await google.colab.output.renderOutput(dataTable, element);\n",
              "          const docLink = document.createElement('div');\n",
              "          docLink.innerHTML = docLinkHtml;\n",
              "          element.appendChild(docLink);\n",
              "        }\n",
              "      </script>\n",
              "    </div>\n",
              "  </div>\n",
              "  "
            ]
          },
          "metadata": {},
          "execution_count": 22
        }
      ]
    },
    {
      "cell_type": "code",
      "source": [
        "print(df_master_1.isnull().sum())"
      ],
      "metadata": {
        "colab": {
          "base_uri": "https://localhost:8080/"
        },
        "id": "TtnpfEVIEZTj",
        "outputId": "ee66b764-7ede-4dd9-c023-81fdb56b0090"
      },
      "execution_count": null,
      "outputs": [
        {
          "output_type": "stream",
          "name": "stdout",
          "text": [
            "EmployeeNumber              0\n",
            "Age                         0\n",
            "BusinessTravel              0\n",
            "DailyRate                   0\n",
            "Department                  0\n",
            "DistanceFromHome            0\n",
            "Education                   0\n",
            "EducationField              0\n",
            "EmployeeCount               0\n",
            "EnvironmentSatisfaction     0\n",
            "Gender                      0\n",
            "HourlyRate                  0\n",
            "JobInvolvement              0\n",
            "JobLevel                    0\n",
            "JobRole                     0\n",
            "JobSatisfaction             0\n",
            "MaritalStatus               0\n",
            "MonthlyIncome               0\n",
            "MonthlyRate                 0\n",
            "NumCompaniesWorked          0\n",
            "Over18                      0\n",
            "OverTime                    0\n",
            "PercentSalaryHike           0\n",
            "PerformanceRating           0\n",
            "RelationshipSatisfaction    0\n",
            "StandardHours               0\n",
            "StockOptionLevel            0\n",
            "TotalWorkingYears           0\n",
            "TrainingTimesLastYear       0\n",
            "WorkLifeBalance             0\n",
            "YearsAtCompany              0\n",
            "YearsInCurrentRole          0\n",
            "YearsSinceLastPromotion     0\n",
            "YearsWithCurrManager        0\n",
            "Attrition_y                 0\n",
            "YearlyIncome                0\n",
            "dtype: int64\n"
          ]
        }
      ]
    },
    {
      "cell_type": "code",
      "source": [
        "df_master_1.info()"
      ],
      "metadata": {
        "colab": {
          "base_uri": "https://localhost:8080/"
        },
        "id": "1yHikknDEm0y",
        "outputId": "bf21afdc-a069-45d7-f859-aad195752c12"
      },
      "execution_count": null,
      "outputs": [
        {
          "output_type": "stream",
          "name": "stdout",
          "text": [
            "<class 'pandas.core.frame.DataFrame'>\n",
            "Int64Index: 4302 entries, 0 to 4448\n",
            "Data columns (total 36 columns):\n",
            " #   Column                    Non-Null Count  Dtype  \n",
            "---  ------                    --------------  -----  \n",
            " 0   EmployeeNumber            4302 non-null   int64  \n",
            " 1   Age                       4302 non-null   float64\n",
            " 2   BusinessTravel            4302 non-null   object \n",
            " 3   DailyRate                 4302 non-null   float64\n",
            " 4   Department                4302 non-null   object \n",
            " 5   DistanceFromHome          4302 non-null   float64\n",
            " 6   Education                 4302 non-null   float64\n",
            " 7   EducationField            4302 non-null   object \n",
            " 8   EmployeeCount             4302 non-null   float64\n",
            " 9   EnvironmentSatisfaction   4302 non-null   float64\n",
            " 10  Gender                    4302 non-null   object \n",
            " 11  HourlyRate                4302 non-null   float64\n",
            " 12  JobInvolvement            4302 non-null   float64\n",
            " 13  JobLevel                  4302 non-null   float64\n",
            " 14  JobRole                   4302 non-null   object \n",
            " 15  JobSatisfaction           4302 non-null   float64\n",
            " 16  MaritalStatus             4302 non-null   object \n",
            " 17  MonthlyIncome             4302 non-null   float64\n",
            " 18  MonthlyRate               4302 non-null   float64\n",
            " 19  NumCompaniesWorked        4302 non-null   float64\n",
            " 20  Over18                    4302 non-null   object \n",
            " 21  OverTime                  4302 non-null   object \n",
            " 22  PercentSalaryHike         4302 non-null   float64\n",
            " 23  PerformanceRating         4302 non-null   float64\n",
            " 24  RelationshipSatisfaction  4302 non-null   float64\n",
            " 25  StandardHours             4302 non-null   float64\n",
            " 26  StockOptionLevel          4302 non-null   float64\n",
            " 27  TotalWorkingYears         4302 non-null   float64\n",
            " 28  TrainingTimesLastYear     4302 non-null   float64\n",
            " 29  WorkLifeBalance           4302 non-null   float64\n",
            " 30  YearsAtCompany            4302 non-null   float64\n",
            " 31  YearsInCurrentRole        4302 non-null   float64\n",
            " 32  YearsSinceLastPromotion   4302 non-null   float64\n",
            " 33  YearsWithCurrManager      4302 non-null   float64\n",
            " 34  Attrition_y               4302 non-null   object \n",
            " 35  YearlyIncome              4302 non-null   float64\n",
            "dtypes: float64(26), int64(1), object(9)\n",
            "memory usage: 1.2+ MB\n"
          ]
        }
      ]
    },
    {
      "cell_type": "code",
      "source": [
        "df_master_1.describe()"
      ],
      "metadata": {
        "colab": {
          "base_uri": "https://localhost:8080/",
          "height": 394
        },
        "id": "7D1E9O6OFWqC",
        "outputId": "e7791818-073f-43a9-9c56-dcc58b22e43a"
      },
      "execution_count": null,
      "outputs": [
        {
          "output_type": "execute_result",
          "data": {
            "text/plain": [
              "       EmployeeNumber          Age    DailyRate  DistanceFromHome  \\\n",
              "count     4302.000000  4302.000000  4302.000000       4302.000000   \n",
              "mean      4809.243143   429.123199   800.843794      34478.313343   \n",
              "std       2643.040205  1591.153416   405.655763     147682.315767   \n",
              "min          1.000000    18.000000   102.000000          1.000000   \n",
              "25%       1680.250000    31.000000   457.000000          2.000000   \n",
              "50%       5828.500000    36.000000   804.000000          8.000000   \n",
              "75%       6903.750000    45.000000  1162.000000         17.000000   \n",
              "max       7979.000000  9890.000000  1499.000000     999590.000000   \n",
              "\n",
              "         Education  EmployeeCount  EnvironmentSatisfaction   HourlyRate  \\\n",
              "count  4302.000000         4302.0              4302.000000  4302.000000   \n",
              "mean      2.906788            1.0                 2.719665    66.036495   \n",
              "std       1.026460            0.0                 1.092333    20.298352   \n",
              "min       1.000000            1.0                 1.000000    30.000000   \n",
              "25%       2.000000            1.0                 2.000000    48.000000   \n",
              "50%       3.000000            1.0                 3.000000    66.000000   \n",
              "75%       4.000000            1.0                 4.000000    84.000000   \n",
              "max       5.000000            1.0                 4.000000   100.000000   \n",
              "\n",
              "       JobInvolvement     JobLevel  ...  StandardHours  StockOptionLevel  \\\n",
              "count     4302.000000  4302.000000  ...         4302.0       4302.000000   \n",
              "mean         2.741516     2.051604  ...           80.0          0.787773   \n",
              "std          0.711379     1.102569  ...            0.0          0.849147   \n",
              "min          1.000000     1.000000  ...           80.0          0.000000   \n",
              "25%          2.000000     1.000000  ...           80.0          0.000000   \n",
              "50%          3.000000     2.000000  ...           80.0          1.000000   \n",
              "75%          3.000000     3.000000  ...           80.0          1.000000   \n",
              "max          4.000000     5.000000  ...           80.0          3.000000   \n",
              "\n",
              "       TotalWorkingYears  TrainingTimesLastYear  WorkLifeBalance  \\\n",
              "count        4302.000000            4302.000000      4302.000000   \n",
              "mean          354.004649               2.803347         2.765923   \n",
              "std          1508.016854               1.302586         0.708878   \n",
              "min             0.000000               0.000000         1.000000   \n",
              "25%             6.000000               2.000000         2.000000   \n",
              "50%            10.000000               3.000000         3.000000   \n",
              "75%            17.000000               3.000000         3.000000   \n",
              "max          9939.000000               6.000000         4.000000   \n",
              "\n",
              "       YearsAtCompany  YearsInCurrentRole  YearsSinceLastPromotion  \\\n",
              "count     4302.000000         4302.000000              4302.000000   \n",
              "mean       312.854719          367.109484               399.000930   \n",
              "std       1373.999529         1480.107024              1597.939659   \n",
              "min          0.000000            0.000000                 0.000000   \n",
              "25%          3.000000            2.000000                 0.000000   \n",
              "50%          5.000000            3.000000                 1.000000   \n",
              "75%         10.000000            7.000000                 4.000000   \n",
              "max       9984.000000         9937.000000              9990.000000   \n",
              "\n",
              "       YearsWithCurrManager   YearlyIncome  \n",
              "count           4302.000000    4302.000000  \n",
              "mean             334.767550   77439.202232  \n",
              "std             1431.991884   56075.927510  \n",
              "min                0.000000   12108.000000  \n",
              "25%                2.000000   34764.000000  \n",
              "50%                3.000000   58512.000000  \n",
              "75%                7.000000   99693.000000  \n",
              "max             9882.000000  239988.000000  \n",
              "\n",
              "[8 rows x 27 columns]"
            ],
            "text/html": [
              "\n",
              "  <div id=\"df-e0cb0451-a73c-464d-baab-a7eaf48fe9d6\">\n",
              "    <div class=\"colab-df-container\">\n",
              "      <div>\n",
              "<style scoped>\n",
              "    .dataframe tbody tr th:only-of-type {\n",
              "        vertical-align: middle;\n",
              "    }\n",
              "\n",
              "    .dataframe tbody tr th {\n",
              "        vertical-align: top;\n",
              "    }\n",
              "\n",
              "    .dataframe thead th {\n",
              "        text-align: right;\n",
              "    }\n",
              "</style>\n",
              "<table border=\"1\" class=\"dataframe\">\n",
              "  <thead>\n",
              "    <tr style=\"text-align: right;\">\n",
              "      <th></th>\n",
              "      <th>EmployeeNumber</th>\n",
              "      <th>Age</th>\n",
              "      <th>DailyRate</th>\n",
              "      <th>DistanceFromHome</th>\n",
              "      <th>Education</th>\n",
              "      <th>EmployeeCount</th>\n",
              "      <th>EnvironmentSatisfaction</th>\n",
              "      <th>HourlyRate</th>\n",
              "      <th>JobInvolvement</th>\n",
              "      <th>JobLevel</th>\n",
              "      <th>...</th>\n",
              "      <th>StandardHours</th>\n",
              "      <th>StockOptionLevel</th>\n",
              "      <th>TotalWorkingYears</th>\n",
              "      <th>TrainingTimesLastYear</th>\n",
              "      <th>WorkLifeBalance</th>\n",
              "      <th>YearsAtCompany</th>\n",
              "      <th>YearsInCurrentRole</th>\n",
              "      <th>YearsSinceLastPromotion</th>\n",
              "      <th>YearsWithCurrManager</th>\n",
              "      <th>YearlyIncome</th>\n",
              "    </tr>\n",
              "  </thead>\n",
              "  <tbody>\n",
              "    <tr>\n",
              "      <th>count</th>\n",
              "      <td>4302.000000</td>\n",
              "      <td>4302.000000</td>\n",
              "      <td>4302.000000</td>\n",
              "      <td>4302.000000</td>\n",
              "      <td>4302.000000</td>\n",
              "      <td>4302.0</td>\n",
              "      <td>4302.000000</td>\n",
              "      <td>4302.000000</td>\n",
              "      <td>4302.000000</td>\n",
              "      <td>4302.000000</td>\n",
              "      <td>...</td>\n",
              "      <td>4302.0</td>\n",
              "      <td>4302.000000</td>\n",
              "      <td>4302.000000</td>\n",
              "      <td>4302.000000</td>\n",
              "      <td>4302.000000</td>\n",
              "      <td>4302.000000</td>\n",
              "      <td>4302.000000</td>\n",
              "      <td>4302.000000</td>\n",
              "      <td>4302.000000</td>\n",
              "      <td>4302.000000</td>\n",
              "    </tr>\n",
              "    <tr>\n",
              "      <th>mean</th>\n",
              "      <td>4809.243143</td>\n",
              "      <td>429.123199</td>\n",
              "      <td>800.843794</td>\n",
              "      <td>34478.313343</td>\n",
              "      <td>2.906788</td>\n",
              "      <td>1.0</td>\n",
              "      <td>2.719665</td>\n",
              "      <td>66.036495</td>\n",
              "      <td>2.741516</td>\n",
              "      <td>2.051604</td>\n",
              "      <td>...</td>\n",
              "      <td>80.0</td>\n",
              "      <td>0.787773</td>\n",
              "      <td>354.004649</td>\n",
              "      <td>2.803347</td>\n",
              "      <td>2.765923</td>\n",
              "      <td>312.854719</td>\n",
              "      <td>367.109484</td>\n",
              "      <td>399.000930</td>\n",
              "      <td>334.767550</td>\n",
              "      <td>77439.202232</td>\n",
              "    </tr>\n",
              "    <tr>\n",
              "      <th>std</th>\n",
              "      <td>2643.040205</td>\n",
              "      <td>1591.153416</td>\n",
              "      <td>405.655763</td>\n",
              "      <td>147682.315767</td>\n",
              "      <td>1.026460</td>\n",
              "      <td>0.0</td>\n",
              "      <td>1.092333</td>\n",
              "      <td>20.298352</td>\n",
              "      <td>0.711379</td>\n",
              "      <td>1.102569</td>\n",
              "      <td>...</td>\n",
              "      <td>0.0</td>\n",
              "      <td>0.849147</td>\n",
              "      <td>1508.016854</td>\n",
              "      <td>1.302586</td>\n",
              "      <td>0.708878</td>\n",
              "      <td>1373.999529</td>\n",
              "      <td>1480.107024</td>\n",
              "      <td>1597.939659</td>\n",
              "      <td>1431.991884</td>\n",
              "      <td>56075.927510</td>\n",
              "    </tr>\n",
              "    <tr>\n",
              "      <th>min</th>\n",
              "      <td>1.000000</td>\n",
              "      <td>18.000000</td>\n",
              "      <td>102.000000</td>\n",
              "      <td>1.000000</td>\n",
              "      <td>1.000000</td>\n",
              "      <td>1.0</td>\n",
              "      <td>1.000000</td>\n",
              "      <td>30.000000</td>\n",
              "      <td>1.000000</td>\n",
              "      <td>1.000000</td>\n",
              "      <td>...</td>\n",
              "      <td>80.0</td>\n",
              "      <td>0.000000</td>\n",
              "      <td>0.000000</td>\n",
              "      <td>0.000000</td>\n",
              "      <td>1.000000</td>\n",
              "      <td>0.000000</td>\n",
              "      <td>0.000000</td>\n",
              "      <td>0.000000</td>\n",
              "      <td>0.000000</td>\n",
              "      <td>12108.000000</td>\n",
              "    </tr>\n",
              "    <tr>\n",
              "      <th>25%</th>\n",
              "      <td>1680.250000</td>\n",
              "      <td>31.000000</td>\n",
              "      <td>457.000000</td>\n",
              "      <td>2.000000</td>\n",
              "      <td>2.000000</td>\n",
              "      <td>1.0</td>\n",
              "      <td>2.000000</td>\n",
              "      <td>48.000000</td>\n",
              "      <td>2.000000</td>\n",
              "      <td>1.000000</td>\n",
              "      <td>...</td>\n",
              "      <td>80.0</td>\n",
              "      <td>0.000000</td>\n",
              "      <td>6.000000</td>\n",
              "      <td>2.000000</td>\n",
              "      <td>2.000000</td>\n",
              "      <td>3.000000</td>\n",
              "      <td>2.000000</td>\n",
              "      <td>0.000000</td>\n",
              "      <td>2.000000</td>\n",
              "      <td>34764.000000</td>\n",
              "    </tr>\n",
              "    <tr>\n",
              "      <th>50%</th>\n",
              "      <td>5828.500000</td>\n",
              "      <td>36.000000</td>\n",
              "      <td>804.000000</td>\n",
              "      <td>8.000000</td>\n",
              "      <td>3.000000</td>\n",
              "      <td>1.0</td>\n",
              "      <td>3.000000</td>\n",
              "      <td>66.000000</td>\n",
              "      <td>3.000000</td>\n",
              "      <td>2.000000</td>\n",
              "      <td>...</td>\n",
              "      <td>80.0</td>\n",
              "      <td>1.000000</td>\n",
              "      <td>10.000000</td>\n",
              "      <td>3.000000</td>\n",
              "      <td>3.000000</td>\n",
              "      <td>5.000000</td>\n",
              "      <td>3.000000</td>\n",
              "      <td>1.000000</td>\n",
              "      <td>3.000000</td>\n",
              "      <td>58512.000000</td>\n",
              "    </tr>\n",
              "    <tr>\n",
              "      <th>75%</th>\n",
              "      <td>6903.750000</td>\n",
              "      <td>45.000000</td>\n",
              "      <td>1162.000000</td>\n",
              "      <td>17.000000</td>\n",
              "      <td>4.000000</td>\n",
              "      <td>1.0</td>\n",
              "      <td>4.000000</td>\n",
              "      <td>84.000000</td>\n",
              "      <td>3.000000</td>\n",
              "      <td>3.000000</td>\n",
              "      <td>...</td>\n",
              "      <td>80.0</td>\n",
              "      <td>1.000000</td>\n",
              "      <td>17.000000</td>\n",
              "      <td>3.000000</td>\n",
              "      <td>3.000000</td>\n",
              "      <td>10.000000</td>\n",
              "      <td>7.000000</td>\n",
              "      <td>4.000000</td>\n",
              "      <td>7.000000</td>\n",
              "      <td>99693.000000</td>\n",
              "    </tr>\n",
              "    <tr>\n",
              "      <th>max</th>\n",
              "      <td>7979.000000</td>\n",
              "      <td>9890.000000</td>\n",
              "      <td>1499.000000</td>\n",
              "      <td>999590.000000</td>\n",
              "      <td>5.000000</td>\n",
              "      <td>1.0</td>\n",
              "      <td>4.000000</td>\n",
              "      <td>100.000000</td>\n",
              "      <td>4.000000</td>\n",
              "      <td>5.000000</td>\n",
              "      <td>...</td>\n",
              "      <td>80.0</td>\n",
              "      <td>3.000000</td>\n",
              "      <td>9939.000000</td>\n",
              "      <td>6.000000</td>\n",
              "      <td>4.000000</td>\n",
              "      <td>9984.000000</td>\n",
              "      <td>9937.000000</td>\n",
              "      <td>9990.000000</td>\n",
              "      <td>9882.000000</td>\n",
              "      <td>239988.000000</td>\n",
              "    </tr>\n",
              "  </tbody>\n",
              "</table>\n",
              "<p>8 rows × 27 columns</p>\n",
              "</div>\n",
              "      <button class=\"colab-df-convert\" onclick=\"convertToInteractive('df-e0cb0451-a73c-464d-baab-a7eaf48fe9d6')\"\n",
              "              title=\"Convert this dataframe to an interactive table.\"\n",
              "              style=\"display:none;\">\n",
              "        \n",
              "  <svg xmlns=\"http://www.w3.org/2000/svg\" height=\"24px\"viewBox=\"0 0 24 24\"\n",
              "       width=\"24px\">\n",
              "    <path d=\"M0 0h24v24H0V0z\" fill=\"none\"/>\n",
              "    <path d=\"M18.56 5.44l.94 2.06.94-2.06 2.06-.94-2.06-.94-.94-2.06-.94 2.06-2.06.94zm-11 1L8.5 8.5l.94-2.06 2.06-.94-2.06-.94L8.5 2.5l-.94 2.06-2.06.94zm10 10l.94 2.06.94-2.06 2.06-.94-2.06-.94-.94-2.06-.94 2.06-2.06.94z\"/><path d=\"M17.41 7.96l-1.37-1.37c-.4-.4-.92-.59-1.43-.59-.52 0-1.04.2-1.43.59L10.3 9.45l-7.72 7.72c-.78.78-.78 2.05 0 2.83L4 21.41c.39.39.9.59 1.41.59.51 0 1.02-.2 1.41-.59l7.78-7.78 2.81-2.81c.8-.78.8-2.07 0-2.86zM5.41 20L4 18.59l7.72-7.72 1.47 1.35L5.41 20z\"/>\n",
              "  </svg>\n",
              "      </button>\n",
              "      \n",
              "  <style>\n",
              "    .colab-df-container {\n",
              "      display:flex;\n",
              "      flex-wrap:wrap;\n",
              "      gap: 12px;\n",
              "    }\n",
              "\n",
              "    .colab-df-convert {\n",
              "      background-color: #E8F0FE;\n",
              "      border: none;\n",
              "      border-radius: 50%;\n",
              "      cursor: pointer;\n",
              "      display: none;\n",
              "      fill: #1967D2;\n",
              "      height: 32px;\n",
              "      padding: 0 0 0 0;\n",
              "      width: 32px;\n",
              "    }\n",
              "\n",
              "    .colab-df-convert:hover {\n",
              "      background-color: #E2EBFA;\n",
              "      box-shadow: 0px 1px 2px rgba(60, 64, 67, 0.3), 0px 1px 3px 1px rgba(60, 64, 67, 0.15);\n",
              "      fill: #174EA6;\n",
              "    }\n",
              "\n",
              "    [theme=dark] .colab-df-convert {\n",
              "      background-color: #3B4455;\n",
              "      fill: #D2E3FC;\n",
              "    }\n",
              "\n",
              "    [theme=dark] .colab-df-convert:hover {\n",
              "      background-color: #434B5C;\n",
              "      box-shadow: 0px 1px 3px 1px rgba(0, 0, 0, 0.15);\n",
              "      filter: drop-shadow(0px 1px 2px rgba(0, 0, 0, 0.3));\n",
              "      fill: #FFFFFF;\n",
              "    }\n",
              "  </style>\n",
              "\n",
              "      <script>\n",
              "        const buttonEl =\n",
              "          document.querySelector('#df-e0cb0451-a73c-464d-baab-a7eaf48fe9d6 button.colab-df-convert');\n",
              "        buttonEl.style.display =\n",
              "          google.colab.kernel.accessAllowed ? 'block' : 'none';\n",
              "\n",
              "        async function convertToInteractive(key) {\n",
              "          const element = document.querySelector('#df-e0cb0451-a73c-464d-baab-a7eaf48fe9d6');\n",
              "          const dataTable =\n",
              "            await google.colab.kernel.invokeFunction('convertToInteractive',\n",
              "                                                     [key], {});\n",
              "          if (!dataTable) return;\n",
              "\n",
              "          const docLinkHtml = 'Like what you see? Visit the ' +\n",
              "            '<a target=\"_blank\" href=https://colab.research.google.com/notebooks/data_table.ipynb>data table notebook</a>'\n",
              "            + ' to learn more about interactive tables.';\n",
              "          element.innerHTML = '';\n",
              "          dataTable['output_type'] = 'display_data';\n",
              "          await google.colab.output.renderOutput(dataTable, element);\n",
              "          const docLink = document.createElement('div');\n",
              "          docLink.innerHTML = docLinkHtml;\n",
              "          element.appendChild(docLink);\n",
              "        }\n",
              "      </script>\n",
              "    </div>\n",
              "  </div>\n",
              "  "
            ]
          },
          "metadata": {},
          "execution_count": 25
        }
      ]
    },
    {
      "cell_type": "code",
      "source": [
        "df_master_1.sort_values(by='Age',axis=0,ascending=True,inplace=True,ignore_index=True)"
      ],
      "metadata": {
        "id": "LjC1KlTZhkSo"
      },
      "execution_count": null,
      "outputs": []
    },
    {
      "cell_type": "code",
      "source": [
        "df_master_1.head(10)"
      ],
      "metadata": {
        "colab": {
          "base_uri": "https://localhost:8080/",
          "height": 543
        },
        "id": "WoCWVqD6Qyiu",
        "outputId": "42afae3b-f828-4c2f-babe-def55920527a"
      },
      "execution_count": null,
      "outputs": [
        {
          "output_type": "execute_result",
          "data": {
            "text/plain": [
              "   EmployeeNumber   Age     BusinessTravel  DailyRate              Department  \\\n",
              "0            6367  18.0  Travel_Frequently     1306.0                   Sales   \n",
              "1            1839  18.0         Non-Travel     1431.0  Research & Development   \n",
              "2            1368  18.0         Non-Travel     1124.0  Research & Development   \n",
              "3             614  18.0  Travel_Frequently     1306.0                   Sales   \n",
              "4             405  18.0      Travel_Rarely      230.0  Research & Development   \n",
              "5            6566  18.0         Non-Travel      287.0  Research & Development   \n",
              "6            1624  18.0  Travel_Frequently      544.0                   Sales   \n",
              "7            6366  18.0  Travel_Frequently     1306.0                   Sales   \n",
              "8            6365  18.0  Travel_Frequently     1306.0                   Sales   \n",
              "9            1156  18.0         Non-Travel      247.0  Research & Development   \n",
              "\n",
              "   DistanceFromHome  Education EducationField  EmployeeCount  \\\n",
              "0               5.0        3.0      Marketing            1.0   \n",
              "1              14.0        3.0        Medical            1.0   \n",
              "2               1.0        3.0  Life Sciences            1.0   \n",
              "3               5.0        3.0      Marketing            1.0   \n",
              "4               3.0        3.0  Life Sciences            1.0   \n",
              "5               5.0        2.0  Life Sciences            1.0   \n",
              "6               3.0        2.0        Medical            1.0   \n",
              "7               5.0        3.0      Marketing            1.0   \n",
              "8               5.0        3.0      Marketing            1.0   \n",
              "9               8.0        1.0        Medical            1.0   \n",
              "\n",
              "   EnvironmentSatisfaction  ... StockOptionLevel  TotalWorkingYears  \\\n",
              "0                      2.0  ...              0.0                0.0   \n",
              "1                      2.0  ...              0.0                0.0   \n",
              "2                      4.0  ...              0.0                0.0   \n",
              "3                      2.0  ...              0.0                0.0   \n",
              "4                      3.0  ...              0.0                0.0   \n",
              "5                      2.0  ...              0.0                0.0   \n",
              "6                      2.0  ...              0.0                0.0   \n",
              "7                      2.0  ...              0.0                0.0   \n",
              "8                      2.0  ...              0.0                0.0   \n",
              "9                      3.0  ...              0.0                0.0   \n",
              "\n",
              "   TrainingTimesLastYear  WorkLifeBalance YearsAtCompany  YearsInCurrentRole  \\\n",
              "0                    3.0              3.0         5132.0                 0.0   \n",
              "1                    4.0              1.0            0.0                 0.0   \n",
              "2                    5.0              4.0            0.0                 0.0   \n",
              "3                    3.0              3.0            0.0                 0.0   \n",
              "4                    2.0              3.0            0.0                 0.0   \n",
              "5                    2.0              3.0            0.0                 0.0   \n",
              "6                    2.0              4.0            0.0                 0.0   \n",
              "7                    3.0              3.0         5132.0                 0.0   \n",
              "8                    3.0              3.0         5132.0                 0.0   \n",
              "9                    0.0              3.0            0.0                 0.0   \n",
              "\n",
              "  YearsSinceLastPromotion  YearsWithCurrManager  Attrition_y  YearlyIncome  \n",
              "0                     0.0                   0.0          Yes       22536.0  \n",
              "1                     0.0                   0.0           No       18168.0  \n",
              "2                     0.0                   0.0           No       19332.0  \n",
              "3                     0.0                   0.0          Yes       22536.0  \n",
              "4                     0.0                   0.0          Yes       17040.0  \n",
              "5                     0.0                   0.0          Yes       12612.0  \n",
              "6                     0.0                   0.0          Yes       18828.0  \n",
              "7                     0.0                   0.0           No       22536.0  \n",
              "8                     0.0                   0.0          Yes       22536.0  \n",
              "9                     0.0                   0.0          Yes       22848.0  \n",
              "\n",
              "[10 rows x 36 columns]"
            ],
            "text/html": [
              "\n",
              "  <div id=\"df-633f2af3-fa53-49b7-9566-5241a6b52a38\">\n",
              "    <div class=\"colab-df-container\">\n",
              "      <div>\n",
              "<style scoped>\n",
              "    .dataframe tbody tr th:only-of-type {\n",
              "        vertical-align: middle;\n",
              "    }\n",
              "\n",
              "    .dataframe tbody tr th {\n",
              "        vertical-align: top;\n",
              "    }\n",
              "\n",
              "    .dataframe thead th {\n",
              "        text-align: right;\n",
              "    }\n",
              "</style>\n",
              "<table border=\"1\" class=\"dataframe\">\n",
              "  <thead>\n",
              "    <tr style=\"text-align: right;\">\n",
              "      <th></th>\n",
              "      <th>EmployeeNumber</th>\n",
              "      <th>Age</th>\n",
              "      <th>BusinessTravel</th>\n",
              "      <th>DailyRate</th>\n",
              "      <th>Department</th>\n",
              "      <th>DistanceFromHome</th>\n",
              "      <th>Education</th>\n",
              "      <th>EducationField</th>\n",
              "      <th>EmployeeCount</th>\n",
              "      <th>EnvironmentSatisfaction</th>\n",
              "      <th>...</th>\n",
              "      <th>StockOptionLevel</th>\n",
              "      <th>TotalWorkingYears</th>\n",
              "      <th>TrainingTimesLastYear</th>\n",
              "      <th>WorkLifeBalance</th>\n",
              "      <th>YearsAtCompany</th>\n",
              "      <th>YearsInCurrentRole</th>\n",
              "      <th>YearsSinceLastPromotion</th>\n",
              "      <th>YearsWithCurrManager</th>\n",
              "      <th>Attrition_y</th>\n",
              "      <th>YearlyIncome</th>\n",
              "    </tr>\n",
              "  </thead>\n",
              "  <tbody>\n",
              "    <tr>\n",
              "      <th>0</th>\n",
              "      <td>6367</td>\n",
              "      <td>18.0</td>\n",
              "      <td>Travel_Frequently</td>\n",
              "      <td>1306.0</td>\n",
              "      <td>Sales</td>\n",
              "      <td>5.0</td>\n",
              "      <td>3.0</td>\n",
              "      <td>Marketing</td>\n",
              "      <td>1.0</td>\n",
              "      <td>2.0</td>\n",
              "      <td>...</td>\n",
              "      <td>0.0</td>\n",
              "      <td>0.0</td>\n",
              "      <td>3.0</td>\n",
              "      <td>3.0</td>\n",
              "      <td>5132.0</td>\n",
              "      <td>0.0</td>\n",
              "      <td>0.0</td>\n",
              "      <td>0.0</td>\n",
              "      <td>Yes</td>\n",
              "      <td>22536.0</td>\n",
              "    </tr>\n",
              "    <tr>\n",
              "      <th>1</th>\n",
              "      <td>1839</td>\n",
              "      <td>18.0</td>\n",
              "      <td>Non-Travel</td>\n",
              "      <td>1431.0</td>\n",
              "      <td>Research &amp; Development</td>\n",
              "      <td>14.0</td>\n",
              "      <td>3.0</td>\n",
              "      <td>Medical</td>\n",
              "      <td>1.0</td>\n",
              "      <td>2.0</td>\n",
              "      <td>...</td>\n",
              "      <td>0.0</td>\n",
              "      <td>0.0</td>\n",
              "      <td>4.0</td>\n",
              "      <td>1.0</td>\n",
              "      <td>0.0</td>\n",
              "      <td>0.0</td>\n",
              "      <td>0.0</td>\n",
              "      <td>0.0</td>\n",
              "      <td>No</td>\n",
              "      <td>18168.0</td>\n",
              "    </tr>\n",
              "    <tr>\n",
              "      <th>2</th>\n",
              "      <td>1368</td>\n",
              "      <td>18.0</td>\n",
              "      <td>Non-Travel</td>\n",
              "      <td>1124.0</td>\n",
              "      <td>Research &amp; Development</td>\n",
              "      <td>1.0</td>\n",
              "      <td>3.0</td>\n",
              "      <td>Life Sciences</td>\n",
              "      <td>1.0</td>\n",
              "      <td>4.0</td>\n",
              "      <td>...</td>\n",
              "      <td>0.0</td>\n",
              "      <td>0.0</td>\n",
              "      <td>5.0</td>\n",
              "      <td>4.0</td>\n",
              "      <td>0.0</td>\n",
              "      <td>0.0</td>\n",
              "      <td>0.0</td>\n",
              "      <td>0.0</td>\n",
              "      <td>No</td>\n",
              "      <td>19332.0</td>\n",
              "    </tr>\n",
              "    <tr>\n",
              "      <th>3</th>\n",
              "      <td>614</td>\n",
              "      <td>18.0</td>\n",
              "      <td>Travel_Frequently</td>\n",
              "      <td>1306.0</td>\n",
              "      <td>Sales</td>\n",
              "      <td>5.0</td>\n",
              "      <td>3.0</td>\n",
              "      <td>Marketing</td>\n",
              "      <td>1.0</td>\n",
              "      <td>2.0</td>\n",
              "      <td>...</td>\n",
              "      <td>0.0</td>\n",
              "      <td>0.0</td>\n",
              "      <td>3.0</td>\n",
              "      <td>3.0</td>\n",
              "      <td>0.0</td>\n",
              "      <td>0.0</td>\n",
              "      <td>0.0</td>\n",
              "      <td>0.0</td>\n",
              "      <td>Yes</td>\n",
              "      <td>22536.0</td>\n",
              "    </tr>\n",
              "    <tr>\n",
              "      <th>4</th>\n",
              "      <td>405</td>\n",
              "      <td>18.0</td>\n",
              "      <td>Travel_Rarely</td>\n",
              "      <td>230.0</td>\n",
              "      <td>Research &amp; Development</td>\n",
              "      <td>3.0</td>\n",
              "      <td>3.0</td>\n",
              "      <td>Life Sciences</td>\n",
              "      <td>1.0</td>\n",
              "      <td>3.0</td>\n",
              "      <td>...</td>\n",
              "      <td>0.0</td>\n",
              "      <td>0.0</td>\n",
              "      <td>2.0</td>\n",
              "      <td>3.0</td>\n",
              "      <td>0.0</td>\n",
              "      <td>0.0</td>\n",
              "      <td>0.0</td>\n",
              "      <td>0.0</td>\n",
              "      <td>Yes</td>\n",
              "      <td>17040.0</td>\n",
              "    </tr>\n",
              "    <tr>\n",
              "      <th>5</th>\n",
              "      <td>6566</td>\n",
              "      <td>18.0</td>\n",
              "      <td>Non-Travel</td>\n",
              "      <td>287.0</td>\n",
              "      <td>Research &amp; Development</td>\n",
              "      <td>5.0</td>\n",
              "      <td>2.0</td>\n",
              "      <td>Life Sciences</td>\n",
              "      <td>1.0</td>\n",
              "      <td>2.0</td>\n",
              "      <td>...</td>\n",
              "      <td>0.0</td>\n",
              "      <td>0.0</td>\n",
              "      <td>2.0</td>\n",
              "      <td>3.0</td>\n",
              "      <td>0.0</td>\n",
              "      <td>0.0</td>\n",
              "      <td>0.0</td>\n",
              "      <td>0.0</td>\n",
              "      <td>Yes</td>\n",
              "      <td>12612.0</td>\n",
              "    </tr>\n",
              "    <tr>\n",
              "      <th>6</th>\n",
              "      <td>1624</td>\n",
              "      <td>18.0</td>\n",
              "      <td>Travel_Frequently</td>\n",
              "      <td>544.0</td>\n",
              "      <td>Sales</td>\n",
              "      <td>3.0</td>\n",
              "      <td>2.0</td>\n",
              "      <td>Medical</td>\n",
              "      <td>1.0</td>\n",
              "      <td>2.0</td>\n",
              "      <td>...</td>\n",
              "      <td>0.0</td>\n",
              "      <td>0.0</td>\n",
              "      <td>2.0</td>\n",
              "      <td>4.0</td>\n",
              "      <td>0.0</td>\n",
              "      <td>0.0</td>\n",
              "      <td>0.0</td>\n",
              "      <td>0.0</td>\n",
              "      <td>Yes</td>\n",
              "      <td>18828.0</td>\n",
              "    </tr>\n",
              "    <tr>\n",
              "      <th>7</th>\n",
              "      <td>6366</td>\n",
              "      <td>18.0</td>\n",
              "      <td>Travel_Frequently</td>\n",
              "      <td>1306.0</td>\n",
              "      <td>Sales</td>\n",
              "      <td>5.0</td>\n",
              "      <td>3.0</td>\n",
              "      <td>Marketing</td>\n",
              "      <td>1.0</td>\n",
              "      <td>2.0</td>\n",
              "      <td>...</td>\n",
              "      <td>0.0</td>\n",
              "      <td>0.0</td>\n",
              "      <td>3.0</td>\n",
              "      <td>3.0</td>\n",
              "      <td>5132.0</td>\n",
              "      <td>0.0</td>\n",
              "      <td>0.0</td>\n",
              "      <td>0.0</td>\n",
              "      <td>No</td>\n",
              "      <td>22536.0</td>\n",
              "    </tr>\n",
              "    <tr>\n",
              "      <th>8</th>\n",
              "      <td>6365</td>\n",
              "      <td>18.0</td>\n",
              "      <td>Travel_Frequently</td>\n",
              "      <td>1306.0</td>\n",
              "      <td>Sales</td>\n",
              "      <td>5.0</td>\n",
              "      <td>3.0</td>\n",
              "      <td>Marketing</td>\n",
              "      <td>1.0</td>\n",
              "      <td>2.0</td>\n",
              "      <td>...</td>\n",
              "      <td>0.0</td>\n",
              "      <td>0.0</td>\n",
              "      <td>3.0</td>\n",
              "      <td>3.0</td>\n",
              "      <td>5132.0</td>\n",
              "      <td>0.0</td>\n",
              "      <td>0.0</td>\n",
              "      <td>0.0</td>\n",
              "      <td>Yes</td>\n",
              "      <td>22536.0</td>\n",
              "    </tr>\n",
              "    <tr>\n",
              "      <th>9</th>\n",
              "      <td>1156</td>\n",
              "      <td>18.0</td>\n",
              "      <td>Non-Travel</td>\n",
              "      <td>247.0</td>\n",
              "      <td>Research &amp; Development</td>\n",
              "      <td>8.0</td>\n",
              "      <td>1.0</td>\n",
              "      <td>Medical</td>\n",
              "      <td>1.0</td>\n",
              "      <td>3.0</td>\n",
              "      <td>...</td>\n",
              "      <td>0.0</td>\n",
              "      <td>0.0</td>\n",
              "      <td>0.0</td>\n",
              "      <td>3.0</td>\n",
              "      <td>0.0</td>\n",
              "      <td>0.0</td>\n",
              "      <td>0.0</td>\n",
              "      <td>0.0</td>\n",
              "      <td>Yes</td>\n",
              "      <td>22848.0</td>\n",
              "    </tr>\n",
              "  </tbody>\n",
              "</table>\n",
              "<p>10 rows × 36 columns</p>\n",
              "</div>\n",
              "      <button class=\"colab-df-convert\" onclick=\"convertToInteractive('df-633f2af3-fa53-49b7-9566-5241a6b52a38')\"\n",
              "              title=\"Convert this dataframe to an interactive table.\"\n",
              "              style=\"display:none;\">\n",
              "        \n",
              "  <svg xmlns=\"http://www.w3.org/2000/svg\" height=\"24px\"viewBox=\"0 0 24 24\"\n",
              "       width=\"24px\">\n",
              "    <path d=\"M0 0h24v24H0V0z\" fill=\"none\"/>\n",
              "    <path d=\"M18.56 5.44l.94 2.06.94-2.06 2.06-.94-2.06-.94-.94-2.06-.94 2.06-2.06.94zm-11 1L8.5 8.5l.94-2.06 2.06-.94-2.06-.94L8.5 2.5l-.94 2.06-2.06.94zm10 10l.94 2.06.94-2.06 2.06-.94-2.06-.94-.94-2.06-.94 2.06-2.06.94z\"/><path d=\"M17.41 7.96l-1.37-1.37c-.4-.4-.92-.59-1.43-.59-.52 0-1.04.2-1.43.59L10.3 9.45l-7.72 7.72c-.78.78-.78 2.05 0 2.83L4 21.41c.39.39.9.59 1.41.59.51 0 1.02-.2 1.41-.59l7.78-7.78 2.81-2.81c.8-.78.8-2.07 0-2.86zM5.41 20L4 18.59l7.72-7.72 1.47 1.35L5.41 20z\"/>\n",
              "  </svg>\n",
              "      </button>\n",
              "      \n",
              "  <style>\n",
              "    .colab-df-container {\n",
              "      display:flex;\n",
              "      flex-wrap:wrap;\n",
              "      gap: 12px;\n",
              "    }\n",
              "\n",
              "    .colab-df-convert {\n",
              "      background-color: #E8F0FE;\n",
              "      border: none;\n",
              "      border-radius: 50%;\n",
              "      cursor: pointer;\n",
              "      display: none;\n",
              "      fill: #1967D2;\n",
              "      height: 32px;\n",
              "      padding: 0 0 0 0;\n",
              "      width: 32px;\n",
              "    }\n",
              "\n",
              "    .colab-df-convert:hover {\n",
              "      background-color: #E2EBFA;\n",
              "      box-shadow: 0px 1px 2px rgba(60, 64, 67, 0.3), 0px 1px 3px 1px rgba(60, 64, 67, 0.15);\n",
              "      fill: #174EA6;\n",
              "    }\n",
              "\n",
              "    [theme=dark] .colab-df-convert {\n",
              "      background-color: #3B4455;\n",
              "      fill: #D2E3FC;\n",
              "    }\n",
              "\n",
              "    [theme=dark] .colab-df-convert:hover {\n",
              "      background-color: #434B5C;\n",
              "      box-shadow: 0px 1px 3px 1px rgba(0, 0, 0, 0.15);\n",
              "      filter: drop-shadow(0px 1px 2px rgba(0, 0, 0, 0.3));\n",
              "      fill: #FFFFFF;\n",
              "    }\n",
              "  </style>\n",
              "\n",
              "      <script>\n",
              "        const buttonEl =\n",
              "          document.querySelector('#df-633f2af3-fa53-49b7-9566-5241a6b52a38 button.colab-df-convert');\n",
              "        buttonEl.style.display =\n",
              "          google.colab.kernel.accessAllowed ? 'block' : 'none';\n",
              "\n",
              "        async function convertToInteractive(key) {\n",
              "          const element = document.querySelector('#df-633f2af3-fa53-49b7-9566-5241a6b52a38');\n",
              "          const dataTable =\n",
              "            await google.colab.kernel.invokeFunction('convertToInteractive',\n",
              "                                                     [key], {});\n",
              "          if (!dataTable) return;\n",
              "\n",
              "          const docLinkHtml = 'Like what you see? Visit the ' +\n",
              "            '<a target=\"_blank\" href=https://colab.research.google.com/notebooks/data_table.ipynb>data table notebook</a>'\n",
              "            + ' to learn more about interactive tables.';\n",
              "          element.innerHTML = '';\n",
              "          dataTable['output_type'] = 'display_data';\n",
              "          await google.colab.output.renderOutput(dataTable, element);\n",
              "          const docLink = document.createElement('div');\n",
              "          docLink.innerHTML = docLinkHtml;\n",
              "          element.appendChild(docLink);\n",
              "        }\n",
              "      </script>\n",
              "    </div>\n",
              "  </div>\n",
              "  "
            ]
          },
          "metadata": {},
          "execution_count": 27
        }
      ]
    },
    {
      "cell_type": "code",
      "source": [
        "quantile1, quantile2,quantile3 = np.percentile(df_master_1['Age'],[25,50,75])"
      ],
      "metadata": {
        "id": "ZXplmN1jRlSa"
      },
      "execution_count": null,
      "outputs": []
    },
    {
      "cell_type": "code",
      "source": [
        "print(quantile1,quantile2,quantile3)"
      ],
      "metadata": {
        "colab": {
          "base_uri": "https://localhost:8080/"
        },
        "id": "RXOjbin1TdOp",
        "outputId": "940a4f37-b3de-41b9-d164-e9b4266519e0"
      },
      "execution_count": null,
      "outputs": [
        {
          "output_type": "stream",
          "name": "stdout",
          "text": [
            "31.0 36.0 45.0\n"
          ]
        }
      ]
    },
    {
      "cell_type": "markdown",
      "source": [
        "Find the IQR- Age"
      ],
      "metadata": {
        "id": "GakRO9x2vGVp"
      }
    },
    {
      "cell_type": "code",
      "source": [
        "sns.boxplot(df_master_1['Age'])"
      ],
      "metadata": {
        "colab": {
          "base_uri": "https://localhost:8080/",
          "height": 296
        },
        "id": "dndXQboX8Dfw",
        "outputId": "d5b2bd29-5290-43f7-d846-040c16dc3bb3"
      },
      "execution_count": null,
      "outputs": [
        {
          "output_type": "execute_result",
          "data": {
            "text/plain": [
              "<matplotlib.axes._subplots.AxesSubplot at 0x7fcd6f605a90>"
            ]
          },
          "metadata": {},
          "execution_count": 30
        },
        {
          "output_type": "display_data",
          "data": {
            "text/plain": [
              "<Figure size 432x288 with 1 Axes>"
            ],
            "image/png": "[encoded data removed]"
          },
          "metadata": {
            "needs_background": "light"
          }
        }
      ]
    },
    {
      "cell_type": "code",
      "source": [
        "iqr_value= quantile3-quantile1\n",
        "print(iqr_value)"
      ],
      "metadata": {
        "colab": {
          "base_uri": "https://localhost:8080/"
        },
        "id": "yJS4LQnWvIW9",
        "outputId": "f3b507da-9d12-4050-cb33-45308bebf2c4"
      },
      "execution_count": null,
      "outputs": [
        {
          "output_type": "stream",
          "name": "stdout",
          "text": [
            "14.0\n"
          ]
        }
      ]
    },
    {
      "cell_type": "code",
      "source": [
        "## Find the lower bound value and higher bound value\n",
        "lower_bound= quantile1- (1.5*iqr_value)\n",
        "upper_bound= quantile3+(1.5*iqr_value)"
      ],
      "metadata": {
        "id": "0m8Osi4SwnCD"
      },
      "execution_count": null,
      "outputs": []
    },
    {
      "cell_type": "code",
      "source": [
        "print(lower_bound,upper_bound)"
      ],
      "metadata": {
        "colab": {
          "base_uri": "https://localhost:8080/"
        },
        "id": "WG7M7vu_xo4t",
        "outputId": "8bf07014-ff53-4dd1-a835-3ba1e22d0680"
      },
      "execution_count": null,
      "outputs": [
        {
          "output_type": "stream",
          "name": "stdout",
          "text": [
            "10.0 66.0\n"
          ]
        }
      ]
    },
    {
      "cell_type": "code",
      "source": [
        "median= quantile2"
      ],
      "metadata": {
        "id": "6bNV1u8U5TYK"
      },
      "execution_count": null,
      "outputs": []
    },
    {
      "cell_type": "code",
      "source": [
        "df_master_1['Age']=np.where(df_master_1['Age']>66,median,df_master_1['Age'])"
      ],
      "metadata": {
        "id": "d6iL1J09yIqS"
      },
      "execution_count": null,
      "outputs": []
    },
    {
      "cell_type": "code",
      "source": [
        "df_master_1['Age']"
      ],
      "metadata": {
        "colab": {
          "base_uri": "https://localhost:8080/"
        },
        "id": "03-ItUh-BP6X",
        "outputId": "5a4d0d3e-0d63-408e-e7cd-02af9b56c394"
      },
      "execution_count": null,
      "outputs": [
        {
          "output_type": "execute_result",
          "data": {
            "text/plain": [
              "0       18.0\n",
              "1       18.0\n",
              "2       18.0\n",
              "3       18.0\n",
              "4       18.0\n",
              "        ... \n",
              "4297    36.0\n",
              "4298    36.0\n",
              "4299    36.0\n",
              "4300    36.0\n",
              "4301    36.0\n",
              "Name: Age, Length: 4302, dtype: float64"
            ]
          },
          "metadata": {},
          "execution_count": 36
        }
      ]
    },
    {
      "cell_type": "markdown",
      "source": [
        "Find the IQR- DistanceFromHome"
      ],
      "metadata": {
        "id": "IAn2VrQ6KNmy"
      }
    },
    {
      "cell_type": "code",
      "source": [
        "df_master_1.sort_values(by='DistanceFromHome',axis=0,ascending=True,inplace=True,ignore_index=True)"
      ],
      "metadata": {
        "id": "-pZ9YTBpLII-"
      },
      "execution_count": null,
      "outputs": []
    },
    {
      "cell_type": "code",
      "source": [
        "quantile1, quantile2,quantile3 = np.percentile(df_master_1['DistanceFromHome'],[25,50,75])\n",
        "print(quantile1,quantile2,quantile3)"
      ],
      "metadata": {
        "colab": {
          "base_uri": "https://localhost:8080/"
        },
        "id": "pqv7IHR6KhiG",
        "outputId": "915fea8c-365c-4853-cc5a-f1dc7cfb6add"
      },
      "execution_count": null,
      "outputs": [
        {
          "output_type": "stream",
          "name": "stdout",
          "text": [
            "2.0 8.0 17.0\n"
          ]
        }
      ]
    },
    {
      "cell_type": "code",
      "source": [
        "iqr_val_dist= quantile3-quantile1"
      ],
      "metadata": {
        "id": "LiLYiapyLf0C"
      },
      "execution_count": null,
      "outputs": []
    },
    {
      "cell_type": "code",
      "source": [
        "iqr_val_dist"
      ],
      "metadata": {
        "colab": {
          "base_uri": "https://localhost:8080/"
        },
        "id": "apLtwsE6lhfN",
        "outputId": "e3b24b1d-69f0-46c7-cb45-85229a23a814"
      },
      "execution_count": null,
      "outputs": [
        {
          "output_type": "execute_result",
          "data": {
            "text/plain": [
              "15.0"
            ]
          },
          "metadata": {},
          "execution_count": 40
        }
      ]
    },
    {
      "cell_type": "code",
      "source": [
        "median= quantile2"
      ],
      "metadata": {
        "id": "mcQoj_jEmHyv"
      },
      "execution_count": null,
      "outputs": []
    },
    {
      "cell_type": "code",
      "source": [
        "df_master_1['DistanceFromHome']=np.where(df_master_1['DistanceFromHome']>39.5,median,df_master_1['DistanceFromHome'])"
      ],
      "metadata": {
        "id": "judNyohMosHT"
      },
      "execution_count": null,
      "outputs": []
    },
    {
      "cell_type": "code",
      "source": [
        "print(df_master_1['DistanceFromHome'].value_counts())"
      ],
      "metadata": {
        "colab": {
          "base_uri": "https://localhost:8080/"
        },
        "id": "mVx1iMA1pExt",
        "outputId": "6ed5ffff-879a-4325-c579-c5f9f06fe4cd"
      },
      "execution_count": null,
      "outputs": [
        {
          "output_type": "stream",
          "name": "stdout",
          "text": [
            "2.0     589\n",
            "1.0     568\n",
            "8.0     499\n",
            "10.0    239\n",
            "3.0     227\n",
            "7.0     225\n",
            "9.0     224\n",
            "5.0     175\n",
            "4.0     163\n",
            "6.0     155\n",
            "16.0     90\n",
            "11.0     83\n",
            "24.0     82\n",
            "26.0     75\n",
            "18.0     75\n",
            "15.0     75\n",
            "20.0     74\n",
            "25.0     72\n",
            "23.0     71\n",
            "29.0     69\n",
            "17.0     62\n",
            "21.0     59\n",
            "12.0     58\n",
            "13.0     57\n",
            "19.0     56\n",
            "28.0     56\n",
            "14.0     50\n",
            "22.0     47\n",
            "27.0     27\n",
            "Name: DistanceFromHome, dtype: int64\n"
          ]
        }
      ]
    },
    {
      "cell_type": "code",
      "source": [
        "df_master_1['DistanceFromHome']"
      ],
      "metadata": {
        "colab": {
          "base_uri": "https://localhost:8080/"
        },
        "id": "0DonWVUKpV4B",
        "outputId": "69d2a5b5-c1c2-4490-9130-bda2cdbffc08"
      },
      "execution_count": null,
      "outputs": [
        {
          "output_type": "execute_result",
          "data": {
            "text/plain": [
              "0       1.0\n",
              "1       1.0\n",
              "2       1.0\n",
              "3       1.0\n",
              "4       1.0\n",
              "       ... \n",
              "4297    8.0\n",
              "4298    8.0\n",
              "4299    8.0\n",
              "4300    8.0\n",
              "4301    8.0\n",
              "Name: DistanceFromHome, Length: 4302, dtype: float64"
            ]
          },
          "metadata": {},
          "execution_count": 44
        }
      ]
    },
    {
      "cell_type": "markdown",
      "source": [
        "Droping some features"
      ],
      "metadata": {
        "id": "BmhjwuciptWu"
      }
    },
    {
      "cell_type": "code",
      "source": [
        "df_master_1.info()"
      ],
      "metadata": {
        "colab": {
          "base_uri": "https://localhost:8080/"
        },
        "id": "CkES7vqqzJgm",
        "outputId": "322f049f-fe1e-4925-db55-2a4ec4ecc860"
      },
      "execution_count": null,
      "outputs": [
        {
          "output_type": "stream",
          "name": "stdout",
          "text": [
            "<class 'pandas.core.frame.DataFrame'>\n",
            "RangeIndex: 4302 entries, 0 to 4301\n",
            "Data columns (total 36 columns):\n",
            " #   Column                    Non-Null Count  Dtype  \n",
            "---  ------                    --------------  -----  \n",
            " 0   EmployeeNumber            4302 non-null   int64  \n",
            " 1   Age                       4302 non-null   float64\n",
            " 2   BusinessTravel            4302 non-null   object \n",
            " 3   DailyRate                 4302 non-null   float64\n",
            " 4   Department                4302 non-null   object \n",
            " 5   DistanceFromHome          4302 non-null   float64\n",
            " 6   Education                 4302 non-null   float64\n",
            " 7   EducationField            4302 non-null   object \n",
            " 8   EmployeeCount             4302 non-null   float64\n",
            " 9   EnvironmentSatisfaction   4302 non-null   float64\n",
            " 10  Gender                    4302 non-null   object \n",
            " 11  HourlyRate                4302 non-null   float64\n",
            " 12  JobInvolvement            4302 non-null   float64\n",
            " 13  JobLevel                  4302 non-null   float64\n",
            " 14  JobRole                   4302 non-null   object \n",
            " 15  JobSatisfaction           4302 non-null   float64\n",
            " 16  MaritalStatus             4302 non-null   object \n",
            " 17  MonthlyIncome             4302 non-null   float64\n",
            " 18  MonthlyRate               4302 non-null   float64\n",
            " 19  NumCompaniesWorked        4302 non-null   float64\n",
            " 20  Over18                    4302 non-null   object \n",
            " 21  OverTime                  4302 non-null   object \n",
            " 22  PercentSalaryHike         4302 non-null   float64\n",
            " 23  PerformanceRating         4302 non-null   float64\n",
            " 24  RelationshipSatisfaction  4302 non-null   float64\n",
            " 25  StandardHours             4302 non-null   float64\n",
            " 26  StockOptionLevel          4302 non-null   float64\n",
            " 27  TotalWorkingYears         4302 non-null   float64\n",
            " 28  TrainingTimesLastYear     4302 non-null   float64\n",
            " 29  WorkLifeBalance           4302 non-null   float64\n",
            " 30  YearsAtCompany            4302 non-null   float64\n",
            " 31  YearsInCurrentRole        4302 non-null   float64\n",
            " 32  YearsSinceLastPromotion   4302 non-null   float64\n",
            " 33  YearsWithCurrManager      4302 non-null   float64\n",
            " 34  Attrition_y               4302 non-null   object \n",
            " 35  YearlyIncome              4302 non-null   float64\n",
            "dtypes: float64(26), int64(1), object(9)\n",
            "memory usage: 1.2+ MB\n"
          ]
        }
      ]
    },
    {
      "cell_type": "code",
      "source": [
        "df_master_1.drop(['PerformanceRating'],axis=1,inplace=True)\n"
      ],
      "metadata": {
        "id": "OxIZJC5no_r1"
      },
      "execution_count": null,
      "outputs": []
    },
    {
      "cell_type": "code",
      "source": [
        "df_master_1.drop(['Over18'],axis=1,inplace=True)\n",
        "df_master_1.drop(['YearlyIncome'],axis=1,inplace=True)"
      ],
      "metadata": {
        "id": "lKkP64lD43zM"
      },
      "execution_count": null,
      "outputs": []
    },
    {
      "cell_type": "code",
      "source": [
        "df_master_1.drop(['YearlyIncome'],axis=1,inplace=True)"
      ],
      "metadata": {
        "id": "NDfOHMJ4iBBA",
        "colab": {
          "base_uri": "https://localhost:8080/",
          "height": 311
        },
        "outputId": "eaa15e56-f04c-40c1-8f8a-c410752b2065"
      },
      "execution_count": null,
      "outputs": [
        {
          "output_type": "error",
          "ename": "KeyError",
          "evalue": "ignored",
          "traceback": [
            "\u001b[0;31m---------------------------------------------------------------------------\u001b[0m",
            "\u001b[0;31mKeyError\u001b[0m                                  Traceback (most recent call last)",
            "\u001b[0;32m<ipython-input-48-f37073149d60>\u001b[0m in \u001b[0;36m<module>\u001b[0;34m\u001b[0m\n\u001b[0;32m----> 1\u001b[0;31m \u001b[0mdf_master_1\u001b[0m\u001b[0;34m.\u001b[0m\u001b[0mdrop\u001b[0m\u001b[0;34m(\u001b[0m\u001b[0;34m[\u001b[0m\u001b[0;34m'YearlyIncome'\u001b[0m\u001b[0;34m]\u001b[0m\u001b[0;34m,\u001b[0m\u001b[0maxis\u001b[0m\u001b[0;34m=\u001b[0m\u001b[0;36m1\u001b[0m\u001b[0;34m,\u001b[0m\u001b[0minplace\u001b[0m\u001b[0;34m=\u001b[0m\u001b[0;32mTrue\u001b[0m\u001b[0;34m)\u001b[0m\u001b[0;34m\u001b[0m\u001b[0;34m\u001b[0m\u001b[0m\n\u001b[0m",
            "\u001b[0;32m/usr/local/lib/python3.7/dist-packages/pandas/util/_decorators.py\u001b[0m in \u001b[0;36mwrapper\u001b[0;34m(*args, **kwargs)\u001b[0m\n\u001b[1;32m    309\u001b[0m                     \u001b[0mstacklevel\u001b[0m\u001b[0;34m=\u001b[0m\u001b[0mstacklevel\u001b[0m\u001b[0;34m,\u001b[0m\u001b[0;34m\u001b[0m\u001b[0;34m\u001b[0m\u001b[0m\n\u001b[1;32m    310\u001b[0m                 )\n\u001b[0;32m--> 311\u001b[0;31m             \u001b[0;32mreturn\u001b[0m \u001b[0mfunc\u001b[0m\u001b[0;34m(\u001b[0m\u001b[0;34m*\u001b[0m\u001b[0margs\u001b[0m\u001b[0;34m,\u001b[0m \u001b[0;34m**\u001b[0m\u001b[0mkwargs\u001b[0m\u001b[0;34m)\u001b[0m\u001b[0;34m\u001b[0m\u001b[0;34m\u001b[0m\u001b[0m\n\u001b[0m\u001b[1;32m    312\u001b[0m \u001b[0;34m\u001b[0m\u001b[0m\n\u001b[1;32m    313\u001b[0m         \u001b[0;32mreturn\u001b[0m \u001b[0mwrapper\u001b[0m\u001b[0;34m\u001b[0m\u001b[0;34m\u001b[0m\u001b[0m\n",
            "\u001b[0;32m/usr/local/lib/python3.7/dist-packages/pandas/core/frame.py\u001b[0m in \u001b[0;36mdrop\u001b[0;34m(self, labels, axis, index, columns, level, inplace, errors)\u001b[0m\n\u001b[1;32m   4911\u001b[0m             \u001b[0mlevel\u001b[0m\u001b[0;34m=\u001b[0m\u001b[0mlevel\u001b[0m\u001b[0;34m,\u001b[0m\u001b[0;34m\u001b[0m\u001b[0;34m\u001b[0m\u001b[0m\n\u001b[1;32m   4912\u001b[0m             \u001b[0minplace\u001b[0m\u001b[0;34m=\u001b[0m\u001b[0minplace\u001b[0m\u001b[0;34m,\u001b[0m\u001b[0;34m\u001b[0m\u001b[0;34m\u001b[0m\u001b[0m\n\u001b[0;32m-> 4913\u001b[0;31m             \u001b[0merrors\u001b[0m\u001b[0;34m=\u001b[0m\u001b[0merrors\u001b[0m\u001b[0;34m,\u001b[0m\u001b[0;34m\u001b[0m\u001b[0;34m\u001b[0m\u001b[0m\n\u001b[0m\u001b[1;32m   4914\u001b[0m         )\n\u001b[1;32m   4915\u001b[0m \u001b[0;34m\u001b[0m\u001b[0m\n",
            "\u001b[0;32m/usr/local/lib/python3.7/dist-packages/pandas/core/generic.py\u001b[0m in \u001b[0;36mdrop\u001b[0;34m(self, labels, axis, index, columns, level, inplace, errors)\u001b[0m\n\u001b[1;32m   4148\u001b[0m         \u001b[0;32mfor\u001b[0m \u001b[0maxis\u001b[0m\u001b[0;34m,\u001b[0m \u001b[0mlabels\u001b[0m \u001b[0;32min\u001b[0m \u001b[0maxes\u001b[0m\u001b[0;34m.\u001b[0m\u001b[0mitems\u001b[0m\u001b[0;34m(\u001b[0m\u001b[0;34m)\u001b[0m\u001b[0;34m:\u001b[0m\u001b[0;34m\u001b[0m\u001b[0;34m\u001b[0m\u001b[0m\n\u001b[1;32m   4149\u001b[0m             \u001b[0;32mif\u001b[0m \u001b[0mlabels\u001b[0m \u001b[0;32mis\u001b[0m \u001b[0;32mnot\u001b[0m \u001b[0;32mNone\u001b[0m\u001b[0;34m:\u001b[0m\u001b[0;34m\u001b[0m\u001b[0;34m\u001b[0m\u001b[0m\n\u001b[0;32m-> 4150\u001b[0;31m                 \u001b[0mobj\u001b[0m \u001b[0;34m=\u001b[0m \u001b[0mobj\u001b[0m\u001b[0;34m.\u001b[0m\u001b[0m_drop_axis\u001b[0m\u001b[0;34m(\u001b[0m\u001b[0mlabels\u001b[0m\u001b[0;34m,\u001b[0m \u001b[0maxis\u001b[0m\u001b[0;34m,\u001b[0m \u001b[0mlevel\u001b[0m\u001b[0;34m=\u001b[0m\u001b[0mlevel\u001b[0m\u001b[0;34m,\u001b[0m \u001b[0merrors\u001b[0m\u001b[0;34m=\u001b[0m\u001b[0merrors\u001b[0m\u001b[0;34m)\u001b[0m\u001b[0;34m\u001b[0m\u001b[0;34m\u001b[0m\u001b[0m\n\u001b[0m\u001b[1;32m   4151\u001b[0m \u001b[0;34m\u001b[0m\u001b[0m\n\u001b[1;32m   4152\u001b[0m         \u001b[0;32mif\u001b[0m \u001b[0minplace\u001b[0m\u001b[0;34m:\u001b[0m\u001b[0;34m\u001b[0m\u001b[0;34m\u001b[0m\u001b[0m\n",
            "\u001b[0;32m/usr/local/lib/python3.7/dist-packages/pandas/core/generic.py\u001b[0m in \u001b[0;36m_drop_axis\u001b[0;34m(self, labels, axis, level, errors)\u001b[0m\n\u001b[1;32m   4183\u001b[0m                 \u001b[0mnew_axis\u001b[0m \u001b[0;34m=\u001b[0m \u001b[0maxis\u001b[0m\u001b[0;34m.\u001b[0m\u001b[0mdrop\u001b[0m\u001b[0;34m(\u001b[0m\u001b[0mlabels\u001b[0m\u001b[0;34m,\u001b[0m \u001b[0mlevel\u001b[0m\u001b[0;34m=\u001b[0m\u001b[0mlevel\u001b[0m\u001b[0;34m,\u001b[0m \u001b[0merrors\u001b[0m\u001b[0;34m=\u001b[0m\u001b[0merrors\u001b[0m\u001b[0;34m)\u001b[0m\u001b[0;34m\u001b[0m\u001b[0;34m\u001b[0m\u001b[0m\n\u001b[1;32m   4184\u001b[0m             \u001b[0;32melse\u001b[0m\u001b[0;34m:\u001b[0m\u001b[0;34m\u001b[0m\u001b[0;34m\u001b[0m\u001b[0m\n\u001b[0;32m-> 4185\u001b[0;31m                 \u001b[0mnew_axis\u001b[0m \u001b[0;34m=\u001b[0m \u001b[0maxis\u001b[0m\u001b[0;34m.\u001b[0m\u001b[0mdrop\u001b[0m\u001b[0;34m(\u001b[0m\u001b[0mlabels\u001b[0m\u001b[0;34m,\u001b[0m \u001b[0merrors\u001b[0m\u001b[0;34m=\u001b[0m\u001b[0merrors\u001b[0m\u001b[0;34m)\u001b[0m\u001b[0;34m\u001b[0m\u001b[0;34m\u001b[0m\u001b[0m\n\u001b[0m\u001b[1;32m   4186\u001b[0m             \u001b[0mresult\u001b[0m \u001b[0;34m=\u001b[0m \u001b[0mself\u001b[0m\u001b[0;34m.\u001b[0m\u001b[0mreindex\u001b[0m\u001b[0;34m(\u001b[0m\u001b[0;34m**\u001b[0m\u001b[0;34m{\u001b[0m\u001b[0maxis_name\u001b[0m\u001b[0;34m:\u001b[0m \u001b[0mnew_axis\u001b[0m\u001b[0;34m}\u001b[0m\u001b[0;34m)\u001b[0m\u001b[0;34m\u001b[0m\u001b[0;34m\u001b[0m\u001b[0m\n\u001b[1;32m   4187\u001b[0m \u001b[0;34m\u001b[0m\u001b[0m\n",
            "\u001b[0;32m/usr/local/lib/python3.7/dist-packages/pandas/core/indexes/base.py\u001b[0m in \u001b[0;36mdrop\u001b[0;34m(self, labels, errors)\u001b[0m\n\u001b[1;32m   6015\u001b[0m         \u001b[0;32mif\u001b[0m \u001b[0mmask\u001b[0m\u001b[0;34m.\u001b[0m\u001b[0many\u001b[0m\u001b[0;34m(\u001b[0m\u001b[0;34m)\u001b[0m\u001b[0;34m:\u001b[0m\u001b[0;34m\u001b[0m\u001b[0;34m\u001b[0m\u001b[0m\n\u001b[1;32m   6016\u001b[0m             \u001b[0;32mif\u001b[0m \u001b[0merrors\u001b[0m \u001b[0;34m!=\u001b[0m \u001b[0;34m\"ignore\"\u001b[0m\u001b[0;34m:\u001b[0m\u001b[0;34m\u001b[0m\u001b[0;34m\u001b[0m\u001b[0m\n\u001b[0;32m-> 6017\u001b[0;31m                 \u001b[0;32mraise\u001b[0m \u001b[0mKeyError\u001b[0m\u001b[0;34m(\u001b[0m\u001b[0;34mf\"{labels[mask]} not found in axis\"\u001b[0m\u001b[0;34m)\u001b[0m\u001b[0;34m\u001b[0m\u001b[0;34m\u001b[0m\u001b[0m\n\u001b[0m\u001b[1;32m   6018\u001b[0m             \u001b[0mindexer\u001b[0m \u001b[0;34m=\u001b[0m \u001b[0mindexer\u001b[0m\u001b[0;34m[\u001b[0m\u001b[0;34m~\u001b[0m\u001b[0mmask\u001b[0m\u001b[0;34m]\u001b[0m\u001b[0;34m\u001b[0m\u001b[0;34m\u001b[0m\u001b[0m\n\u001b[1;32m   6019\u001b[0m         \u001b[0;32mreturn\u001b[0m \u001b[0mself\u001b[0m\u001b[0;34m.\u001b[0m\u001b[0mdelete\u001b[0m\u001b[0;34m(\u001b[0m\u001b[0mindexer\u001b[0m\u001b[0;34m)\u001b[0m\u001b[0;34m\u001b[0m\u001b[0;34m\u001b[0m\u001b[0m\n",
            "\u001b[0;31mKeyError\u001b[0m: \"['YearlyIncome'] not found in axis\""
          ]
        }
      ]
    },
    {
      "cell_type": "code",
      "source": [
        "df_master_1.info()"
      ],
      "metadata": {
        "id": "TVaQFCJ03s88",
        "colab": {
          "base_uri": "https://localhost:8080/"
        },
        "outputId": "88474db8-66c2-40e5-a0dc-9a1d5eb91459"
      },
      "execution_count": null,
      "outputs": [
        {
          "output_type": "stream",
          "name": "stdout",
          "text": [
            "<class 'pandas.core.frame.DataFrame'>\n",
            "RangeIndex: 4302 entries, 0 to 4301\n",
            "Data columns (total 33 columns):\n",
            " #   Column                    Non-Null Count  Dtype  \n",
            "---  ------                    --------------  -----  \n",
            " 0   EmployeeNumber            4302 non-null   int64  \n",
            " 1   Age                       4302 non-null   float64\n",
            " 2   BusinessTravel            4302 non-null   object \n",
            " 3   DailyRate                 4302 non-null   float64\n",
            " 4   Department                4302 non-null   object \n",
            " 5   DistanceFromHome          4302 non-null   float64\n",
            " 6   Education                 4302 non-null   float64\n",
            " 7   EducationField            4302 non-null   object \n",
            " 8   EmployeeCount             4302 non-null   float64\n",
            " 9   EnvironmentSatisfaction   4302 non-null   float64\n",
            " 10  Gender                    4302 non-null   object \n",
            " 11  HourlyRate                4302 non-null   float64\n",
            " 12  JobInvolvement            4302 non-null   float64\n",
            " 13  JobLevel                  4302 non-null   float64\n",
            " 14  JobRole                   4302 non-null   object \n",
            " 15  JobSatisfaction           4302 non-null   float64\n",
            " 16  MaritalStatus             4302 non-null   object \n",
            " 17  MonthlyIncome             4302 non-null   float64\n",
            " 18  MonthlyRate               4302 non-null   float64\n",
            " 19  NumCompaniesWorked        4302 non-null   float64\n",
            " 20  OverTime                  4302 non-null   object \n",
            " 21  PercentSalaryHike         4302 non-null   float64\n",
            " 22  RelationshipSatisfaction  4302 non-null   float64\n",
            " 23  StandardHours             4302 non-null   float64\n",
            " 24  StockOptionLevel          4302 non-null   float64\n",
            " 25  TotalWorkingYears         4302 non-null   float64\n",
            " 26  TrainingTimesLastYear     4302 non-null   float64\n",
            " 27  WorkLifeBalance           4302 non-null   float64\n",
            " 28  YearsAtCompany            4302 non-null   float64\n",
            " 29  YearsInCurrentRole        4302 non-null   float64\n",
            " 30  YearsSinceLastPromotion   4302 non-null   float64\n",
            " 31  YearsWithCurrManager      4302 non-null   float64\n",
            " 32  Attrition_y               4302 non-null   object \n",
            "dtypes: float64(24), int64(1), object(8)\n",
            "memory usage: 1.1+ MB\n"
          ]
        }
      ]
    },
    {
      "cell_type": "code",
      "source": [
        "print(df_master_1['Age'].value_counts())"
      ],
      "metadata": {
        "id": "H2-dclAKTmJg",
        "colab": {
          "base_uri": "https://localhost:8080/"
        },
        "outputId": "7445e7cf-c561-4d80-812f-1a939129fabc"
      },
      "execution_count": null,
      "outputs": [
        {
          "output_type": "stream",
          "name": "stdout",
          "text": [
            "36.0    483\n",
            "34.0    218\n",
            "35.0    212\n",
            "29.0    190\n",
            "31.0    182\n",
            "38.0    171\n",
            "40.0    164\n",
            "33.0    161\n",
            "32.0    161\n",
            "30.0    159\n",
            "28.0    137\n",
            "27.0    135\n",
            "37.0    134\n",
            "42.0    117\n",
            "39.0    116\n",
            "41.0    115\n",
            "45.0    107\n",
            "26.0    106\n",
            "46.0     92\n",
            "50.0     86\n",
            "44.0     84\n",
            "43.0     83\n",
            "25.0     73\n",
            "24.0     69\n",
            "49.0     62\n",
            "47.0     60\n",
            "55.0     56\n",
            "52.0     55\n",
            "22.0     53\n",
            "53.0     50\n",
            "51.0     46\n",
            "54.0     45\n",
            "48.0     43\n",
            "21.0     42\n",
            "58.0     39\n",
            "23.0     37\n",
            "56.0     35\n",
            "20.0     32\n",
            "59.0     28\n",
            "19.0     23\n",
            "18.0     19\n",
            "60.0     13\n",
            "57.0      9\n",
            "Name: Age, dtype: int64\n"
          ]
        }
      ]
    },
    {
      "cell_type": "code",
      "source": [
        "df_master_1.Age.value_counts().sort_values().plot(kind = 'barh')"
      ],
      "metadata": {
        "id": "znHDXAUXWjUs",
        "colab": {
          "base_uri": "https://localhost:8080/",
          "height": 284
        },
        "outputId": "59def20c-fd67-4786-cf2a-2830e96c25d4"
      },
      "execution_count": null,
      "outputs": [
        {
          "output_type": "execute_result",
          "data": {
            "text/plain": [
              "<matplotlib.axes._subplots.AxesSubplot at 0x7fcd850c2350>"
            ]
          },
          "metadata": {},
          "execution_count": 51
        },
        {
          "output_type": "display_data",
          "data": {
            "text/plain": [
              "<Figure size 432x288 with 1 Axes>"
            ],
            "image/png": "[encoded data removed]"
          },
          "metadata": {
            "needs_background": "light"
          }
        }
      ]
    },
    {
      "cell_type": "code",
      "source": [
        "df_master_1['DailyRate'].value_counts()\n"
      ],
      "metadata": {
        "id": "9GxwlF9tOhhT",
        "colab": {
          "base_uri": "https://localhost:8080/"
        },
        "outputId": "894e5b7b-bf72-4d4f-fa2b-bd7228551bca"
      },
      "execution_count": null,
      "outputs": [
        {
          "output_type": "execute_result",
          "data": {
            "text/plain": [
              "329.0     16\n",
              "530.0     16\n",
              "691.0     16\n",
              "1146.0    16\n",
              "1329.0    16\n",
              "          ..\n",
              "719.0      1\n",
              "237.0      1\n",
              "717.0      1\n",
              "1392.0     1\n",
              "828.0      1\n",
              "Name: DailyRate, Length: 886, dtype: int64"
            ]
          },
          "metadata": {},
          "execution_count": 52
        }
      ]
    },
    {
      "cell_type": "code",
      "source": [
        "df_master_1['Department'].value_counts()"
      ],
      "metadata": {
        "id": "VWzKbt7ZV6mT",
        "colab": {
          "base_uri": "https://localhost:8080/"
        },
        "outputId": "08bd42a1-d314-4a43-f676-01ac316279b4"
      },
      "execution_count": null,
      "outputs": [
        {
          "output_type": "execute_result",
          "data": {
            "text/plain": [
              "Research & Development    2815\n",
              "Sales                     1305\n",
              "Human Resources            182\n",
              "Name: Department, dtype: int64"
            ]
          },
          "metadata": {},
          "execution_count": 53
        }
      ]
    },
    {
      "cell_type": "code",
      "source": [
        "df_master_1['DistanceFromHome'].value_counts()"
      ],
      "metadata": {
        "id": "9Q_5pyN0gzqt",
        "colab": {
          "base_uri": "https://localhost:8080/"
        },
        "outputId": "4967682f-a65b-403e-8523-ebfb88030198"
      },
      "execution_count": null,
      "outputs": [
        {
          "output_type": "execute_result",
          "data": {
            "text/plain": [
              "2.0     589\n",
              "1.0     568\n",
              "8.0     499\n",
              "10.0    239\n",
              "3.0     227\n",
              "7.0     225\n",
              "9.0     224\n",
              "5.0     175\n",
              "4.0     163\n",
              "6.0     155\n",
              "16.0     90\n",
              "11.0     83\n",
              "24.0     82\n",
              "26.0     75\n",
              "18.0     75\n",
              "15.0     75\n",
              "20.0     74\n",
              "25.0     72\n",
              "23.0     71\n",
              "29.0     69\n",
              "17.0     62\n",
              "21.0     59\n",
              "12.0     58\n",
              "13.0     57\n",
              "19.0     56\n",
              "28.0     56\n",
              "14.0     50\n",
              "22.0     47\n",
              "27.0     27\n",
              "Name: DistanceFromHome, dtype: int64"
            ]
          },
          "metadata": {},
          "execution_count": 54
        }
      ]
    },
    {
      "cell_type": "code",
      "source": [
        "df_master_1['EducationField'].value_counts()"
      ],
      "metadata": {
        "id": "lpMFArTihTvn",
        "colab": {
          "base_uri": "https://localhost:8080/"
        },
        "outputId": "8b2062c3-d65c-418f-a2fe-a5dff9b32fc9"
      },
      "execution_count": null,
      "outputs": [
        {
          "output_type": "execute_result",
          "data": {
            "text/plain": [
              "Life Sciences       1768\n",
              "Medical             1344\n",
              "Marketing            472\n",
              "Technical Degree     393\n",
              "Other                245\n",
              "Human Resources       80\n",
              "Name: EducationField, dtype: int64"
            ]
          },
          "metadata": {},
          "execution_count": 55
        }
      ]
    },
    {
      "cell_type": "code",
      "source": [
        "df_master_1['Education'].value_counts()"
      ],
      "metadata": {
        "id": "dxoZ3SPsh1_6",
        "colab": {
          "base_uri": "https://localhost:8080/"
        },
        "outputId": "e90a336c-e8f0-4992-f1fc-74e60c446f76"
      },
      "execution_count": null,
      "outputs": [
        {
          "output_type": "execute_result",
          "data": {
            "text/plain": [
              "3.0    1674\n",
              "4.0    1155\n",
              "2.0     826\n",
              "1.0     506\n",
              "5.0     141\n",
              "Name: Education, dtype: int64"
            ]
          },
          "metadata": {},
          "execution_count": 56
        }
      ]
    },
    {
      "cell_type": "code",
      "source": [
        "df_master_1['EnvironmentSatisfaction'].value_counts()"
      ],
      "metadata": {
        "id": "kTP-dl33iaa_",
        "colab": {
          "base_uri": "https://localhost:8080/"
        },
        "outputId": "c81ba9d6-9677-4eca-ef4a-7286a8b97b62"
      },
      "execution_count": null,
      "outputs": [
        {
          "output_type": "execute_result",
          "data": {
            "text/plain": [
              "3.0    1358\n",
              "4.0    1290\n",
              "1.0     842\n",
              "2.0     812\n",
              "Name: EnvironmentSatisfaction, dtype: int64"
            ]
          },
          "metadata": {},
          "execution_count": 57
        }
      ]
    },
    {
      "cell_type": "code",
      "source": [
        "df_master_1.corr()\n",
        "\n",
        "correlation = df_master_1.corr()\n",
        "fig = plt.subplots(figsize=(20,20))\n",
        "sns.heatmap(correlation,vmax=1,square=True,annot=True,cmap='Blues')"
      ],
      "metadata": {
        "id": "fDsXqXorjgT3",
        "colab": {
          "base_uri": "https://localhost:8080/",
          "height": 952
        },
        "outputId": "c16bc4dd-25ea-4210-beee-235eac4014f0"
      },
      "execution_count": null,
      "outputs": [
        {
          "output_type": "execute_result",
          "data": {
            "text/plain": [
              "<matplotlib.axes._subplots.AxesSubplot at 0x7fcd6ec562d0>"
            ]
          },
          "metadata": {},
          "execution_count": 58
        },
        {
          "output_type": "display_data",
          "data": {
            "text/plain": [
              "<Figure size 1440x1440 with 2 Axes>"
            ],
            "image/png": "[encoded data removed]"
          },
          "metadata": {
            "needs_background": "light"
          }
        }
      ]
    },
    {
      "cell_type": "code",
      "source": [
        "## Declare feature vector and target variable\n",
        "X= df_master_1.drop(['Attrition_y'],axis=1)\n",
        "y= df_master_1['Attrition_y']"
      ],
      "metadata": {
        "id": "aqok1bCZdXAF"
      },
      "execution_count": null,
      "outputs": []
    },
    {
      "cell_type": "code",
      "source": [
        "X.shape,y.shape"
      ],
      "metadata": {
        "id": "4ecb7ZV_e8_Y",
        "colab": {
          "base_uri": "https://localhost:8080/"
        },
        "outputId": "48d8517b-29c9-4972-cd82-fb0d933fe8ea"
      },
      "execution_count": null,
      "outputs": [
        {
          "output_type": "execute_result",
          "data": {
            "text/plain": [
              "((4302, 32), (4302,))"
            ]
          },
          "metadata": {},
          "execution_count": 60
        }
      ]
    },
    {
      "cell_type": "code",
      "source": [
        "from sklearn.model_selection import train_test_split\n",
        "X_train,X_test,y_train,y_test= train_test_split(X,y,test_size=0.3,random_state=123)"
      ],
      "metadata": {
        "id": "dr-fzAzTfR5V"
      },
      "execution_count": null,
      "outputs": []
    },
    {
      "cell_type": "markdown",
      "source": [
        "Feature Engineering - Random Forest"
      ],
      "metadata": {
        "id": "1Q4ahsEDgy1I"
      }
    },
    {
      "cell_type": "code",
      "source": [
        "X_train.dtypes"
      ],
      "metadata": {
        "id": "99Ms72hPgRTD",
        "colab": {
          "base_uri": "https://localhost:8080/"
        },
        "outputId": "03e64e9b-6574-4581-fa97-06a5425763fd"
      },
      "execution_count": null,
      "outputs": [
        {
          "output_type": "execute_result",
          "data": {
            "text/plain": [
              "EmployeeNumber                int64\n",
              "Age                         float64\n",
              "BusinessTravel               object\n",
              "DailyRate                   float64\n",
              "Department                   object\n",
              "DistanceFromHome            float64\n",
              "Education                   float64\n",
              "EducationField               object\n",
              "EmployeeCount               float64\n",
              "EnvironmentSatisfaction     float64\n",
              "Gender                       object\n",
              "HourlyRate                  float64\n",
              "JobInvolvement              float64\n",
              "JobLevel                    float64\n",
              "JobRole                      object\n",
              "JobSatisfaction             float64\n",
              "MaritalStatus                object\n",
              "MonthlyIncome               float64\n",
              "MonthlyRate                 float64\n",
              "NumCompaniesWorked          float64\n",
              "OverTime                     object\n",
              "PercentSalaryHike           float64\n",
              "RelationshipSatisfaction    float64\n",
              "StandardHours               float64\n",
              "StockOptionLevel            float64\n",
              "TotalWorkingYears           float64\n",
              "TrainingTimesLastYear       float64\n",
              "WorkLifeBalance             float64\n",
              "YearsAtCompany              float64\n",
              "YearsInCurrentRole          float64\n",
              "YearsSinceLastPromotion     float64\n",
              "YearsWithCurrManager        float64\n",
              "dtype: object"
            ]
          },
          "metadata": {},
          "execution_count": 62
        }
      ]
    },
    {
      "cell_type": "code",
      "source": [
        "df_master_1['Department'].value_counts()"
      ],
      "metadata": {
        "id": "uYUSeYXDiMsC",
        "colab": {
          "base_uri": "https://localhost:8080/"
        },
        "outputId": "390a46cd-6878-495b-9c98-98866db909a8"
      },
      "execution_count": null,
      "outputs": [
        {
          "output_type": "execute_result",
          "data": {
            "text/plain": [
              "Research & Development    2815\n",
              "Sales                     1305\n",
              "Human Resources            182\n",
              "Name: Department, dtype: int64"
            ]
          },
          "metadata": {},
          "execution_count": 63
        }
      ]
    },
    {
      "cell_type": "code",
      "source": [
        "df_master_1['BusinessTravel'].value_counts()"
      ],
      "metadata": {
        "id": "1kLNw2kYsV1y",
        "colab": {
          "base_uri": "https://localhost:8080/"
        },
        "outputId": "6d70fd34-84b0-41b5-fa25-52cc516f0e84"
      },
      "execution_count": null,
      "outputs": [
        {
          "output_type": "execute_result",
          "data": {
            "text/plain": [
              "Travel_Rarely        3041\n",
              "Travel_Frequently     816\n",
              "Non-Travel            445\n",
              "Name: BusinessTravel, dtype: int64"
            ]
          },
          "metadata": {},
          "execution_count": 64
        }
      ]
    },
    {
      "cell_type": "code",
      "source": [
        "df_master_1['EducationField'].value_counts()"
      ],
      "metadata": {
        "id": "dZTX8ibfs1Xj",
        "colab": {
          "base_uri": "https://localhost:8080/"
        },
        "outputId": "878c0988-8baf-4a92-e55a-00018f31ad94"
      },
      "execution_count": null,
      "outputs": [
        {
          "output_type": "execute_result",
          "data": {
            "text/plain": [
              "Life Sciences       1768\n",
              "Medical             1344\n",
              "Marketing            472\n",
              "Technical Degree     393\n",
              "Other                245\n",
              "Human Resources       80\n",
              "Name: EducationField, dtype: int64"
            ]
          },
          "metadata": {},
          "execution_count": 65
        }
      ]
    },
    {
      "cell_type": "code",
      "source": [
        "df_master_1['Gender'].value_counts()"
      ],
      "metadata": {
        "id": "E2CK_NnAtUR3",
        "colab": {
          "base_uri": "https://localhost:8080/"
        },
        "outputId": "0cc117c2-73cd-47e4-b46c-d27f836f58b2"
      },
      "execution_count": null,
      "outputs": [
        {
          "output_type": "execute_result",
          "data": {
            "text/plain": [
              "Male      2595\n",
              "Female    1707\n",
              "Name: Gender, dtype: int64"
            ]
          },
          "metadata": {},
          "execution_count": 66
        }
      ]
    },
    {
      "cell_type": "code",
      "source": [
        "df_master_1['MaritalStatus'].value_counts()"
      ],
      "metadata": {
        "id": "c1Fkh30EtviB",
        "colab": {
          "base_uri": "https://localhost:8080/"
        },
        "outputId": "70b0847c-f09a-4861-a331-a2c630a6fa2e"
      },
      "execution_count": null,
      "outputs": [
        {
          "output_type": "execute_result",
          "data": {
            "text/plain": [
              "Married     2005\n",
              "Single      1381\n",
              "Divorced     916\n",
              "Name: MaritalStatus, dtype: int64"
            ]
          },
          "metadata": {},
          "execution_count": 67
        }
      ]
    },
    {
      "cell_type": "code",
      "source": [
        "df_master_1['JobRole'].value_counts()"
      ],
      "metadata": {
        "id": "VJ4fhcTUt7SE",
        "colab": {
          "base_uri": "https://localhost:8080/"
        },
        "outputId": "fd6cd71b-7bac-4cdc-cf2e-5f95e5cf232d"
      },
      "execution_count": null,
      "outputs": [
        {
          "output_type": "execute_result",
          "data": {
            "text/plain": [
              "Sales Executive              950\n",
              "Research Scientist           883\n",
              "Laboratory Technician        755\n",
              "Manufacturing Director       417\n",
              "Healthcare Representative    384\n",
              "Manager                      287\n",
              "Sales Representative         247\n",
              "Research Director            229\n",
              "Human Resources              150\n",
              "Name: JobRole, dtype: int64"
            ]
          },
          "metadata": {},
          "execution_count": 68
        }
      ]
    },
    {
      "cell_type": "code",
      "source": [
        "df_master_1['OverTime'].value_counts()"
      ],
      "metadata": {
        "id": "ItTG1Q5IuP8v",
        "colab": {
          "base_uri": "https://localhost:8080/"
        },
        "outputId": "f0fb9d41-4c32-4295-db0c-87d64bfb1354"
      },
      "execution_count": null,
      "outputs": [
        {
          "output_type": "execute_result",
          "data": {
            "text/plain": [
              "No     3089\n",
              "Yes    1213\n",
              "Name: OverTime, dtype: int64"
            ]
          },
          "metadata": {},
          "execution_count": 69
        }
      ]
    },
    {
      "cell_type": "code",
      "source": [
        "!pip install category_encoders"
      ],
      "metadata": {
        "colab": {
          "base_uri": "https://localhost:8080/"
        },
        "id": "XFuuOuFZux1t",
        "outputId": "f1782cbf-5776-4fb7-a96f-e29329d96fe5"
      },
      "execution_count": null,
      "outputs": [
        {
          "output_type": "stream",
          "name": "stdout",
          "text": [
            "Looking in indexes: https://pypi.org/simple, https://us-python.pkg.dev/colab-wheels/public/simple/\n",
            "Collecting category_encoders\n",
            "  Downloading category_encoders-2.5.0-py2.py3-none-any.whl (69 kB)\n",
            "\u001b[K     |████████████████████████████████| 69 kB 3.4 MB/s \n",
            "\u001b[?25hRequirement already satisfied: statsmodels>=0.9.0 in /usr/local/lib/python3.7/dist-packages (from category_encoders) (0.12.2)\n",
            "Requirement already satisfied: patsy>=0.5.1 in /usr/local/lib/python3.7/dist-packages (from category_encoders) (0.5.2)\n",
            "Requirement already satisfied: pandas>=1.0.5 in /usr/local/lib/python3.7/dist-packages (from category_encoders) (1.3.5)\n",
            "Requirement already satisfied: numpy>=1.14.0 in /usr/local/lib/python3.7/dist-packages (from category_encoders) (1.21.6)\n",
            "Requirement already satisfied: scikit-learn>=0.20.0 in /usr/local/lib/python3.7/dist-packages (from category_encoders) (1.0.2)\n",
            "Requirement already satisfied: scipy>=1.0.0 in /usr/local/lib/python3.7/dist-packages (from category_encoders) (1.7.3)\n",
            "Requirement already satisfied: python-dateutil>=2.7.3 in /usr/local/lib/python3.7/dist-packages (from pandas>=1.0.5->category_encoders) (2.8.2)\n",
            "Requirement already satisfied: pytz>=2017.3 in /usr/local/lib/python3.7/dist-packages (from pandas>=1.0.5->category_encoders) (2022.2.1)\n",
            "Requirement already satisfied: six in /usr/local/lib/python3.7/dist-packages (from patsy>=0.5.1->category_encoders) (1.15.0)\n",
            "Requirement already satisfied: joblib>=0.11 in /usr/local/lib/python3.7/dist-packages (from scikit-learn>=0.20.0->category_encoders) (1.1.0)\n",
            "Requirement already satisfied: threadpoolctl>=2.0.0 in /usr/local/lib/python3.7/dist-packages (from scikit-learn>=0.20.0->category_encoders) (3.1.0)\n",
            "Installing collected packages: category-encoders\n",
            "Successfully installed category-encoders-2.5.0\n"
          ]
        }
      ]
    },
    {
      "cell_type": "code",
      "source": [
        "df_master_1.info()\n"
      ],
      "metadata": {
        "id": "YGx28Sguu-YV",
        "colab": {
          "base_uri": "https://localhost:8080/"
        },
        "outputId": "11d2ca20-a093-4507-a56c-2970475da604"
      },
      "execution_count": null,
      "outputs": [
        {
          "output_type": "stream",
          "name": "stdout",
          "text": [
            "<class 'pandas.core.frame.DataFrame'>\n",
            "RangeIndex: 4302 entries, 0 to 4301\n",
            "Data columns (total 33 columns):\n",
            " #   Column                    Non-Null Count  Dtype  \n",
            "---  ------                    --------------  -----  \n",
            " 0   EmployeeNumber            4302 non-null   int64  \n",
            " 1   Age                       4302 non-null   float64\n",
            " 2   BusinessTravel            4302 non-null   object \n",
            " 3   DailyRate                 4302 non-null   float64\n",
            " 4   Department                4302 non-null   object \n",
            " 5   DistanceFromHome          4302 non-null   float64\n",
            " 6   Education                 4302 non-null   float64\n",
            " 7   EducationField            4302 non-null   object \n",
            " 8   EmployeeCount             4302 non-null   float64\n",
            " 9   EnvironmentSatisfaction   4302 non-null   float64\n",
            " 10  Gender                    4302 non-null   object \n",
            " 11  HourlyRate                4302 non-null   float64\n",
            " 12  JobInvolvement            4302 non-null   float64\n",
            " 13  JobLevel                  4302 non-null   float64\n",
            " 14  JobRole                   4302 non-null   object \n",
            " 15  JobSatisfaction           4302 non-null   float64\n",
            " 16  MaritalStatus             4302 non-null   object \n",
            " 17  MonthlyIncome             4302 non-null   float64\n",
            " 18  MonthlyRate               4302 non-null   float64\n",
            " 19  NumCompaniesWorked        4302 non-null   float64\n",
            " 20  OverTime                  4302 non-null   object \n",
            " 21  PercentSalaryHike         4302 non-null   float64\n",
            " 22  RelationshipSatisfaction  4302 non-null   float64\n",
            " 23  StandardHours             4302 non-null   float64\n",
            " 24  StockOptionLevel          4302 non-null   float64\n",
            " 25  TotalWorkingYears         4302 non-null   float64\n",
            " 26  TrainingTimesLastYear     4302 non-null   float64\n",
            " 27  WorkLifeBalance           4302 non-null   float64\n",
            " 28  YearsAtCompany            4302 non-null   float64\n",
            " 29  YearsInCurrentRole        4302 non-null   float64\n",
            " 30  YearsSinceLastPromotion   4302 non-null   float64\n",
            " 31  YearsWithCurrManager      4302 non-null   float64\n",
            " 32  Attrition_y               4302 non-null   object \n",
            "dtypes: float64(24), int64(1), object(8)\n",
            "memory usage: 1.1+ MB\n"
          ]
        }
      ]
    },
    {
      "cell_type": "code",
      "source": [
        "df_master_1['BusinessTravel'].value_counts()"
      ],
      "metadata": {
        "colab": {
          "base_uri": "https://localhost:8080/"
        },
        "id": "jkW2XSaEcG1c",
        "outputId": "8b4c239c-b6bf-4ff7-c151-2cb585d2e2ff"
      },
      "execution_count": null,
      "outputs": [
        {
          "output_type": "execute_result",
          "data": {
            "text/plain": [
              "Travel_Rarely        3041\n",
              "Travel_Frequently     816\n",
              "Non-Travel            445\n",
              "Name: BusinessTravel, dtype: int64"
            ]
          },
          "metadata": {},
          "execution_count": 72
        }
      ]
    },
    {
      "cell_type": "code",
      "source": [
        "num_cat_variables= {'Gender':{'Female':0, 'Male':1},'OverTime':{'No':0,'Yes':1}\n",
        "                    ,'Attrition_y':{'No':0,'Yes':1}\n",
        "                    ,'BusinessTravel':{'Non-Travel':0,'Travel_Rarely':1,\n",
        "                                        'Travel_Frequently':2}\n",
        "                    }"
      ],
      "metadata": {
        "id": "l89Nkg2rXhLS"
      },
      "execution_count": null,
      "outputs": []
    },
    {
      "cell_type": "code",
      "source": [
        "df_master_1= df_master_1.replace(num_cat_variables)"
      ],
      "metadata": {
        "id": "aBoV2ToBeRW2"
      },
      "execution_count": null,
      "outputs": []
    },
    {
      "cell_type": "code",
      "source": [
        "df_master_1.head()"
      ],
      "metadata": {
        "colab": {
          "base_uri": "https://localhost:8080/",
          "height": 352
        },
        "id": "2Q3G6EMOe6qr",
        "outputId": "bda23c7b-7583-43c4-e065-80408c19ec68"
      },
      "execution_count": null,
      "outputs": [
        {
          "output_type": "execute_result",
          "data": {
            "text/plain": [
              "   EmployeeNumber   Age  BusinessTravel  DailyRate              Department  \\\n",
              "0             857  36.0               1      928.0                   Sales   \n",
              "1              68  44.0               1     1488.0                   Sales   \n",
              "2            6507  44.0               1      170.0  Research & Development   \n",
              "3            2020  44.0               1     1037.0  Research & Development   \n",
              "4            6506  44.0               1      170.0  Research & Development   \n",
              "\n",
              "   DistanceFromHome  Education EducationField  EmployeeCount  \\\n",
              "0               1.0        2.0  Life Sciences            1.0   \n",
              "1               1.0        5.0      Marketing            1.0   \n",
              "2               1.0        4.0  Life Sciences            1.0   \n",
              "3               1.0        3.0        Medical            1.0   \n",
              "4               1.0        4.0  Life Sciences            1.0   \n",
              "\n",
              "   EnvironmentSatisfaction  ...  StandardHours  StockOptionLevel  \\\n",
              "0                      2.0  ...           80.0               1.0   \n",
              "1                      2.0  ...           80.0               1.0   \n",
              "2                      2.0  ...           80.0               1.0   \n",
              "3                      2.0  ...           80.0               0.0   \n",
              "4                      2.0  ...           80.0               1.0   \n",
              "\n",
              "   TotalWorkingYears  TrainingTimesLastYear WorkLifeBalance  YearsAtCompany  \\\n",
              "0               18.0                    1.0             2.0            18.0   \n",
              "1                9.0                    2.0             2.0             4.0   \n",
              "2               10.0                    5.0             3.0          9577.0   \n",
              "3                6.0                    2.0             3.0             4.0   \n",
              "4               10.0                    5.0             3.0          9577.0   \n",
              "\n",
              "  YearsInCurrentRole  YearsSinceLastPromotion  YearsWithCurrManager  \\\n",
              "0               14.0                      4.0                  11.0   \n",
              "1                3.0                      1.0                   3.0   \n",
              "2                0.0                      2.0                   2.0   \n",
              "3                3.0                      1.0                   2.0   \n",
              "4                0.0                      2.0                   2.0   \n",
              "\n",
              "   Attrition_y  \n",
              "0            0  \n",
              "1            0  \n",
              "2            1  \n",
              "3            0  \n",
              "4            1  \n",
              "\n",
              "[5 rows x 33 columns]"
            ],
            "text/html": [
              "\n",
              "  <div id=\"df-dbc52c75-39a3-49c0-88d6-22f4b928d65a\">\n",
              "    <div class=\"colab-df-container\">\n",
              "      <div>\n",
              "<style scoped>\n",
              "    .dataframe tbody tr th:only-of-type {\n",
              "        vertical-align: middle;\n",
              "    }\n",
              "\n",
              "    .dataframe tbody tr th {\n",
              "        vertical-align: top;\n",
              "    }\n",
              "\n",
              "    .dataframe thead th {\n",
              "        text-align: right;\n",
              "    }\n",
              "</style>\n",
              "<table border=\"1\" class=\"dataframe\">\n",
              "  <thead>\n",
              "    <tr style=\"text-align: right;\">\n",
              "      <th></th>\n",
              "      <th>EmployeeNumber</th>\n",
              "      <th>Age</th>\n",
              "      <th>BusinessTravel</th>\n",
              "      <th>DailyRate</th>\n",
              "      <th>Department</th>\n",
              "      <th>DistanceFromHome</th>\n",
              "      <th>Education</th>\n",
              "      <th>EducationField</th>\n",
              "      <th>EmployeeCount</th>\n",
              "      <th>EnvironmentSatisfaction</th>\n",
              "      <th>...</th>\n",
              "      <th>StandardHours</th>\n",
              "      <th>StockOptionLevel</th>\n",
              "      <th>TotalWorkingYears</th>\n",
              "      <th>TrainingTimesLastYear</th>\n",
              "      <th>WorkLifeBalance</th>\n",
              "      <th>YearsAtCompany</th>\n",
              "      <th>YearsInCurrentRole</th>\n",
              "      <th>YearsSinceLastPromotion</th>\n",
              "      <th>YearsWithCurrManager</th>\n",
              "      <th>Attrition_y</th>\n",
              "    </tr>\n",
              "  </thead>\n",
              "  <tbody>\n",
              "    <tr>\n",
              "      <th>0</th>\n",
              "      <td>857</td>\n",
              "      <td>36.0</td>\n",
              "      <td>1</td>\n",
              "      <td>928.0</td>\n",
              "      <td>Sales</td>\n",
              "      <td>1.0</td>\n",
              "      <td>2.0</td>\n",
              "      <td>Life Sciences</td>\n",
              "      <td>1.0</td>\n",
              "      <td>2.0</td>\n",
              "      <td>...</td>\n",
              "      <td>80.0</td>\n",
              "      <td>1.0</td>\n",
              "      <td>18.0</td>\n",
              "      <td>1.0</td>\n",
              "      <td>2.0</td>\n",
              "      <td>18.0</td>\n",
              "      <td>14.0</td>\n",
              "      <td>4.0</td>\n",
              "      <td>11.0</td>\n",
              "      <td>0</td>\n",
              "    </tr>\n",
              "    <tr>\n",
              "      <th>1</th>\n",
              "      <td>68</td>\n",
              "      <td>44.0</td>\n",
              "      <td>1</td>\n",
              "      <td>1488.0</td>\n",
              "      <td>Sales</td>\n",
              "      <td>1.0</td>\n",
              "      <td>5.0</td>\n",
              "      <td>Marketing</td>\n",
              "      <td>1.0</td>\n",
              "      <td>2.0</td>\n",
              "      <td>...</td>\n",
              "      <td>80.0</td>\n",
              "      <td>1.0</td>\n",
              "      <td>9.0</td>\n",
              "      <td>2.0</td>\n",
              "      <td>2.0</td>\n",
              "      <td>4.0</td>\n",
              "      <td>3.0</td>\n",
              "      <td>1.0</td>\n",
              "      <td>3.0</td>\n",
              "      <td>0</td>\n",
              "    </tr>\n",
              "    <tr>\n",
              "      <th>2</th>\n",
              "      <td>6507</td>\n",
              "      <td>44.0</td>\n",
              "      <td>1</td>\n",
              "      <td>170.0</td>\n",
              "      <td>Research &amp; Development</td>\n",
              "      <td>1.0</td>\n",
              "      <td>4.0</td>\n",
              "      <td>Life Sciences</td>\n",
              "      <td>1.0</td>\n",
              "      <td>2.0</td>\n",
              "      <td>...</td>\n",
              "      <td>80.0</td>\n",
              "      <td>1.0</td>\n",
              "      <td>10.0</td>\n",
              "      <td>5.0</td>\n",
              "      <td>3.0</td>\n",
              "      <td>9577.0</td>\n",
              "      <td>0.0</td>\n",
              "      <td>2.0</td>\n",
              "      <td>2.0</td>\n",
              "      <td>1</td>\n",
              "    </tr>\n",
              "    <tr>\n",
              "      <th>3</th>\n",
              "      <td>2020</td>\n",
              "      <td>44.0</td>\n",
              "      <td>1</td>\n",
              "      <td>1037.0</td>\n",
              "      <td>Research &amp; Development</td>\n",
              "      <td>1.0</td>\n",
              "      <td>3.0</td>\n",
              "      <td>Medical</td>\n",
              "      <td>1.0</td>\n",
              "      <td>2.0</td>\n",
              "      <td>...</td>\n",
              "      <td>80.0</td>\n",
              "      <td>0.0</td>\n",
              "      <td>6.0</td>\n",
              "      <td>2.0</td>\n",
              "      <td>3.0</td>\n",
              "      <td>4.0</td>\n",
              "      <td>3.0</td>\n",
              "      <td>1.0</td>\n",
              "      <td>2.0</td>\n",
              "      <td>0</td>\n",
              "    </tr>\n",
              "    <tr>\n",
              "      <th>4</th>\n",
              "      <td>6506</td>\n",
              "      <td>44.0</td>\n",
              "      <td>1</td>\n",
              "      <td>170.0</td>\n",
              "      <td>Research &amp; Development</td>\n",
              "      <td>1.0</td>\n",
              "      <td>4.0</td>\n",
              "      <td>Life Sciences</td>\n",
              "      <td>1.0</td>\n",
              "      <td>2.0</td>\n",
              "      <td>...</td>\n",
              "      <td>80.0</td>\n",
              "      <td>1.0</td>\n",
              "      <td>10.0</td>\n",
              "      <td>5.0</td>\n",
              "      <td>3.0</td>\n",
              "      <td>9577.0</td>\n",
              "      <td>0.0</td>\n",
              "      <td>2.0</td>\n",
              "      <td>2.0</td>\n",
              "      <td>1</td>\n",
              "    </tr>\n",
              "  </tbody>\n",
              "</table>\n",
              "<p>5 rows × 33 columns</p>\n",
              "</div>\n",
              "      <button class=\"colab-df-convert\" onclick=\"convertToInteractive('df-dbc52c75-39a3-49c0-88d6-22f4b928d65a')\"\n",
              "              title=\"Convert this dataframe to an interactive table.\"\n",
              "              style=\"display:none;\">\n",
              "        \n",
              "  <svg xmlns=\"http://www.w3.org/2000/svg\" height=\"24px\"viewBox=\"0 0 24 24\"\n",
              "       width=\"24px\">\n",
              "    <path d=\"M0 0h24v24H0V0z\" fill=\"none\"/>\n",
              "    <path d=\"M18.56 5.44l.94 2.06.94-2.06 2.06-.94-2.06-.94-.94-2.06-.94 2.06-2.06.94zm-11 1L8.5 8.5l.94-2.06 2.06-.94-2.06-.94L8.5 2.5l-.94 2.06-2.06.94zm10 10l.94 2.06.94-2.06 2.06-.94-2.06-.94-.94-2.06-.94 2.06-2.06.94z\"/><path d=\"M17.41 7.96l-1.37-1.37c-.4-.4-.92-.59-1.43-.59-.52 0-1.04.2-1.43.59L10.3 9.45l-7.72 7.72c-.78.78-.78 2.05 0 2.83L4 21.41c.39.39.9.59 1.41.59.51 0 1.02-.2 1.41-.59l7.78-7.78 2.81-2.81c.8-.78.8-2.07 0-2.86zM5.41 20L4 18.59l7.72-7.72 1.47 1.35L5.41 20z\"/>\n",
              "  </svg>\n",
              "      </button>\n",
              "      \n",
              "  <style>\n",
              "    .colab-df-container {\n",
              "      display:flex;\n",
              "      flex-wrap:wrap;\n",
              "      gap: 12px;\n",
              "    }\n",
              "\n",
              "    .colab-df-convert {\n",
              "      background-color: #E8F0FE;\n",
              "      border: none;\n",
              "      border-radius: 50%;\n",
              "      cursor: pointer;\n",
              "      display: none;\n",
              "      fill: #1967D2;\n",
              "      height: 32px;\n",
              "      padding: 0 0 0 0;\n",
              "      width: 32px;\n",
              "    }\n",
              "\n",
              "    .colab-df-convert:hover {\n",
              "      background-color: #E2EBFA;\n",
              "      box-shadow: 0px 1px 2px rgba(60, 64, 67, 0.3), 0px 1px 3px 1px rgba(60, 64, 67, 0.15);\n",
              "      fill: #174EA6;\n",
              "    }\n",
              "\n",
              "    [theme=dark] .colab-df-convert {\n",
              "      background-color: #3B4455;\n",
              "      fill: #D2E3FC;\n",
              "    }\n",
              "\n",
              "    [theme=dark] .colab-df-convert:hover {\n",
              "      background-color: #434B5C;\n",
              "      box-shadow: 0px 1px 3px 1px rgba(0, 0, 0, 0.15);\n",
              "      filter: drop-shadow(0px 1px 2px rgba(0, 0, 0, 0.3));\n",
              "      fill: #FFFFFF;\n",
              "    }\n",
              "  </style>\n",
              "\n",
              "      <script>\n",
              "        const buttonEl =\n",
              "          document.querySelector('#df-dbc52c75-39a3-49c0-88d6-22f4b928d65a button.colab-df-convert');\n",
              "        buttonEl.style.display =\n",
              "          google.colab.kernel.accessAllowed ? 'block' : 'none';\n",
              "\n",
              "        async function convertToInteractive(key) {\n",
              "          const element = document.querySelector('#df-dbc52c75-39a3-49c0-88d6-22f4b928d65a');\n",
              "          const dataTable =\n",
              "            await google.colab.kernel.invokeFunction('convertToInteractive',\n",
              "                                                     [key], {});\n",
              "          if (!dataTable) return;\n",
              "\n",
              "          const docLinkHtml = 'Like what you see? Visit the ' +\n",
              "            '<a target=\"_blank\" href=https://colab.research.google.com/notebooks/data_table.ipynb>data table notebook</a>'\n",
              "            + ' to learn more about interactive tables.';\n",
              "          element.innerHTML = '';\n",
              "          dataTable['output_type'] = 'display_data';\n",
              "          await google.colab.output.renderOutput(dataTable, element);\n",
              "          const docLink = document.createElement('div');\n",
              "          docLink.innerHTML = docLinkHtml;\n",
              "          element.appendChild(docLink);\n",
              "        }\n",
              "      </script>\n",
              "    </div>\n",
              "  </div>\n",
              "  "
            ]
          },
          "metadata": {},
          "execution_count": 75
        }
      ]
    },
    {
      "cell_type": "code",
      "source": [
        "df_master_1['BusinessTravel'].value_counts()"
      ],
      "metadata": {
        "colab": {
          "base_uri": "https://localhost:8080/"
        },
        "id": "71eUT7bAfNUp",
        "outputId": "d499054e-341d-480e-bf44-b048ed4ed7c7"
      },
      "execution_count": null,
      "outputs": [
        {
          "output_type": "execute_result",
          "data": {
            "text/plain": [
              "1    3041\n",
              "2     816\n",
              "0     445\n",
              "Name: BusinessTravel, dtype: int64"
            ]
          },
          "metadata": {},
          "execution_count": 76
        }
      ]
    },
    {
      "cell_type": "code",
      "source": [
        "from sklearn.preprocessing import OneHotEncoder"
      ],
      "metadata": {
        "id": "jgVHocb3fnL-"
      },
      "execution_count": null,
      "outputs": []
    },
    {
      "cell_type": "code",
      "source": [
        "df_master_1['Department'].value_counts()"
      ],
      "metadata": {
        "colab": {
          "base_uri": "https://localhost:8080/"
        },
        "id": "1eC8EKcH02rI",
        "outputId": "0ef32f5f-207d-4312-f8c0-a39902128119"
      },
      "execution_count": null,
      "outputs": [
        {
          "output_type": "execute_result",
          "data": {
            "text/plain": [
              "Research & Development    2815\n",
              "Sales                     1305\n",
              "Human Resources            182\n",
              "Name: Department, dtype: int64"
            ]
          },
          "metadata": {},
          "execution_count": 78
        }
      ]
    },
    {
      "cell_type": "code",
      "source": [
        "df_master_1['Department_RD']=0\n",
        "df_master_1['Department_Sales']=0\n",
        "df_master_1['Department_HR']=0"
      ],
      "metadata": {
        "id": "DL9UxK4Z1MMp"
      },
      "execution_count": null,
      "outputs": []
    },
    {
      "cell_type": "code",
      "source": [
        "df_master_1.loc[df_master_1['Department']=='Research & Development', 'Department_RD']= 1\n",
        "df_master_1.loc[df_master_1['Department']=='Sales', 'Department_Sales']= 1\n",
        "df_master_1.loc[df_master_1['Department']=='Human Resources', 'Department_HR']= 1\n"
      ],
      "metadata": {
        "id": "eli-1M9F1sYO"
      },
      "execution_count": null,
      "outputs": []
    },
    {
      "cell_type": "code",
      "source": [
        "df_master_1.head(3)"
      ],
      "metadata": {
        "colab": {
          "base_uri": "https://localhost:8080/",
          "height": 254
        },
        "id": "L_RODd-HFHRo",
        "outputId": "e0593423-7c0e-43e3-e99c-e2200ab52e3a"
      },
      "execution_count": null,
      "outputs": [
        {
          "output_type": "execute_result",
          "data": {
            "text/plain": [
              "   EmployeeNumber   Age  BusinessTravel  DailyRate              Department  \\\n",
              "0             857  36.0               1      928.0                   Sales   \n",
              "1              68  44.0               1     1488.0                   Sales   \n",
              "2            6507  44.0               1      170.0  Research & Development   \n",
              "\n",
              "   DistanceFromHome  Education EducationField  EmployeeCount  \\\n",
              "0               1.0        2.0  Life Sciences            1.0   \n",
              "1               1.0        5.0      Marketing            1.0   \n",
              "2               1.0        4.0  Life Sciences            1.0   \n",
              "\n",
              "   EnvironmentSatisfaction  ...  TrainingTimesLastYear  WorkLifeBalance  \\\n",
              "0                      2.0  ...                    1.0              2.0   \n",
              "1                      2.0  ...                    2.0              2.0   \n",
              "2                      2.0  ...                    5.0              3.0   \n",
              "\n",
              "   YearsAtCompany  YearsInCurrentRole YearsSinceLastPromotion  \\\n",
              "0            18.0                14.0                     4.0   \n",
              "1             4.0                 3.0                     1.0   \n",
              "2          9577.0                 0.0                     2.0   \n",
              "\n",
              "   YearsWithCurrManager Attrition_y  Department_RD  Department_Sales  \\\n",
              "0                  11.0           0              0                 1   \n",
              "1                   3.0           0              0                 1   \n",
              "2                   2.0           1              1                 0   \n",
              "\n",
              "   Department_HR  \n",
              "0              0  \n",
              "1              0  \n",
              "2              0  \n",
              "\n",
              "[3 rows x 36 columns]"
            ],
            "text/html": [
              "\n",
              "  <div id=\"df-d38a06a1-5cd4-4a08-b1a9-ae8d674549a0\">\n",
              "    <div class=\"colab-df-container\">\n",
              "      <div>\n",
              "<style scoped>\n",
              "    .dataframe tbody tr th:only-of-type {\n",
              "        vertical-align: middle;\n",
              "    }\n",
              "\n",
              "    .dataframe tbody tr th {\n",
              "        vertical-align: top;\n",
              "    }\n",
              "\n",
              "    .dataframe thead th {\n",
              "        text-align: right;\n",
              "    }\n",
              "</style>\n",
              "<table border=\"1\" class=\"dataframe\">\n",
              "  <thead>\n",
              "    <tr style=\"text-align: right;\">\n",
              "      <th></th>\n",
              "      <th>EmployeeNumber</th>\n",
              "      <th>Age</th>\n",
              "      <th>BusinessTravel</th>\n",
              "      <th>DailyRate</th>\n",
              "      <th>Department</th>\n",
              "      <th>DistanceFromHome</th>\n",
              "      <th>Education</th>\n",
              "      <th>EducationField</th>\n",
              "      <th>EmployeeCount</th>\n",
              "      <th>EnvironmentSatisfaction</th>\n",
              "      <th>...</th>\n",
              "      <th>TrainingTimesLastYear</th>\n",
              "      <th>WorkLifeBalance</th>\n",
              "      <th>YearsAtCompany</th>\n",
              "      <th>YearsInCurrentRole</th>\n",
              "      <th>YearsSinceLastPromotion</th>\n",
              "      <th>YearsWithCurrManager</th>\n",
              "      <th>Attrition_y</th>\n",
              "      <th>Department_RD</th>\n",
              "      <th>Department_Sales</th>\n",
              "      <th>Department_HR</th>\n",
              "    </tr>\n",
              "  </thead>\n",
              "  <tbody>\n",
              "    <tr>\n",
              "      <th>0</th>\n",
              "      <td>857</td>\n",
              "      <td>36.0</td>\n",
              "      <td>1</td>\n",
              "      <td>928.0</td>\n",
              "      <td>Sales</td>\n",
              "      <td>1.0</td>\n",
              "      <td>2.0</td>\n",
              "      <td>Life Sciences</td>\n",
              "      <td>1.0</td>\n",
              "      <td>2.0</td>\n",
              "      <td>...</td>\n",
              "      <td>1.0</td>\n",
              "      <td>2.0</td>\n",
              "      <td>18.0</td>\n",
              "      <td>14.0</td>\n",
              "      <td>4.0</td>\n",
              "      <td>11.0</td>\n",
              "      <td>0</td>\n",
              "      <td>0</td>\n",
              "      <td>1</td>\n",
              "      <td>0</td>\n",
              "    </tr>\n",
              "    <tr>\n",
              "      <th>1</th>\n",
              "      <td>68</td>\n",
              "      <td>44.0</td>\n",
              "      <td>1</td>\n",
              "      <td>1488.0</td>\n",
              "      <td>Sales</td>\n",
              "      <td>1.0</td>\n",
              "      <td>5.0</td>\n",
              "      <td>Marketing</td>\n",
              "      <td>1.0</td>\n",
              "      <td>2.0</td>\n",
              "      <td>...</td>\n",
              "      <td>2.0</td>\n",
              "      <td>2.0</td>\n",
              "      <td>4.0</td>\n",
              "      <td>3.0</td>\n",
              "      <td>1.0</td>\n",
              "      <td>3.0</td>\n",
              "      <td>0</td>\n",
              "      <td>0</td>\n",
              "      <td>1</td>\n",
              "      <td>0</td>\n",
              "    </tr>\n",
              "    <tr>\n",
              "      <th>2</th>\n",
              "      <td>6507</td>\n",
              "      <td>44.0</td>\n",
              "      <td>1</td>\n",
              "      <td>170.0</td>\n",
              "      <td>Research &amp; Development</td>\n",
              "      <td>1.0</td>\n",
              "      <td>4.0</td>\n",
              "      <td>Life Sciences</td>\n",
              "      <td>1.0</td>\n",
              "      <td>2.0</td>\n",
              "      <td>...</td>\n",
              "      <td>5.0</td>\n",
              "      <td>3.0</td>\n",
              "      <td>9577.0</td>\n",
              "      <td>0.0</td>\n",
              "      <td>2.0</td>\n",
              "      <td>2.0</td>\n",
              "      <td>1</td>\n",
              "      <td>1</td>\n",
              "      <td>0</td>\n",
              "      <td>0</td>\n",
              "    </tr>\n",
              "  </tbody>\n",
              "</table>\n",
              "<p>3 rows × 36 columns</p>\n",
              "</div>\n",
              "      <button class=\"colab-df-convert\" onclick=\"convertToInteractive('df-d38a06a1-5cd4-4a08-b1a9-ae8d674549a0')\"\n",
              "              title=\"Convert this dataframe to an interactive table.\"\n",
              "              style=\"display:none;\">\n",
              "        \n",
              "  <svg xmlns=\"http://www.w3.org/2000/svg\" height=\"24px\"viewBox=\"0 0 24 24\"\n",
              "       width=\"24px\">\n",
              "    <path d=\"M0 0h24v24H0V0z\" fill=\"none\"/>\n",
              "    <path d=\"M18.56 5.44l.94 2.06.94-2.06 2.06-.94-2.06-.94-.94-2.06-.94 2.06-2.06.94zm-11 1L8.5 8.5l.94-2.06 2.06-.94-2.06-.94L8.5 2.5l-.94 2.06-2.06.94zm10 10l.94 2.06.94-2.06 2.06-.94-2.06-.94-.94-2.06-.94 2.06-2.06.94z\"/><path d=\"M17.41 7.96l-1.37-1.37c-.4-.4-.92-.59-1.43-.59-.52 0-1.04.2-1.43.59L10.3 9.45l-7.72 7.72c-.78.78-.78 2.05 0 2.83L4 21.41c.39.39.9.59 1.41.59.51 0 1.02-.2 1.41-.59l7.78-7.78 2.81-2.81c.8-.78.8-2.07 0-2.86zM5.41 20L4 18.59l7.72-7.72 1.47 1.35L5.41 20z\"/>\n",
              "  </svg>\n",
              "      </button>\n",
              "      \n",
              "  <style>\n",
              "    .colab-df-container {\n",
              "      display:flex;\n",
              "      flex-wrap:wrap;\n",
              "      gap: 12px;\n",
              "    }\n",
              "\n",
              "    .colab-df-convert {\n",
              "      background-color: #E8F0FE;\n",
              "      border: none;\n",
              "      border-radius: 50%;\n",
              "      cursor: pointer;\n",
              "      display: none;\n",
              "      fill: #1967D2;\n",
              "      height: 32px;\n",
              "      padding: 0 0 0 0;\n",
              "      width: 32px;\n",
              "    }\n",
              "\n",
              "    .colab-df-convert:hover {\n",
              "      background-color: #E2EBFA;\n",
              "      box-shadow: 0px 1px 2px rgba(60, 64, 67, 0.3), 0px 1px 3px 1px rgba(60, 64, 67, 0.15);\n",
              "      fill: #174EA6;\n",
              "    }\n",
              "\n",
              "    [theme=dark] .colab-df-convert {\n",
              "      background-color: #3B4455;\n",
              "      fill: #D2E3FC;\n",
              "    }\n",
              "\n",
              "    [theme=dark] .colab-df-convert:hover {\n",
              "      background-color: #434B5C;\n",
              "      box-shadow: 0px 1px 3px 1px rgba(0, 0, 0, 0.15);\n",
              "      filter: drop-shadow(0px 1px 2px rgba(0, 0, 0, 0.3));\n",
              "      fill: #FFFFFF;\n",
              "    }\n",
              "  </style>\n",
              "\n",
              "      <script>\n",
              "        const buttonEl =\n",
              "          document.querySelector('#df-d38a06a1-5cd4-4a08-b1a9-ae8d674549a0 button.colab-df-convert');\n",
              "        buttonEl.style.display =\n",
              "          google.colab.kernel.accessAllowed ? 'block' : 'none';\n",
              "\n",
              "        async function convertToInteractive(key) {\n",
              "          const element = document.querySelector('#df-d38a06a1-5cd4-4a08-b1a9-ae8d674549a0');\n",
              "          const dataTable =\n",
              "            await google.colab.kernel.invokeFunction('convertToInteractive',\n",
              "                                                     [key], {});\n",
              "          if (!dataTable) return;\n",
              "\n",
              "          const docLinkHtml = 'Like what you see? Visit the ' +\n",
              "            '<a target=\"_blank\" href=https://colab.research.google.com/notebooks/data_table.ipynb>data table notebook</a>'\n",
              "            + ' to learn more about interactive tables.';\n",
              "          element.innerHTML = '';\n",
              "          dataTable['output_type'] = 'display_data';\n",
              "          await google.colab.output.renderOutput(dataTable, element);\n",
              "          const docLink = document.createElement('div');\n",
              "          docLink.innerHTML = docLinkHtml;\n",
              "          element.appendChild(docLink);\n",
              "        }\n",
              "      </script>\n",
              "    </div>\n",
              "  </div>\n",
              "  "
            ]
          },
          "metadata": {},
          "execution_count": 81
        }
      ]
    },
    {
      "cell_type": "code",
      "source": [
        "df_master_1[['Department']]"
      ],
      "metadata": {
        "colab": {
          "base_uri": "https://localhost:8080/",
          "height": 424
        },
        "id": "dFA2g4WZFlZm",
        "outputId": "82b84899-ff61-43e8-8ed6-7ad597aad0b8"
      },
      "execution_count": null,
      "outputs": [
        {
          "output_type": "execute_result",
          "data": {
            "text/plain": [
              "                  Department\n",
              "0                      Sales\n",
              "1                      Sales\n",
              "2     Research & Development\n",
              "3     Research & Development\n",
              "4     Research & Development\n",
              "...                      ...\n",
              "4297  Research & Development\n",
              "4298  Research & Development\n",
              "4299  Research & Development\n",
              "4300  Research & Development\n",
              "4301  Research & Development\n",
              "\n",
              "[4302 rows x 1 columns]"
            ],
            "text/html": [
              "\n",
              "  <div id=\"df-a97ee89d-48d5-40ac-8251-05411267f1be\">\n",
              "    <div class=\"colab-df-container\">\n",
              "      <div>\n",
              "<style scoped>\n",
              "    .dataframe tbody tr th:only-of-type {\n",
              "        vertical-align: middle;\n",
              "    }\n",
              "\n",
              "    .dataframe tbody tr th {\n",
              "        vertical-align: top;\n",
              "    }\n",
              "\n",
              "    .dataframe thead th {\n",
              "        text-align: right;\n",
              "    }\n",
              "</style>\n",
              "<table border=\"1\" class=\"dataframe\">\n",
              "  <thead>\n",
              "    <tr style=\"text-align: right;\">\n",
              "      <th></th>\n",
              "      <th>Department</th>\n",
              "    </tr>\n",
              "  </thead>\n",
              "  <tbody>\n",
              "    <tr>\n",
              "      <th>0</th>\n",
              "      <td>Sales</td>\n",
              "    </tr>\n",
              "    <tr>\n",
              "      <th>1</th>\n",
              "      <td>Sales</td>\n",
              "    </tr>\n",
              "    <tr>\n",
              "      <th>2</th>\n",
              "      <td>Research &amp; Development</td>\n",
              "    </tr>\n",
              "    <tr>\n",
              "      <th>3</th>\n",
              "      <td>Research &amp; Development</td>\n",
              "    </tr>\n",
              "    <tr>\n",
              "      <th>4</th>\n",
              "      <td>Research &amp; Development</td>\n",
              "    </tr>\n",
              "    <tr>\n",
              "      <th>...</th>\n",
              "      <td>...</td>\n",
              "    </tr>\n",
              "    <tr>\n",
              "      <th>4297</th>\n",
              "      <td>Research &amp; Development</td>\n",
              "    </tr>\n",
              "    <tr>\n",
              "      <th>4298</th>\n",
              "      <td>Research &amp; Development</td>\n",
              "    </tr>\n",
              "    <tr>\n",
              "      <th>4299</th>\n",
              "      <td>Research &amp; Development</td>\n",
              "    </tr>\n",
              "    <tr>\n",
              "      <th>4300</th>\n",
              "      <td>Research &amp; Development</td>\n",
              "    </tr>\n",
              "    <tr>\n",
              "      <th>4301</th>\n",
              "      <td>Research &amp; Development</td>\n",
              "    </tr>\n",
              "  </tbody>\n",
              "</table>\n",
              "<p>4302 rows × 1 columns</p>\n",
              "</div>\n",
              "      <button class=\"colab-df-convert\" onclick=\"convertToInteractive('df-a97ee89d-48d5-40ac-8251-05411267f1be')\"\n",
              "              title=\"Convert this dataframe to an interactive table.\"\n",
              "              style=\"display:none;\">\n",
              "        \n",
              "  <svg xmlns=\"http://www.w3.org/2000/svg\" height=\"24px\"viewBox=\"0 0 24 24\"\n",
              "       width=\"24px\">\n",
              "    <path d=\"M0 0h24v24H0V0z\" fill=\"none\"/>\n",
              "    <path d=\"M18.56 5.44l.94 2.06.94-2.06 2.06-.94-2.06-.94-.94-2.06-.94 2.06-2.06.94zm-11 1L8.5 8.5l.94-2.06 2.06-.94-2.06-.94L8.5 2.5l-.94 2.06-2.06.94zm10 10l.94 2.06.94-2.06 2.06-.94-2.06-.94-.94-2.06-.94 2.06-2.06.94z\"/><path d=\"M17.41 7.96l-1.37-1.37c-.4-.4-.92-.59-1.43-.59-.52 0-1.04.2-1.43.59L10.3 9.45l-7.72 7.72c-.78.78-.78 2.05 0 2.83L4 21.41c.39.39.9.59 1.41.59.51 0 1.02-.2 1.41-.59l7.78-7.78 2.81-2.81c.8-.78.8-2.07 0-2.86zM5.41 20L4 18.59l7.72-7.72 1.47 1.35L5.41 20z\"/>\n",
              "  </svg>\n",
              "      </button>\n",
              "      \n",
              "  <style>\n",
              "    .colab-df-container {\n",
              "      display:flex;\n",
              "      flex-wrap:wrap;\n",
              "      gap: 12px;\n",
              "    }\n",
              "\n",
              "    .colab-df-convert {\n",
              "      background-color: #E8F0FE;\n",
              "      border: none;\n",
              "      border-radius: 50%;\n",
              "      cursor: pointer;\n",
              "      display: none;\n",
              "      fill: #1967D2;\n",
              "      height: 32px;\n",
              "      padding: 0 0 0 0;\n",
              "      width: 32px;\n",
              "    }\n",
              "\n",
              "    .colab-df-convert:hover {\n",
              "      background-color: #E2EBFA;\n",
              "      box-shadow: 0px 1px 2px rgba(60, 64, 67, 0.3), 0px 1px 3px 1px rgba(60, 64, 67, 0.15);\n",
              "      fill: #174EA6;\n",
              "    }\n",
              "\n",
              "    [theme=dark] .colab-df-convert {\n",
              "      background-color: #3B4455;\n",
              "      fill: #D2E3FC;\n",
              "    }\n",
              "\n",
              "    [theme=dark] .colab-df-convert:hover {\n",
              "      background-color: #434B5C;\n",
              "      box-shadow: 0px 1px 3px 1px rgba(0, 0, 0, 0.15);\n",
              "      filter: drop-shadow(0px 1px 2px rgba(0, 0, 0, 0.3));\n",
              "      fill: #FFFFFF;\n",
              "    }\n",
              "  </style>\n",
              "\n",
              "      <script>\n",
              "        const buttonEl =\n",
              "          document.querySelector('#df-a97ee89d-48d5-40ac-8251-05411267f1be button.colab-df-convert');\n",
              "        buttonEl.style.display =\n",
              "          google.colab.kernel.accessAllowed ? 'block' : 'none';\n",
              "\n",
              "        async function convertToInteractive(key) {\n",
              "          const element = document.querySelector('#df-a97ee89d-48d5-40ac-8251-05411267f1be');\n",
              "          const dataTable =\n",
              "            await google.colab.kernel.invokeFunction('convertToInteractive',\n",
              "                                                     [key], {});\n",
              "          if (!dataTable) return;\n",
              "\n",
              "          const docLinkHtml = 'Like what you see? Visit the ' +\n",
              "            '<a target=\"_blank\" href=https://colab.research.google.com/notebooks/data_table.ipynb>data table notebook</a>'\n",
              "            + ' to learn more about interactive tables.';\n",
              "          element.innerHTML = '';\n",
              "          dataTable['output_type'] = 'display_data';\n",
              "          await google.colab.output.renderOutput(dataTable, element);\n",
              "          const docLink = document.createElement('div');\n",
              "          docLink.innerHTML = docLinkHtml;\n",
              "          element.appendChild(docLink);\n",
              "        }\n",
              "      </script>\n",
              "    </div>\n",
              "  </div>\n",
              "  "
            ]
          },
          "metadata": {},
          "execution_count": 82
        }
      ]
    },
    {
      "cell_type": "code",
      "source": [
        "df_master_1=pd.get_dummies(data=df_master_1,columns=['EducationField','JobRole','MaritalStatus'])\n"
      ],
      "metadata": {
        "id": "XaBGAbPk3Mpn"
      },
      "execution_count": null,
      "outputs": []
    },
    {
      "cell_type": "code",
      "source": [
        "df_master_1= df_master_1.drop(columns=['Department'])"
      ],
      "metadata": {
        "id": "cbHHkuT7D8QD"
      },
      "execution_count": null,
      "outputs": []
    },
    {
      "cell_type": "markdown",
      "source": [
        "Finding IQR for 'Years at Company'"
      ],
      "metadata": {
        "id": "K4ObcoDHYrHN"
      }
    },
    {
      "cell_type": "code",
      "source": [
        "quantile1, quantile2,quantile3 = np.percentile(df_master_1['YearsAtCompany'],[25,50,75])\n",
        "print(quantile1,quantile2,quantile3)"
      ],
      "metadata": {
        "id": "XfIth6z_79fM",
        "colab": {
          "base_uri": "https://localhost:8080/"
        },
        "outputId": "f8617b99-6d9f-4b32-b52d-220f21917884"
      },
      "execution_count": null,
      "outputs": [
        {
          "output_type": "stream",
          "name": "stdout",
          "text": [
            "3.0 5.0 10.0\n"
          ]
        }
      ]
    },
    {
      "cell_type": "code",
      "source": [
        "iqr= quantile3- quantile1"
      ],
      "metadata": {
        "id": "1q2U0OEHY9qN"
      },
      "execution_count": null,
      "outputs": []
    },
    {
      "cell_type": "code",
      "source": [
        "iqr"
      ],
      "metadata": {
        "id": "cJo66XxUZYFd",
        "colab": {
          "base_uri": "https://localhost:8080/"
        },
        "outputId": "4dcd87dc-6b3d-421f-b659-c7523797f6be"
      },
      "execution_count": null,
      "outputs": [
        {
          "output_type": "execute_result",
          "data": {
            "text/plain": [
              "7.0"
            ]
          },
          "metadata": {},
          "execution_count": 87
        }
      ]
    },
    {
      "cell_type": "code",
      "source": [
        "median= quantile2"
      ],
      "metadata": {
        "id": "EIB8tG5gZa8e"
      },
      "execution_count": null,
      "outputs": []
    },
    {
      "cell_type": "code",
      "source": [
        "df_master_1['YearsAtCompany']=np.where(df_master_1['YearsAtCompany']>20.5,median,df_master_1['YearsAtCompany'])"
      ],
      "metadata": {
        "id": "tA7_-q_zaLiX"
      },
      "execution_count": null,
      "outputs": []
    },
    {
      "cell_type": "markdown",
      "source": [
        "Finding IQR for: \"Years in current Role\",\" Years since last promotion\", \"Years with current manager\", \" Total working years\"."
      ],
      "metadata": {
        "id": "-oSz_KPrFkWw"
      }
    },
    {
      "cell_type": "code",
      "source": [
        "quantile1, quantile2,quantile3 = np.percentile(df_master_1['YearsInCurrentRole'],[25,50,75])\n",
        "print(quantile1,quantile2,quantile3)"
      ],
      "metadata": {
        "colab": {
          "base_uri": "https://localhost:8080/"
        },
        "id": "T0va0_VLEQ2u",
        "outputId": "2ca7e094-70e0-4888-cfd1-9ff33a87058a"
      },
      "execution_count": null,
      "outputs": [
        {
          "output_type": "stream",
          "name": "stdout",
          "text": [
            "2.0 3.0 7.0\n"
          ]
        }
      ]
    },
    {
      "cell_type": "code",
      "source": [
        "iqr= quantile3- quantile1"
      ],
      "metadata": {
        "id": "Rhww23lHGseX"
      },
      "execution_count": null,
      "outputs": []
    },
    {
      "cell_type": "code",
      "source": [
        "iqr"
      ],
      "metadata": {
        "colab": {
          "base_uri": "https://localhost:8080/"
        },
        "id": "jb3C8Gm3Gtow",
        "outputId": "bdb9dd6f-4946-46f2-e139-31425f7099cb"
      },
      "execution_count": null,
      "outputs": [
        {
          "output_type": "execute_result",
          "data": {
            "text/plain": [
              "5.0"
            ]
          },
          "metadata": {},
          "execution_count": 92
        }
      ]
    },
    {
      "cell_type": "code",
      "source": [
        "median= quantile2"
      ],
      "metadata": {
        "id": "m6PwQysRGvm1"
      },
      "execution_count": null,
      "outputs": []
    },
    {
      "cell_type": "code",
      "source": [
        "df_master_1['YearsInCurrentRole']=np.where(df_master_1['YearsInCurrentRole']>15.5,median,df_master_1['YearsInCurrentRole'])"
      ],
      "metadata": {
        "id": "zCrRvolGGzjV"
      },
      "execution_count": null,
      "outputs": []
    },
    {
      "cell_type": "markdown",
      "source": [
        "\"Years since last promotion\""
      ],
      "metadata": {
        "id": "Ow8P-YYoLSw8"
      }
    },
    {
      "cell_type": "code",
      "source": [
        "quantile1, quantile2,quantile3 = np.percentile(df_master_1['YearsSinceLastPromotion'],[25,50,75])\n",
        "print(quantile1,quantile2,quantile3)"
      ],
      "metadata": {
        "colab": {
          "base_uri": "https://localhost:8080/"
        },
        "id": "xtnTnBCzLZRJ",
        "outputId": "15bdd2d7-09e2-4372-9bdd-b32d0d4fdbbf"
      },
      "execution_count": null,
      "outputs": [
        {
          "output_type": "stream",
          "name": "stdout",
          "text": [
            "0.0 1.0 4.0\n"
          ]
        }
      ]
    },
    {
      "cell_type": "code",
      "source": [
        "iqr= quantile3- quantile1"
      ],
      "metadata": {
        "id": "ltus8ntBL41y"
      },
      "execution_count": null,
      "outputs": []
    },
    {
      "cell_type": "code",
      "source": [
        "iqr"
      ],
      "metadata": {
        "colab": {
          "base_uri": "https://localhost:8080/"
        },
        "id": "RpfVjn7qNwjX",
        "outputId": "5e69560e-9095-4e10-bdf8-9cd12b277754"
      },
      "execution_count": null,
      "outputs": [
        {
          "output_type": "execute_result",
          "data": {
            "text/plain": [
              "4.0"
            ]
          },
          "metadata": {},
          "execution_count": 97
        }
      ]
    },
    {
      "cell_type": "code",
      "source": [
        "median= quantile2"
      ],
      "metadata": {
        "id": "q7QrqfyTNzAl"
      },
      "execution_count": null,
      "outputs": []
    },
    {
      "cell_type": "code",
      "source": [
        "df_master_1['YearsSinceLastPromotion']=np.where(df_master_1['YearsSinceLastPromotion']>15.5,median,df_master_1['YearsSinceLastPromotion'])"
      ],
      "metadata": {
        "id": "rzgex5A6N3A1"
      },
      "execution_count": null,
      "outputs": []
    },
    {
      "cell_type": "markdown",
      "source": [
        "\"Years with Current Manager\""
      ],
      "metadata": {
        "id": "XJjQ_9qiOgEz"
      }
    },
    {
      "cell_type": "code",
      "source": [
        "quantile1, quantile2,quantile3 = np.percentile(df_master_1['YearsWithCurrManager'],[25,50,75])\n",
        "print(quantile1,quantile2,quantile3)"
      ],
      "metadata": {
        "colab": {
          "base_uri": "https://localhost:8080/"
        },
        "id": "NgvzpRHCOoY_",
        "outputId": "8f90ccf0-049b-4355-90ea-c84889c0b585"
      },
      "execution_count": null,
      "outputs": [
        {
          "output_type": "stream",
          "name": "stdout",
          "text": [
            "2.0 3.0 7.0\n"
          ]
        }
      ]
    },
    {
      "cell_type": "code",
      "source": [
        "iqr= quantile3-quantile1"
      ],
      "metadata": {
        "id": "QU8ZrqzAPJrp"
      },
      "execution_count": null,
      "outputs": []
    },
    {
      "cell_type": "code",
      "source": [
        "iqr"
      ],
      "metadata": {
        "colab": {
          "base_uri": "https://localhost:8080/"
        },
        "id": "MhqbcM4rPKsq",
        "outputId": "c6127e7c-6a6c-4431-a060-cea093beb9ec"
      },
      "execution_count": null,
      "outputs": [
        {
          "output_type": "execute_result",
          "data": {
            "text/plain": [
              "5.0"
            ]
          },
          "metadata": {},
          "execution_count": 102
        }
      ]
    },
    {
      "cell_type": "code",
      "source": [
        "median=quantile2"
      ],
      "metadata": {
        "id": "FWTfPqe_PKbp"
      },
      "execution_count": null,
      "outputs": []
    },
    {
      "cell_type": "code",
      "source": [
        "df_master_1['YearsWithCurrManager']=np.where(df_master_1['YearsWithCurrManager']>15.5,median,df_master_1['YearsWithCurrManager'])"
      ],
      "metadata": {
        "id": "zv0rZi-zPJ_h"
      },
      "execution_count": null,
      "outputs": []
    },
    {
      "cell_type": "markdown",
      "source": [
        "\"Total Working Years\""
      ],
      "metadata": {
        "id": "aaNgLaRCRe9b"
      }
    },
    {
      "cell_type": "code",
      "source": [
        "quantile1, quantile2,quantile3 = np.percentile(df_master_1['TotalWorkingYears'],[25,50,75])\n",
        "print(quantile1,quantile2,quantile3)"
      ],
      "metadata": {
        "colab": {
          "base_uri": "https://localhost:8080/"
        },
        "id": "olIkXwdiRehc",
        "outputId": "5c4960c9-0fb6-4941-c993-c41440f74b1a"
      },
      "execution_count": null,
      "outputs": [
        {
          "output_type": "stream",
          "name": "stdout",
          "text": [
            "6.0 10.0 17.0\n"
          ]
        }
      ]
    },
    {
      "cell_type": "code",
      "source": [
        "iqr= quantile3-quantile1"
      ],
      "metadata": {
        "id": "K8F95vfRRvjL"
      },
      "execution_count": null,
      "outputs": []
    },
    {
      "cell_type": "code",
      "source": [
        "iqr"
      ],
      "metadata": {
        "colab": {
          "base_uri": "https://localhost:8080/"
        },
        "id": "JWCFw1TBSfGR",
        "outputId": "ae28ab45-de83-42b1-bdf0-9e88eaac29ad"
      },
      "execution_count": null,
      "outputs": [
        {
          "output_type": "execute_result",
          "data": {
            "text/plain": [
              "11.0"
            ]
          },
          "metadata": {},
          "execution_count": 107
        }
      ]
    },
    {
      "cell_type": "code",
      "source": [
        "median=quantile2"
      ],
      "metadata": {
        "id": "GLsOSmoOShy5"
      },
      "execution_count": null,
      "outputs": []
    },
    {
      "cell_type": "code",
      "source": [
        "df_master_1['TotalWorkingYears']=np.where(df_master_1['TotalWorkingYears']>37.5,median,df_master_1['TotalWorkingYears'])"
      ],
      "metadata": {
        "id": "kKSAc1egUfpU"
      },
      "execution_count": null,
      "outputs": []
    },
    {
      "cell_type": "markdown",
      "source": [
        "Modelling"
      ],
      "metadata": {
        "id": "MrYkraYjGapC"
      }
    },
    {
      "cell_type": "code",
      "source": [
        "# y_rand= pd.DataFrame(np.random.randint(0,2,dataset.shape[0]))"
      ],
      "metadata": {
        "id": "dpOTUV5tGdBx"
      },
      "execution_count": null,
      "outputs": []
    },
    {
      "cell_type": "code",
      "source": [
        "df_master_1['Attrition_y'].value_counts()"
      ],
      "metadata": {
        "colab": {
          "base_uri": "https://localhost:8080/"
        },
        "id": "YIKcmf5OIDQs",
        "outputId": "90e56a62-6833-4ca3-96fb-d5a9cbfd08bb"
      },
      "execution_count": null,
      "outputs": [
        {
          "output_type": "execute_result",
          "data": {
            "text/plain": [
              "1    2222\n",
              "0    2080\n",
              "Name: Attrition_y, dtype: int64"
            ]
          },
          "metadata": {},
          "execution_count": 111
        }
      ]
    },
    {
      "cell_type": "code",
      "source": [
        "X= df_master_1.drop(columns=['Attrition_y','EmployeeNumber'],axis=1)\n",
        "y= df_master_1['Attrition_y']"
      ],
      "metadata": {
        "id": "I1O4SzKBIDMp"
      },
      "execution_count": null,
      "outputs": []
    },
    {
      "cell_type": "code",
      "source": [
        "X.shape, y.shape"
      ],
      "metadata": {
        "colab": {
          "base_uri": "https://localhost:8080/"
        },
        "id": "I1UeorB5JeLU",
        "outputId": "41265513-d9e0-4e3e-c1fd-108945adb6fe"
      },
      "execution_count": null,
      "outputs": [
        {
          "output_type": "execute_result",
          "data": {
            "text/plain": [
              "((4302, 48), (4302,))"
            ]
          },
          "metadata": {},
          "execution_count": 113
        }
      ]
    },
    {
      "cell_type": "code",
      "source": [
        "X_columns= X.columns"
      ],
      "metadata": {
        "id": "UiSV7yAfKvpS"
      },
      "execution_count": null,
      "outputs": []
    },
    {
      "cell_type": "code",
      "source": [
        "from sklearn.preprocessing import MinMaxScaler"
      ],
      "metadata": {
        "id": "rO0j8pMQJ1tP"
      },
      "execution_count": null,
      "outputs": []
    },
    {
      "cell_type": "code",
      "source": [
        "min_max_scaler= MinMaxScaler()"
      ],
      "metadata": {
        "id": "EKwgFx85KuLA"
      },
      "execution_count": null,
      "outputs": []
    },
    {
      "cell_type": "code",
      "source": [
        "X= pd.DataFrame(min_max_scaler.fit_transform(X), columns= X_columns)\n",
        "X.describe()"
      ],
      "metadata": {
        "colab": {
          "base_uri": "https://localhost:8080/",
          "height": 411
        },
        "id": "0bsV0-IbLNaj",
        "outputId": "b1444ffd-8d00-44ed-df37-145a05d79369"
      },
      "execution_count": null,
      "outputs": [
        {
          "output_type": "execute_result",
          "data": {
            "text/plain": [
              "               Age  BusinessTravel    DailyRate  DistanceFromHome  \\\n",
              "count  4302.000000     4302.000000  4302.000000       4302.000000   \n",
              "mean      0.445214        0.543119     0.500246          0.290895   \n",
              "std       0.208947        0.267277     0.290376          0.279490   \n",
              "min       0.000000        0.000000     0.000000          0.000000   \n",
              "25%       0.309524        0.500000     0.254116          0.035714   \n",
              "50%       0.428571        0.500000     0.502505          0.250000   \n",
              "75%       0.571429        0.500000     0.758769          0.428571   \n",
              "max       1.000000        1.000000     1.000000          1.000000   \n",
              "\n",
              "         Education  EmployeeCount  EnvironmentSatisfaction       Gender  \\\n",
              "count  4302.000000         4302.0              4302.000000  4302.000000   \n",
              "mean      0.476697            0.0                 0.573222     0.603208   \n",
              "std       0.256615            0.0                 0.364111     0.489289   \n",
              "min       0.000000            0.0                 0.000000     0.000000   \n",
              "25%       0.250000            0.0                 0.333333     0.000000   \n",
              "50%       0.500000            0.0                 0.666667     1.000000   \n",
              "75%       0.750000            0.0                 1.000000     1.000000   \n",
              "max       1.000000            0.0                 1.000000     1.000000   \n",
              "\n",
              "        HourlyRate  JobInvolvement  ...  JobRole_Laboratory Technician  \\\n",
              "count  4302.000000     4302.000000  ...                    4302.000000   \n",
              "mean      0.514807        0.580505  ...                       0.175500   \n",
              "std       0.289976        0.237126  ...                       0.380438   \n",
              "min       0.000000        0.000000  ...                       0.000000   \n",
              "25%       0.257143        0.333333  ...                       0.000000   \n",
              "50%       0.514286        0.666667  ...                       0.000000   \n",
              "75%       0.771429        0.666667  ...                       0.000000   \n",
              "max       1.000000        1.000000  ...                       1.000000   \n",
              "\n",
              "       JobRole_Manager  JobRole_Manufacturing Director  \\\n",
              "count      4302.000000                     4302.000000   \n",
              "mean          0.066713                        0.096932   \n",
              "std           0.249554                        0.295899   \n",
              "min           0.000000                        0.000000   \n",
              "25%           0.000000                        0.000000   \n",
              "50%           0.000000                        0.000000   \n",
              "75%           0.000000                        0.000000   \n",
              "max           1.000000                        1.000000   \n",
              "\n",
              "       JobRole_Research Director  JobRole_Research Scientist  \\\n",
              "count                4302.000000                 4302.000000   \n",
              "mean                    0.053231                    0.205253   \n",
              "std                     0.224520                    0.403934   \n",
              "min                     0.000000                    0.000000   \n",
              "25%                     0.000000                    0.000000   \n",
              "50%                     0.000000                    0.000000   \n",
              "75%                     0.000000                    0.000000   \n",
              "max                     1.000000                    1.000000   \n",
              "\n",
              "       JobRole_Sales Executive  JobRole_Sales Representative  \\\n",
              "count              4302.000000                   4302.000000   \n",
              "mean                  0.220828                      0.057415   \n",
              "std                   0.414853                      0.232661   \n",
              "min                   0.000000                      0.000000   \n",
              "25%                   0.000000                      0.000000   \n",
              "50%                   0.000000                      0.000000   \n",
              "75%                   0.000000                      0.000000   \n",
              "max                   1.000000                      1.000000   \n",
              "\n",
              "       MaritalStatus_Divorced  MaritalStatus_Married  MaritalStatus_Single  \n",
              "count             4302.000000            4302.000000           4302.000000  \n",
              "mean                 0.212924               0.466062              0.321013  \n",
              "std                  0.409422               0.498905              0.466920  \n",
              "min                  0.000000               0.000000              0.000000  \n",
              "25%                  0.000000               0.000000              0.000000  \n",
              "50%                  0.000000               0.000000              0.000000  \n",
              "75%                  0.000000               1.000000              1.000000  \n",
              "max                  1.000000               1.000000              1.000000  \n",
              "\n",
              "[8 rows x 48 columns]"
            ],
            "text/html": [
              "\n",
              "  <div id=\"df-16c42a3a-a29f-4460-882e-5327f4336c53\">\n",
              "    <div class=\"colab-df-container\">\n",
              "      <div>\n",
              "<style scoped>\n",
              "    .dataframe tbody tr th:only-of-type {\n",
              "        vertical-align: middle;\n",
              "    }\n",
              "\n",
              "    .dataframe tbody tr th {\n",
              "        vertical-align: top;\n",
              "    }\n",
              "\n",
              "    .dataframe thead th {\n",
              "        text-align: right;\n",
              "    }\n",
              "</style>\n",
              "<table border=\"1\" class=\"dataframe\">\n",
              "  <thead>\n",
              "    <tr style=\"text-align: right;\">\n",
              "      <th></th>\n",
              "      <th>Age</th>\n",
              "      <th>BusinessTravel</th>\n",
              "      <th>DailyRate</th>\n",
              "      <th>DistanceFromHome</th>\n",
              "      <th>Education</th>\n",
              "      <th>EmployeeCount</th>\n",
              "      <th>EnvironmentSatisfaction</th>\n",
              "      <th>Gender</th>\n",
              "      <th>HourlyRate</th>\n",
              "      <th>JobInvolvement</th>\n",
              "      <th>...</th>\n",
              "      <th>JobRole_Laboratory Technician</th>\n",
              "      <th>JobRole_Manager</th>\n",
              "      <th>JobRole_Manufacturing Director</th>\n",
              "      <th>JobRole_Research Director</th>\n",
              "      <th>JobRole_Research Scientist</th>\n",
              "      <th>JobRole_Sales Executive</th>\n",
              "      <th>JobRole_Sales Representative</th>\n",
              "      <th>MaritalStatus_Divorced</th>\n",
              "      <th>MaritalStatus_Married</th>\n",
              "      <th>MaritalStatus_Single</th>\n",
              "    </tr>\n",
              "  </thead>\n",
              "  <tbody>\n",
              "    <tr>\n",
              "      <th>count</th>\n",
              "      <td>4302.000000</td>\n",
              "      <td>4302.000000</td>\n",
              "      <td>4302.000000</td>\n",
              "      <td>4302.000000</td>\n",
              "      <td>4302.000000</td>\n",
              "      <td>4302.0</td>\n",
              "      <td>4302.000000</td>\n",
              "      <td>4302.000000</td>\n",
              "      <td>4302.000000</td>\n",
              "      <td>4302.000000</td>\n",
              "      <td>...</td>\n",
              "      <td>4302.000000</td>\n",
              "      <td>4302.000000</td>\n",
              "      <td>4302.000000</td>\n",
              "      <td>4302.000000</td>\n",
              "      <td>4302.000000</td>\n",
              "      <td>4302.000000</td>\n",
              "      <td>4302.000000</td>\n",
              "      <td>4302.000000</td>\n",
              "      <td>4302.000000</td>\n",
              "      <td>4302.000000</td>\n",
              "    </tr>\n",
              "    <tr>\n",
              "      <th>mean</th>\n",
              "      <td>0.445214</td>\n",
              "      <td>0.543119</td>\n",
              "      <td>0.500246</td>\n",
              "      <td>0.290895</td>\n",
              "      <td>0.476697</td>\n",
              "      <td>0.0</td>\n",
              "      <td>0.573222</td>\n",
              "      <td>0.603208</td>\n",
              "      <td>0.514807</td>\n",
              "      <td>0.580505</td>\n",
              "      <td>...</td>\n",
              "      <td>0.175500</td>\n",
              "      <td>0.066713</td>\n",
              "      <td>0.096932</td>\n",
              "      <td>0.053231</td>\n",
              "      <td>0.205253</td>\n",
              "      <td>0.220828</td>\n",
              "      <td>0.057415</td>\n",
              "      <td>0.212924</td>\n",
              "      <td>0.466062</td>\n",
              "      <td>0.321013</td>\n",
              "    </tr>\n",
              "    <tr>\n",
              "      <th>std</th>\n",
              "      <td>0.208947</td>\n",
              "      <td>0.267277</td>\n",
              "      <td>0.290376</td>\n",
              "      <td>0.279490</td>\n",
              "      <td>0.256615</td>\n",
              "      <td>0.0</td>\n",
              "      <td>0.364111</td>\n",
              "      <td>0.489289</td>\n",
              "      <td>0.289976</td>\n",
              "      <td>0.237126</td>\n",
              "      <td>...</td>\n",
              "      <td>0.380438</td>\n",
              "      <td>0.249554</td>\n",
              "      <td>0.295899</td>\n",
              "      <td>0.224520</td>\n",
              "      <td>0.403934</td>\n",
              "      <td>0.414853</td>\n",
              "      <td>0.232661</td>\n",
              "      <td>0.409422</td>\n",
              "      <td>0.498905</td>\n",
              "      <td>0.466920</td>\n",
              "    </tr>\n",
              "    <tr>\n",
              "      <th>min</th>\n",
              "      <td>0.000000</td>\n",
              "      <td>0.000000</td>\n",
              "      <td>0.000000</td>\n",
              "      <td>0.000000</td>\n",
              "      <td>0.000000</td>\n",
              "      <td>0.0</td>\n",
              "      <td>0.000000</td>\n",
              "      <td>0.000000</td>\n",
              "      <td>0.000000</td>\n",
              "      <td>0.000000</td>\n",
              "      <td>...</td>\n",
              "      <td>0.000000</td>\n",
              "      <td>0.000000</td>\n",
              "      <td>0.000000</td>\n",
              "      <td>0.000000</td>\n",
              "      <td>0.000000</td>\n",
              "      <td>0.000000</td>\n",
              "      <td>0.000000</td>\n",
              "      <td>0.000000</td>\n",
              "      <td>0.000000</td>\n",
              "      <td>0.000000</td>\n",
              "    </tr>\n",
              "    <tr>\n",
              "      <th>25%</th>\n",
              "      <td>0.309524</td>\n",
              "      <td>0.500000</td>\n",
              "      <td>0.254116</td>\n",
              "      <td>0.035714</td>\n",
              "      <td>0.250000</td>\n",
              "      <td>0.0</td>\n",
              "      <td>0.333333</td>\n",
              "      <td>0.000000</td>\n",
              "      <td>0.257143</td>\n",
              "      <td>0.333333</td>\n",
              "      <td>...</td>\n",
              "      <td>0.000000</td>\n",
              "      <td>0.000000</td>\n",
              "      <td>0.000000</td>\n",
              "      <td>0.000000</td>\n",
              "      <td>0.000000</td>\n",
              "      <td>0.000000</td>\n",
              "      <td>0.000000</td>\n",
              "      <td>0.000000</td>\n",
              "      <td>0.000000</td>\n",
              "      <td>0.000000</td>\n",
              "    </tr>\n",
              "    <tr>\n",
              "      <th>50%</th>\n",
              "      <td>0.428571</td>\n",
              "      <td>0.500000</td>\n",
              "      <td>0.502505</td>\n",
              "      <td>0.250000</td>\n",
              "      <td>0.500000</td>\n",
              "      <td>0.0</td>\n",
              "      <td>0.666667</td>\n",
              "      <td>1.000000</td>\n",
              "      <td>0.514286</td>\n",
              "      <td>0.666667</td>\n",
              "      <td>...</td>\n",
              "      <td>0.000000</td>\n",
              "      <td>0.000000</td>\n",
              "      <td>0.000000</td>\n",
              "      <td>0.000000</td>\n",
              "      <td>0.000000</td>\n",
              "      <td>0.000000</td>\n",
              "      <td>0.000000</td>\n",
              "      <td>0.000000</td>\n",
              "      <td>0.000000</td>\n",
              "      <td>0.000000</td>\n",
              "    </tr>\n",
              "    <tr>\n",
              "      <th>75%</th>\n",
              "      <td>0.571429</td>\n",
              "      <td>0.500000</td>\n",
              "      <td>0.758769</td>\n",
              "      <td>0.428571</td>\n",
              "      <td>0.750000</td>\n",
              "      <td>0.0</td>\n",
              "      <td>1.000000</td>\n",
              "      <td>1.000000</td>\n",
              "      <td>0.771429</td>\n",
              "      <td>0.666667</td>\n",
              "      <td>...</td>\n",
              "      <td>0.000000</td>\n",
              "      <td>0.000000</td>\n",
              "      <td>0.000000</td>\n",
              "      <td>0.000000</td>\n",
              "      <td>0.000000</td>\n",
              "      <td>0.000000</td>\n",
              "      <td>0.000000</td>\n",
              "      <td>0.000000</td>\n",
              "      <td>1.000000</td>\n",
              "      <td>1.000000</td>\n",
              "    </tr>\n",
              "    <tr>\n",
              "      <th>max</th>\n",
              "      <td>1.000000</td>\n",
              "      <td>1.000000</td>\n",
              "      <td>1.000000</td>\n",
              "      <td>1.000000</td>\n",
              "      <td>1.000000</td>\n",
              "      <td>0.0</td>\n",
              "      <td>1.000000</td>\n",
              "      <td>1.000000</td>\n",
              "      <td>1.000000</td>\n",
              "      <td>1.000000</td>\n",
              "      <td>...</td>\n",
              "      <td>1.000000</td>\n",
              "      <td>1.000000</td>\n",
              "      <td>1.000000</td>\n",
              "      <td>1.000000</td>\n",
              "      <td>1.000000</td>\n",
              "      <td>1.000000</td>\n",
              "      <td>1.000000</td>\n",
              "      <td>1.000000</td>\n",
              "      <td>1.000000</td>\n",
              "      <td>1.000000</td>\n",
              "    </tr>\n",
              "  </tbody>\n",
              "</table>\n",
              "<p>8 rows × 48 columns</p>\n",
              "</div>\n",
              "      <button class=\"colab-df-convert\" onclick=\"convertToInteractive('df-16c42a3a-a29f-4460-882e-5327f4336c53')\"\n",
              "              title=\"Convert this dataframe to an interactive table.\"\n",
              "              style=\"display:none;\">\n",
              "        \n",
              "  <svg xmlns=\"http://www.w3.org/2000/svg\" height=\"24px\"viewBox=\"0 0 24 24\"\n",
              "       width=\"24px\">\n",
              "    <path d=\"M0 0h24v24H0V0z\" fill=\"none\"/>\n",
              "    <path d=\"M18.56 5.44l.94 2.06.94-2.06 2.06-.94-2.06-.94-.94-2.06-.94 2.06-2.06.94zm-11 1L8.5 8.5l.94-2.06 2.06-.94-2.06-.94L8.5 2.5l-.94 2.06-2.06.94zm10 10l.94 2.06.94-2.06 2.06-.94-2.06-.94-.94-2.06-.94 2.06-2.06.94z\"/><path d=\"M17.41 7.96l-1.37-1.37c-.4-.4-.92-.59-1.43-.59-.52 0-1.04.2-1.43.59L10.3 9.45l-7.72 7.72c-.78.78-.78 2.05 0 2.83L4 21.41c.39.39.9.59 1.41.59.51 0 1.02-.2 1.41-.59l7.78-7.78 2.81-2.81c.8-.78.8-2.07 0-2.86zM5.41 20L4 18.59l7.72-7.72 1.47 1.35L5.41 20z\"/>\n",
              "  </svg>\n",
              "      </button>\n",
              "      \n",
              "  <style>\n",
              "    .colab-df-container {\n",
              "      display:flex;\n",
              "      flex-wrap:wrap;\n",
              "      gap: 12px;\n",
              "    }\n",
              "\n",
              "    .colab-df-convert {\n",
              "      background-color: #E8F0FE;\n",
              "      border: none;\n",
              "      border-radius: 50%;\n",
              "      cursor: pointer;\n",
              "      display: none;\n",
              "      fill: #1967D2;\n",
              "      height: 32px;\n",
              "      padding: 0 0 0 0;\n",
              "      width: 32px;\n",
              "    }\n",
              "\n",
              "    .colab-df-convert:hover {\n",
              "      background-color: #E2EBFA;\n",
              "      box-shadow: 0px 1px 2px rgba(60, 64, 67, 0.3), 0px 1px 3px 1px rgba(60, 64, 67, 0.15);\n",
              "      fill: #174EA6;\n",
              "    }\n",
              "\n",
              "    [theme=dark] .colab-df-convert {\n",
              "      background-color: #3B4455;\n",
              "      fill: #D2E3FC;\n",
              "    }\n",
              "\n",
              "    [theme=dark] .colab-df-convert:hover {\n",
              "      background-color: #434B5C;\n",
              "      box-shadow: 0px 1px 3px 1px rgba(0, 0, 0, 0.15);\n",
              "      filter: drop-shadow(0px 1px 2px rgba(0, 0, 0, 0.3));\n",
              "      fill: #FFFFFF;\n",
              "    }\n",
              "  </style>\n",
              "\n",
              "      <script>\n",
              "        const buttonEl =\n",
              "          document.querySelector('#df-16c42a3a-a29f-4460-882e-5327f4336c53 button.colab-df-convert');\n",
              "        buttonEl.style.display =\n",
              "          google.colab.kernel.accessAllowed ? 'block' : 'none';\n",
              "\n",
              "        async function convertToInteractive(key) {\n",
              "          const element = document.querySelector('#df-16c42a3a-a29f-4460-882e-5327f4336c53');\n",
              "          const dataTable =\n",
              "            await google.colab.kernel.invokeFunction('convertToInteractive',\n",
              "                                                     [key], {});\n",
              "          if (!dataTable) return;\n",
              "\n",
              "          const docLinkHtml = 'Like what you see? Visit the ' +\n",
              "            '<a target=\"_blank\" href=https://colab.research.google.com/notebooks/data_table.ipynb>data table notebook</a>'\n",
              "            + ' to learn more about interactive tables.';\n",
              "          element.innerHTML = '';\n",
              "          dataTable['output_type'] = 'display_data';\n",
              "          await google.colab.output.renderOutput(dataTable, element);\n",
              "          const docLink = document.createElement('div');\n",
              "          docLink.innerHTML = docLinkHtml;\n",
              "          element.appendChild(docLink);\n",
              "        }\n",
              "      </script>\n",
              "    </div>\n",
              "  </div>\n",
              "  "
            ]
          },
          "metadata": {},
          "execution_count": 117
        }
      ]
    },
    {
      "cell_type": "code",
      "source": [
        "from sklearn.model_selection import train_test_split\n",
        "X_train,X_test,y_train,y_test= train_test_split(X,y,test_size=0.25,stratify=y,random_state=123)"
      ],
      "metadata": {
        "id": "XfbucLFBIDHA"
      },
      "execution_count": null,
      "outputs": []
    },
    {
      "cell_type": "code",
      "source": [
        "X_train.shape, X_test.shape, y_train.shape,y_test.shape"
      ],
      "metadata": {
        "colab": {
          "base_uri": "https://localhost:8080/"
        },
        "id": "dSOfK1brIDE_",
        "outputId": "13f67985-93b0-4dd1-b110-9ae7530d4174"
      },
      "execution_count": null,
      "outputs": [
        {
          "output_type": "execute_result",
          "data": {
            "text/plain": [
              "((3226, 48), (1076, 48), (3226,), (1076,))"
            ]
          },
          "metadata": {},
          "execution_count": 119
        }
      ]
    },
    {
      "cell_type": "markdown",
      "source": [
        "Create classification models"
      ],
      "metadata": {
        "id": "DGyho-ZDMXK3"
      }
    },
    {
      "cell_type": "code",
      "source": [
        "#1. Logistic Regression"
      ],
      "metadata": {
        "id": "sqSWltl0IDCc"
      },
      "execution_count": null,
      "outputs": []
    },
    {
      "cell_type": "code",
      "source": [
        "from sklearn.linear_model import LogisticRegression\n",
        "from sklearn.metrics import classification_report,confusion_matrix,accuracy_score"
      ],
      "metadata": {
        "id": "msmdzR6zIC_r"
      },
      "execution_count": null,
      "outputs": []
    },
    {
      "cell_type": "code",
      "source": [
        "log_regression= LogisticRegression()\n",
        "log_regression. fit(X_train,y_train)"
      ],
      "metadata": {
        "colab": {
          "base_uri": "https://localhost:8080/"
        },
        "id": "hqbfq094M9-O",
        "outputId": "dccf3e08-55f8-4bda-f5f4-c6cac5e94cea"
      },
      "execution_count": null,
      "outputs": [
        {
          "output_type": "execute_result",
          "data": {
            "text/plain": [
              "LogisticRegression()"
            ]
          },
          "metadata": {},
          "execution_count": 121
        }
      ]
    },
    {
      "cell_type": "code",
      "source": [
        "y_pred_lr= log_regression.predict(X_test)"
      ],
      "metadata": {
        "id": "5OTuAThMN9zz"
      },
      "execution_count": null,
      "outputs": []
    },
    {
      "cell_type": "code",
      "source": [
        "accuracy_score(y_test,y_pred_lr)"
      ],
      "metadata": {
        "colab": {
          "base_uri": "https://localhost:8080/"
        },
        "id": "Fdw4xNWuOjvk",
        "outputId": "0f79d2b1-8cac-4622-8a88-8d8d417f0832"
      },
      "execution_count": null,
      "outputs": [
        {
          "output_type": "execute_result",
          "data": {
            "text/plain": [
              "0.5074349442379182"
            ]
          },
          "metadata": {},
          "execution_count": 123
        }
      ]
    },
    {
      "cell_type": "markdown",
      "source": [
        "Random Forest"
      ],
      "metadata": {
        "id": "L9DTr4lRn3OF"
      }
    },
    {
      "cell_type": "code",
      "source": [
        "from sklearn.ensemble import RandomForestClassifier\n",
        "random_forest = RandomForestClassifier(n_estimators=100, max_depth=50, random_state=123)"
      ],
      "metadata": {
        "id": "bDpKb5zngmQl"
      },
      "execution_count": null,
      "outputs": []
    },
    {
      "cell_type": "code",
      "source": [
        "from sklearn.feature_selection import SelectFromModel "
      ],
      "metadata": {
        "id": "vC3_t_99uq0o"
      },
      "execution_count": null,
      "outputs": []
    },
    {
      "cell_type": "code",
      "source": [
        "sel = SelectFromModel(RandomForestClassifier(n_estimators=100))\n",
        "sel.fit(X_train,y_train)"
      ],
      "metadata": {
        "id": "gzl8-JY2YRBC",
        "colab": {
          "base_uri": "https://localhost:8080/"
        },
        "outputId": "cac48af8-bba4-426b-a861-d9bc2a5244eb"
      },
      "execution_count": null,
      "outputs": [
        {
          "output_type": "execute_result",
          "data": {
            "text/plain": [
              "SelectFromModel(estimator=RandomForestClassifier())"
            ]
          },
          "metadata": {},
          "execution_count": 126
        }
      ]
    },
    {
      "cell_type": "code",
      "source": [
        "sel.get_support()"
      ],
      "metadata": {
        "colab": {
          "base_uri": "https://localhost:8080/"
        },
        "id": "JyhstE1Ouuvw",
        "outputId": "e2b50758-59c7-4a4e-d23d-166a2512954c"
      },
      "execution_count": null,
      "outputs": [
        {
          "output_type": "execute_result",
          "data": {
            "text/plain": [
              "array([ True, False,  True,  True,  True, False,  True, False,  True,\n",
              "       False, False,  True,  True,  True,  True, False,  True, False,\n",
              "       False, False,  True,  True, False,  True,  True,  True,  True,\n",
              "       False, False, False, False, False, False, False, False, False,\n",
              "       False, False, False, False, False, False, False, False, False,\n",
              "       False, False, False])"
            ]
          },
          "metadata": {},
          "execution_count": 127
        }
      ]
    },
    {
      "cell_type": "code",
      "source": [
        "selected_feat= X_train.columns[(sel.get_support())]\n",
        "print(len(selected_feat))\n",
        "print(selected_feat)"
      ],
      "metadata": {
        "colab": {
          "base_uri": "https://localhost:8080/"
        },
        "id": "nGq16Cnou_3H",
        "outputId": "8d44eaf8-0164-4b17-f236-6c01571bd790"
      },
      "execution_count": null,
      "outputs": [
        {
          "output_type": "stream",
          "name": "stdout",
          "text": [
            "17\n",
            "Index(['Age', 'DailyRate', 'DistanceFromHome', 'Education',\n",
            "       'EnvironmentSatisfaction', 'HourlyRate', 'JobSatisfaction',\n",
            "       'MonthlyIncome', 'MonthlyRate', 'NumCompaniesWorked',\n",
            "       'PercentSalaryHike', 'TotalWorkingYears', 'TrainingTimesLastYear',\n",
            "       'YearsAtCompany', 'YearsInCurrentRole', 'YearsSinceLastPromotion',\n",
            "       'YearsWithCurrManager'],\n",
            "      dtype='object')\n"
          ]
        }
      ]
    },
    {
      "cell_type": "code",
      "source": [
        "X_train[selected_feat]"
      ],
      "metadata": {
        "colab": {
          "base_uri": "https://localhost:8080/",
          "height": 488
        },
        "id": "O9RcnFSGvOiJ",
        "outputId": "73247d0f-8671-40e8-df2a-96809d520455"
      },
      "execution_count": null,
      "outputs": [
        {
          "output_type": "execute_result",
          "data": {
            "text/plain": [
              "           Age  DailyRate  DistanceFromHome  Education  \\\n",
              "1405  0.547619   0.322119          0.107143       0.50   \n",
              "625   0.095238   0.352183          0.035714       0.00   \n",
              "997   0.380952   0.263422          0.035714       0.75   \n",
              "3671  0.428571   0.717967          0.821429       0.75   \n",
              "583   0.476190   0.352183          0.035714       0.25   \n",
              "...        ...        ...               ...        ...   \n",
              "474   0.833333   0.400143          0.000000       0.75   \n",
              "1528  0.500000   0.878311          0.107143       0.75   \n",
              "822   0.023810   0.143880          0.035714       0.50   \n",
              "1590  0.619048   0.713672          0.142857       0.50   \n",
              "4270  0.619048   0.199714          0.250000       0.50   \n",
              "\n",
              "      EnvironmentSatisfaction  HourlyRate  JobSatisfaction  MonthlyIncome  \\\n",
              "1405                 0.666667    0.428571         0.333333       0.285466   \n",
              "625                  0.666667    1.000000         1.000000       0.079726   \n",
              "997                  1.000000    0.771429         0.000000       0.260558   \n",
              "3671                 0.333333    0.242857         0.333333       0.245656   \n",
              "583                  0.666667    0.642857         0.333333       0.076830   \n",
              "...                       ...         ...              ...            ...   \n",
              "474                  0.000000    0.428571         0.666667       0.629595   \n",
              "1528                 1.000000    0.242857         0.666667       0.257662   \n",
              "822                  0.333333    0.242857         1.000000       0.004897   \n",
              "1590                 0.333333    0.828571         0.333333       0.905951   \n",
              "4270                 0.000000    0.271429         0.666667       0.142127   \n",
              "\n",
              "      MonthlyRate  NumCompaniesWorked  PercentSalaryHike  TotalWorkingYears  \\\n",
              "1405     0.750853            0.666667           0.571429           0.270270   \n",
              "625      0.690825            0.000000           0.214286           0.081081   \n",
              "997      0.867015            0.666667           0.142857           0.351351   \n",
              "3671     0.194057            0.777778           0.285714           0.297297   \n",
              "583      0.556876            0.444444           0.214286           0.243243   \n",
              "...           ...                 ...                ...                ...   \n",
              "474      0.811644            0.444444           0.642857           0.729730   \n",
              "1528     0.501747            0.444444           0.214286           0.459459   \n",
              "822      0.286970            0.111111           0.785714           0.027027   \n",
              "1590     0.267296            0.777778           0.000000           0.702703   \n",
              "4270     0.000402            0.222222           0.214286           0.243243   \n",
              "\n",
              "      TrainingTimesLastYear  YearsAtCompany  YearsInCurrentRole  \\\n",
              "1405               0.666667            0.15            0.133333   \n",
              "625                0.333333            0.10            0.066667   \n",
              "997                0.500000            0.55            0.600000   \n",
              "3671               0.500000            0.45            0.533333   \n",
              "583                0.666667            0.30            0.066667   \n",
              "...                     ...             ...                 ...   \n",
              "474                0.333333            0.15            0.200000   \n",
              "1528               0.166667            0.75            0.733333   \n",
              "822                0.500000            0.05            0.000000   \n",
              "1590               0.833333            0.25            0.600000   \n",
              "4270               0.833333            0.25            0.133333   \n",
              "\n",
              "      YearsSinceLastPromotion  YearsWithCurrManager  \n",
              "1405                 0.066667              0.133333  \n",
              "625                  0.133333              0.066667  \n",
              "997                  0.333333              0.600000  \n",
              "3671                 0.000000              0.533333  \n",
              "583                  0.000000              0.200000  \n",
              "...                       ...                   ...  \n",
              "474                  0.000000              0.133333  \n",
              "1528                 0.333333              0.200000  \n",
              "822                  0.066667              0.000000  \n",
              "1590                 0.200000              0.666667  \n",
              "4270                 0.066667              0.266667  \n",
              "\n",
              "[3226 rows x 17 columns]"
            ],
            "text/html": [
              "\n",
              "  <div id=\"df-c8861101-9e9b-4f0a-9b6e-290dcef1cf57\">\n",
              "    <div class=\"colab-df-container\">\n",
              "      <div>\n",
              "<style scoped>\n",
              "    .dataframe tbody tr th:only-of-type {\n",
              "        vertical-align: middle;\n",
              "    }\n",
              "\n",
              "    .dataframe tbody tr th {\n",
              "        vertical-align: top;\n",
              "    }\n",
              "\n",
              "    .dataframe thead th {\n",
              "        text-align: right;\n",
              "    }\n",
              "</style>\n",
              "<table border=\"1\" class=\"dataframe\">\n",
              "  <thead>\n",
              "    <tr style=\"text-align: right;\">\n",
              "      <th></th>\n",
              "      <th>Age</th>\n",
              "      <th>DailyRate</th>\n",
              "      <th>DistanceFromHome</th>\n",
              "      <th>Education</th>\n",
              "      <th>EnvironmentSatisfaction</th>\n",
              "      <th>HourlyRate</th>\n",
              "      <th>JobSatisfaction</th>\n",
              "      <th>MonthlyIncome</th>\n",
              "      <th>MonthlyRate</th>\n",
              "      <th>NumCompaniesWorked</th>\n",
              "      <th>PercentSalaryHike</th>\n",
              "      <th>TotalWorkingYears</th>\n",
              "      <th>TrainingTimesLastYear</th>\n",
              "      <th>YearsAtCompany</th>\n",
              "      <th>YearsInCurrentRole</th>\n",
              "      <th>YearsSinceLastPromotion</th>\n",
              "      <th>YearsWithCurrManager</th>\n",
              "    </tr>\n",
              "  </thead>\n",
              "  <tbody>\n",
              "    <tr>\n",
              "      <th>1405</th>\n",
              "      <td>0.547619</td>\n",
              "      <td>0.322119</td>\n",
              "      <td>0.107143</td>\n",
              "      <td>0.50</td>\n",
              "      <td>0.666667</td>\n",
              "      <td>0.428571</td>\n",
              "      <td>0.333333</td>\n",
              "      <td>0.285466</td>\n",
              "      <td>0.750853</td>\n",
              "      <td>0.666667</td>\n",
              "      <td>0.571429</td>\n",
              "      <td>0.270270</td>\n",
              "      <td>0.666667</td>\n",
              "      <td>0.15</td>\n",
              "      <td>0.133333</td>\n",
              "      <td>0.066667</td>\n",
              "      <td>0.133333</td>\n",
              "    </tr>\n",
              "    <tr>\n",
              "      <th>625</th>\n",
              "      <td>0.095238</td>\n",
              "      <td>0.352183</td>\n",
              "      <td>0.035714</td>\n",
              "      <td>0.00</td>\n",
              "      <td>0.666667</td>\n",
              "      <td>1.000000</td>\n",
              "      <td>1.000000</td>\n",
              "      <td>0.079726</td>\n",
              "      <td>0.690825</td>\n",
              "      <td>0.000000</td>\n",
              "      <td>0.214286</td>\n",
              "      <td>0.081081</td>\n",
              "      <td>0.333333</td>\n",
              "      <td>0.10</td>\n",
              "      <td>0.066667</td>\n",
              "      <td>0.133333</td>\n",
              "      <td>0.066667</td>\n",
              "    </tr>\n",
              "    <tr>\n",
              "      <th>997</th>\n",
              "      <td>0.380952</td>\n",
              "      <td>0.263422</td>\n",
              "      <td>0.035714</td>\n",
              "      <td>0.75</td>\n",
              "      <td>1.000000</td>\n",
              "      <td>0.771429</td>\n",
              "      <td>0.000000</td>\n",
              "      <td>0.260558</td>\n",
              "      <td>0.867015</td>\n",
              "      <td>0.666667</td>\n",
              "      <td>0.142857</td>\n",
              "      <td>0.351351</td>\n",
              "      <td>0.500000</td>\n",
              "      <td>0.55</td>\n",
              "      <td>0.600000</td>\n",
              "      <td>0.333333</td>\n",
              "      <td>0.600000</td>\n",
              "    </tr>\n",
              "    <tr>\n",
              "      <th>3671</th>\n",
              "      <td>0.428571</td>\n",
              "      <td>0.717967</td>\n",
              "      <td>0.821429</td>\n",
              "      <td>0.75</td>\n",
              "      <td>0.333333</td>\n",
              "      <td>0.242857</td>\n",
              "      <td>0.333333</td>\n",
              "      <td>0.245656</td>\n",
              "      <td>0.194057</td>\n",
              "      <td>0.777778</td>\n",
              "      <td>0.285714</td>\n",
              "      <td>0.297297</td>\n",
              "      <td>0.500000</td>\n",
              "      <td>0.45</td>\n",
              "      <td>0.533333</td>\n",
              "      <td>0.000000</td>\n",
              "      <td>0.533333</td>\n",
              "    </tr>\n",
              "    <tr>\n",
              "      <th>583</th>\n",
              "      <td>0.476190</td>\n",
              "      <td>0.352183</td>\n",
              "      <td>0.035714</td>\n",
              "      <td>0.25</td>\n",
              "      <td>0.666667</td>\n",
              "      <td>0.642857</td>\n",
              "      <td>0.333333</td>\n",
              "      <td>0.076830</td>\n",
              "      <td>0.556876</td>\n",
              "      <td>0.444444</td>\n",
              "      <td>0.214286</td>\n",
              "      <td>0.243243</td>\n",
              "      <td>0.666667</td>\n",
              "      <td>0.30</td>\n",
              "      <td>0.066667</td>\n",
              "      <td>0.000000</td>\n",
              "      <td>0.200000</td>\n",
              "    </tr>\n",
              "    <tr>\n",
              "      <th>...</th>\n",
              "      <td>...</td>\n",
              "      <td>...</td>\n",
              "      <td>...</td>\n",
              "      <td>...</td>\n",
              "      <td>...</td>\n",
              "      <td>...</td>\n",
              "      <td>...</td>\n",
              "      <td>...</td>\n",
              "      <td>...</td>\n",
              "      <td>...</td>\n",
              "      <td>...</td>\n",
              "      <td>...</td>\n",
              "      <td>...</td>\n",
              "      <td>...</td>\n",
              "      <td>...</td>\n",
              "      <td>...</td>\n",
              "      <td>...</td>\n",
              "    </tr>\n",
              "    <tr>\n",
              "      <th>474</th>\n",
              "      <td>0.833333</td>\n",
              "      <td>0.400143</td>\n",
              "      <td>0.000000</td>\n",
              "      <td>0.75</td>\n",
              "      <td>0.000000</td>\n",
              "      <td>0.428571</td>\n",
              "      <td>0.666667</td>\n",
              "      <td>0.629595</td>\n",
              "      <td>0.811644</td>\n",
              "      <td>0.444444</td>\n",
              "      <td>0.642857</td>\n",
              "      <td>0.729730</td>\n",
              "      <td>0.333333</td>\n",
              "      <td>0.15</td>\n",
              "      <td>0.200000</td>\n",
              "      <td>0.000000</td>\n",
              "      <td>0.133333</td>\n",
              "    </tr>\n",
              "    <tr>\n",
              "      <th>1528</th>\n",
              "      <td>0.500000</td>\n",
              "      <td>0.878311</td>\n",
              "      <td>0.107143</td>\n",
              "      <td>0.75</td>\n",
              "      <td>1.000000</td>\n",
              "      <td>0.242857</td>\n",
              "      <td>0.666667</td>\n",
              "      <td>0.257662</td>\n",
              "      <td>0.501747</td>\n",
              "      <td>0.444444</td>\n",
              "      <td>0.214286</td>\n",
              "      <td>0.459459</td>\n",
              "      <td>0.166667</td>\n",
              "      <td>0.75</td>\n",
              "      <td>0.733333</td>\n",
              "      <td>0.333333</td>\n",
              "      <td>0.200000</td>\n",
              "    </tr>\n",
              "    <tr>\n",
              "      <th>822</th>\n",
              "      <td>0.023810</td>\n",
              "      <td>0.143880</td>\n",
              "      <td>0.035714</td>\n",
              "      <td>0.50</td>\n",
              "      <td>0.333333</td>\n",
              "      <td>0.242857</td>\n",
              "      <td>1.000000</td>\n",
              "      <td>0.004897</td>\n",
              "      <td>0.286970</td>\n",
              "      <td>0.111111</td>\n",
              "      <td>0.785714</td>\n",
              "      <td>0.027027</td>\n",
              "      <td>0.500000</td>\n",
              "      <td>0.05</td>\n",
              "      <td>0.000000</td>\n",
              "      <td>0.066667</td>\n",
              "      <td>0.000000</td>\n",
              "    </tr>\n",
              "    <tr>\n",
              "      <th>1590</th>\n",
              "      <td>0.619048</td>\n",
              "      <td>0.713672</td>\n",
              "      <td>0.142857</td>\n",
              "      <td>0.50</td>\n",
              "      <td>0.333333</td>\n",
              "      <td>0.828571</td>\n",
              "      <td>0.333333</td>\n",
              "      <td>0.905951</td>\n",
              "      <td>0.267296</td>\n",
              "      <td>0.777778</td>\n",
              "      <td>0.000000</td>\n",
              "      <td>0.702703</td>\n",
              "      <td>0.833333</td>\n",
              "      <td>0.25</td>\n",
              "      <td>0.600000</td>\n",
              "      <td>0.200000</td>\n",
              "      <td>0.666667</td>\n",
              "    </tr>\n",
              "    <tr>\n",
              "      <th>4270</th>\n",
              "      <td>0.619048</td>\n",
              "      <td>0.199714</td>\n",
              "      <td>0.250000</td>\n",
              "      <td>0.50</td>\n",
              "      <td>0.000000</td>\n",
              "      <td>0.271429</td>\n",
              "      <td>0.666667</td>\n",
              "      <td>0.142127</td>\n",
              "      <td>0.000402</td>\n",
              "      <td>0.222222</td>\n",
              "      <td>0.214286</td>\n",
              "      <td>0.243243</td>\n",
              "      <td>0.833333</td>\n",
              "      <td>0.25</td>\n",
              "      <td>0.133333</td>\n",
              "      <td>0.066667</td>\n",
              "      <td>0.266667</td>\n",
              "    </tr>\n",
              "  </tbody>\n",
              "</table>\n",
              "<p>3226 rows × 17 columns</p>\n",
              "</div>\n",
              "      <button class=\"colab-df-convert\" onclick=\"convertToInteractive('df-c8861101-9e9b-4f0a-9b6e-290dcef1cf57')\"\n",
              "              title=\"Convert this dataframe to an interactive table.\"\n",
              "              style=\"display:none;\">\n",
              "        \n",
              "  <svg xmlns=\"http://www.w3.org/2000/svg\" height=\"24px\"viewBox=\"0 0 24 24\"\n",
              "       width=\"24px\">\n",
              "    <path d=\"M0 0h24v24H0V0z\" fill=\"none\"/>\n",
              "    <path d=\"M18.56 5.44l.94 2.06.94-2.06 2.06-.94-2.06-.94-.94-2.06-.94 2.06-2.06.94zm-11 1L8.5 8.5l.94-2.06 2.06-.94-2.06-.94L8.5 2.5l-.94 2.06-2.06.94zm10 10l.94 2.06.94-2.06 2.06-.94-2.06-.94-.94-2.06-.94 2.06-2.06.94z\"/><path d=\"M17.41 7.96l-1.37-1.37c-.4-.4-.92-.59-1.43-.59-.52 0-1.04.2-1.43.59L10.3 9.45l-7.72 7.72c-.78.78-.78 2.05 0 2.83L4 21.41c.39.39.9.59 1.41.59.51 0 1.02-.2 1.41-.59l7.78-7.78 2.81-2.81c.8-.78.8-2.07 0-2.86zM5.41 20L4 18.59l7.72-7.72 1.47 1.35L5.41 20z\"/>\n",
              "  </svg>\n",
              "      </button>\n",
              "      \n",
              "  <style>\n",
              "    .colab-df-container {\n",
              "      display:flex;\n",
              "      flex-wrap:wrap;\n",
              "      gap: 12px;\n",
              "    }\n",
              "\n",
              "    .colab-df-convert {\n",
              "      background-color: #E8F0FE;\n",
              "      border: none;\n",
              "      border-radius: 50%;\n",
              "      cursor: pointer;\n",
              "      display: none;\n",
              "      fill: #1967D2;\n",
              "      height: 32px;\n",
              "      padding: 0 0 0 0;\n",
              "      width: 32px;\n",
              "    }\n",
              "\n",
              "    .colab-df-convert:hover {\n",
              "      background-color: #E2EBFA;\n",
              "      box-shadow: 0px 1px 2px rgba(60, 64, 67, 0.3), 0px 1px 3px 1px rgba(60, 64, 67, 0.15);\n",
              "      fill: #174EA6;\n",
              "    }\n",
              "\n",
              "    [theme=dark] .colab-df-convert {\n",
              "      background-color: #3B4455;\n",
              "      fill: #D2E3FC;\n",
              "    }\n",
              "\n",
              "    [theme=dark] .colab-df-convert:hover {\n",
              "      background-color: #434B5C;\n",
              "      box-shadow: 0px 1px 3px 1px rgba(0, 0, 0, 0.15);\n",
              "      filter: drop-shadow(0px 1px 2px rgba(0, 0, 0, 0.3));\n",
              "      fill: #FFFFFF;\n",
              "    }\n",
              "  </style>\n",
              "\n",
              "      <script>\n",
              "        const buttonEl =\n",
              "          document.querySelector('#df-c8861101-9e9b-4f0a-9b6e-290dcef1cf57 button.colab-df-convert');\n",
              "        buttonEl.style.display =\n",
              "          google.colab.kernel.accessAllowed ? 'block' : 'none';\n",
              "\n",
              "        async function convertToInteractive(key) {\n",
              "          const element = document.querySelector('#df-c8861101-9e9b-4f0a-9b6e-290dcef1cf57');\n",
              "          const dataTable =\n",
              "            await google.colab.kernel.invokeFunction('convertToInteractive',\n",
              "                                                     [key], {});\n",
              "          if (!dataTable) return;\n",
              "\n",
              "          const docLinkHtml = 'Like what you see? Visit the ' +\n",
              "            '<a target=\"_blank\" href=https://colab.research.google.com/notebooks/data_table.ipynb>data table notebook</a>'\n",
              "            + ' to learn more about interactive tables.';\n",
              "          element.innerHTML = '';\n",
              "          dataTable['output_type'] = 'display_data';\n",
              "          await google.colab.output.renderOutput(dataTable, element);\n",
              "          const docLink = document.createElement('div');\n",
              "          docLink.innerHTML = docLinkHtml;\n",
              "          element.appendChild(docLink);\n",
              "        }\n",
              "      </script>\n",
              "    </div>\n",
              "  </div>\n",
              "  "
            ]
          },
          "metadata": {},
          "execution_count": 129
        }
      ]
    },
    {
      "cell_type": "code",
      "source": [
        "sel.estimator_"
      ],
      "metadata": {
        "colab": {
          "base_uri": "https://localhost:8080/"
        },
        "id": "Bw11LUaIvXXu",
        "outputId": "94a9b66a-2179-468d-fb81-e213158964d1"
      },
      "execution_count": null,
      "outputs": [
        {
          "output_type": "execute_result",
          "data": {
            "text/plain": [
              "RandomForestClassifier()"
            ]
          },
          "metadata": {},
          "execution_count": 130
        }
      ]
    },
    {
      "cell_type": "code",
      "source": [
        "custom_RF= RandomForestClassifier()"
      ],
      "metadata": {
        "id": "6XjkqU_0vpQ0"
      },
      "execution_count": null,
      "outputs": []
    },
    {
      "cell_type": "code",
      "source": [
        "custom_RF.fit(X_train[selected_feat], y_train)"
      ],
      "metadata": {
        "colab": {
          "base_uri": "https://localhost:8080/"
        },
        "id": "3aeiUEJPv6fd",
        "outputId": "1305925b-34d8-446e-cb3d-1bdcc83fa388"
      },
      "execution_count": null,
      "outputs": [
        {
          "output_type": "execute_result",
          "data": {
            "text/plain": [
              "RandomForestClassifier()"
            ]
          },
          "metadata": {},
          "execution_count": 132
        }
      ]
    },
    {
      "cell_type": "code",
      "source": [
        "preds = custom_RF.predict(X_test[selected_feat])"
      ],
      "metadata": {
        "id": "C90_Ayv2wDnM"
      },
      "execution_count": null,
      "outputs": []
    },
    {
      "cell_type": "code",
      "source": [
        "np.mean(preds == y_test)"
      ],
      "metadata": {
        "colab": {
          "base_uri": "https://localhost:8080/"
        },
        "id": "4cKf185lwQ5M",
        "outputId": "91a61240-c956-4043-ca23-7d92254c4319"
      },
      "execution_count": null,
      "outputs": [
        {
          "output_type": "execute_result",
          "data": {
            "text/plain": [
              "0.4879182156133829"
            ]
          },
          "metadata": {},
          "execution_count": 134
        }
      ]
    },
    {
      "cell_type": "code",
      "source": [
        "random_forest.fit(X_train,y_train)"
      ],
      "metadata": {
        "id": "usyJERxJq41V",
        "colab": {
          "base_uri": "https://localhost:8080/"
        },
        "outputId": "2c6f51cb-435f-4e0a-837a-87e31de15d9e"
      },
      "execution_count": null,
      "outputs": [
        {
          "output_type": "execute_result",
          "data": {
            "text/plain": [
              "RandomForestClassifier(max_depth=50, random_state=123)"
            ]
          },
          "metadata": {},
          "execution_count": 135
        }
      ]
    },
    {
      "cell_type": "code",
      "source": [
        "y_pred_rf= random_forest.predict(X_test)"
      ],
      "metadata": {
        "id": "VNC4hE-drFJc"
      },
      "execution_count": null,
      "outputs": []
    },
    {
      "cell_type": "code",
      "source": [
        "accuracy_score(y_test,y_pred_rf)"
      ],
      "metadata": {
        "colab": {
          "base_uri": "https://localhost:8080/"
        },
        "id": "nYhC4y_msFKx",
        "outputId": "ce488eea-af70-499f-f357-4001efac8cbd"
      },
      "execution_count": null,
      "outputs": [
        {
          "output_type": "execute_result",
          "data": {
            "text/plain": [
              "0.4879182156133829"
            ]
          },
          "metadata": {},
          "execution_count": 137
        }
      ]
    },
    {
      "cell_type": "code",
      "source": [
        "feature_scores= pd.Series(random_forest.feature_importances_, index= X_train.columns).sort_values(ascending=False)"
      ],
      "metadata": {
        "id": "rnG8XpPKxFlv"
      },
      "execution_count": null,
      "outputs": []
    },
    {
      "cell_type": "code",
      "source": [
        "feature_scores.head(17)"
      ],
      "metadata": {
        "colab": {
          "base_uri": "https://localhost:8080/"
        },
        "id": "K0QR1wCwx3rT",
        "outputId": "f57236e0-0325-47ec-c73f-c4ccf1264b96"
      },
      "execution_count": null,
      "outputs": [
        {
          "output_type": "execute_result",
          "data": {
            "text/plain": [
              "Age                        0.067696\n",
              "DistanceFromHome           0.066437\n",
              "TotalWorkingYears          0.060400\n",
              "MonthlyRate                0.056265\n",
              "YearsWithCurrManager       0.054367\n",
              "YearsInCurrentRole         0.054209\n",
              "DailyRate                  0.053935\n",
              "YearsAtCompany             0.052491\n",
              "MonthlyIncome              0.052136\n",
              "HourlyRate                 0.049497\n",
              "YearsSinceLastPromotion    0.048293\n",
              "PercentSalaryHike          0.036586\n",
              "NumCompaniesWorked         0.029328\n",
              "TrainingTimesLastYear      0.025370\n",
              "Education                  0.022173\n",
              "JobSatisfaction            0.020939\n",
              "EnvironmentSatisfaction    0.020699\n",
              "dtype: float64"
            ]
          },
          "metadata": {},
          "execution_count": 140
        }
      ]
    },
    {
      "cell_type": "markdown",
      "source": [
        "kNN"
      ],
      "metadata": {
        "id": "cpnrxUIj56rE"
      }
    },
    {
      "cell_type": "code",
      "source": [
        "from sklearn.neighbors import KNeighborsClassifier"
      ],
      "metadata": {
        "id": "E8SyFiu255hb"
      },
      "execution_count": null,
      "outputs": []
    },
    {
      "cell_type": "code",
      "source": [
        "knn = KNeighborsClassifier(n_neighbors = 5, metric='euclidean')"
      ],
      "metadata": {
        "id": "D4VZ4st_WnfW"
      },
      "execution_count": null,
      "outputs": []
    },
    {
      "cell_type": "code",
      "source": [
        "knn.fit(X_train[relevant_cols], y_train)"
      ],
      "metadata": {
        "id": "5al4z7eHWqde"
      },
      "execution_count": null,
      "outputs": []
    },
    {
      "cell_type": "code",
      "source": [
        "y_pred_knn = knn.predict(X_test[relevant_cols])"
      ],
      "metadata": {
        "id": "DFsoh-fgWsjm"
      },
      "execution_count": null,
      "outputs": []
    }
  ]
}